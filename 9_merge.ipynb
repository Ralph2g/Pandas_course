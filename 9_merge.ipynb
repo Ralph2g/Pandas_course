{
  "nbformat": 4,
  "nbformat_minor": 0,
  "metadata": {
    "colab": {
      "name": "9. merge.ipynb",
      "provenance": [],
      "collapsed_sections": [],
      "authorship_tag": "ABX9TyPKVlguA52QDtsGAH9EU4E1",
      "include_colab_link": true
    },
    "kernelspec": {
      "name": "python3",
      "display_name": "Python 3"
    }
  },
  "cells": [
    {
      "cell_type": "markdown",
      "metadata": {
        "id": "view-in-github",
        "colab_type": "text"
      },
      "source": [
        "<a href=\"https://colab.research.google.com/github/Ralph2g/Pandas_course/blob/master/9_merge.ipynb\" target=\"_parent\"><img src=\"https://colab.research.google.com/assets/colab-badge.svg\" alt=\"Open In Colab\"/></a>"
      ]
    },
    {
      "cell_type": "code",
      "metadata": {
        "id": "76_3CrFByNHp",
        "colab_type": "code",
        "colab": {
          "base_uri": "https://localhost:8080/",
          "height": 166
        },
        "outputId": "58a021fd-6bf9-4cc7-d7f3-167b2d48c951"
      },
      "source": [
        "import pandas as pd\n",
        "\n",
        "df_left = pd.DataFrame(\n",
        "                      {'X': ['x0', 'x1', 'x2', 'x3'],\n",
        "                        'W': ['w0', 'w1', 'w2', 'w3'], \n",
        "                        'Y': ['y0', 'y1', 'y2', 'y3'],\n",
        "                       'Mix': ['y2','y3','a2','a3'] },\n",
        "                       index=[0,1,2,3])\n",
        "df_left"
      ],
      "execution_count": 6,
      "outputs": [
        {
          "output_type": "execute_result",
          "data": {
            "text/html": [
              "<div>\n",
              "<style scoped>\n",
              "    .dataframe tbody tr th:only-of-type {\n",
              "        vertical-align: middle;\n",
              "    }\n",
              "\n",
              "    .dataframe tbody tr th {\n",
              "        vertical-align: top;\n",
              "    }\n",
              "\n",
              "    .dataframe thead th {\n",
              "        text-align: right;\n",
              "    }\n",
              "</style>\n",
              "<table border=\"1\" class=\"dataframe\">\n",
              "  <thead>\n",
              "    <tr style=\"text-align: right;\">\n",
              "      <th></th>\n",
              "      <th>X</th>\n",
              "      <th>W</th>\n",
              "      <th>Y</th>\n",
              "      <th>Mix</th>\n",
              "    </tr>\n",
              "  </thead>\n",
              "  <tbody>\n",
              "    <tr>\n",
              "      <th>0</th>\n",
              "      <td>x0</td>\n",
              "      <td>w0</td>\n",
              "      <td>y0</td>\n",
              "      <td>y2</td>\n",
              "    </tr>\n",
              "    <tr>\n",
              "      <th>1</th>\n",
              "      <td>x1</td>\n",
              "      <td>w1</td>\n",
              "      <td>y1</td>\n",
              "      <td>y3</td>\n",
              "    </tr>\n",
              "    <tr>\n",
              "      <th>2</th>\n",
              "      <td>x2</td>\n",
              "      <td>w2</td>\n",
              "      <td>y2</td>\n",
              "      <td>a2</td>\n",
              "    </tr>\n",
              "    <tr>\n",
              "      <th>3</th>\n",
              "      <td>x3</td>\n",
              "      <td>w3</td>\n",
              "      <td>y3</td>\n",
              "      <td>a3</td>\n",
              "    </tr>\n",
              "  </tbody>\n",
              "</table>\n",
              "</div>"
            ],
            "text/plain": [
              "    X   W   Y Mix\n",
              "0  x0  w0  y0  y2\n",
              "1  x1  w1  y1  y3\n",
              "2  x2  w2  y2  a2\n",
              "3  x3  w3  y3  a3"
            ]
          },
          "metadata": {
            "tags": []
          },
          "execution_count": 6
        }
      ]
    },
    {
      "cell_type": "code",
      "metadata": {
        "id": "MKNm8n4-ybfu",
        "colab_type": "code",
        "colab": {
          "base_uri": "https://localhost:8080/",
          "height": 166
        },
        "outputId": "2c4142b8-53bf-4adf-acaa-44ce5d691ddd"
      },
      "source": [
        "df_right = pd.DataFrame(\n",
        "                       {'Z': ['z2', 'z3', 'z4', 'z5'],\n",
        "                         'A': ['a2', 'a3', 'a4', 'a5'], \n",
        "                         'Y': ['y2', 'y3', 'y4', 'y5']},\n",
        "                        index=[2,3,4,5])\n",
        "df_right"
      ],
      "execution_count": 7,
      "outputs": [
        {
          "output_type": "execute_result",
          "data": {
            "text/html": [
              "<div>\n",
              "<style scoped>\n",
              "    .dataframe tbody tr th:only-of-type {\n",
              "        vertical-align: middle;\n",
              "    }\n",
              "\n",
              "    .dataframe tbody tr th {\n",
              "        vertical-align: top;\n",
              "    }\n",
              "\n",
              "    .dataframe thead th {\n",
              "        text-align: right;\n",
              "    }\n",
              "</style>\n",
              "<table border=\"1\" class=\"dataframe\">\n",
              "  <thead>\n",
              "    <tr style=\"text-align: right;\">\n",
              "      <th></th>\n",
              "      <th>Z</th>\n",
              "      <th>A</th>\n",
              "      <th>Y</th>\n",
              "    </tr>\n",
              "  </thead>\n",
              "  <tbody>\n",
              "    <tr>\n",
              "      <th>2</th>\n",
              "      <td>z2</td>\n",
              "      <td>a2</td>\n",
              "      <td>y2</td>\n",
              "    </tr>\n",
              "    <tr>\n",
              "      <th>3</th>\n",
              "      <td>z3</td>\n",
              "      <td>a3</td>\n",
              "      <td>y3</td>\n",
              "    </tr>\n",
              "    <tr>\n",
              "      <th>4</th>\n",
              "      <td>z4</td>\n",
              "      <td>a4</td>\n",
              "      <td>y4</td>\n",
              "    </tr>\n",
              "    <tr>\n",
              "      <th>5</th>\n",
              "      <td>z5</td>\n",
              "      <td>a5</td>\n",
              "      <td>y5</td>\n",
              "    </tr>\n",
              "  </tbody>\n",
              "</table>\n",
              "</div>"
            ],
            "text/plain": [
              "    Z   A   Y\n",
              "2  z2  a2  y2\n",
              "3  z3  a3  y3\n",
              "4  z4  a4  y4\n",
              "5  z5  a5  y5"
            ]
          },
          "metadata": {
            "tags": []
          },
          "execution_count": 7
        }
      ]
    },
    {
      "cell_type": "code",
      "metadata": {
        "id": "T0CdzcPfygc1",
        "colab_type": "code",
        "colab": {
          "base_uri": "https://localhost:8080/",
          "height": 106
        },
        "outputId": "86174185-f32e-466f-9725-36efd8099dbb"
      },
      "source": [
        "pd.merge(df_left, df_right)"
      ],
      "execution_count": 8,
      "outputs": [
        {
          "output_type": "execute_result",
          "data": {
            "text/html": [
              "<div>\n",
              "<style scoped>\n",
              "    .dataframe tbody tr th:only-of-type {\n",
              "        vertical-align: middle;\n",
              "    }\n",
              "\n",
              "    .dataframe tbody tr th {\n",
              "        vertical-align: top;\n",
              "    }\n",
              "\n",
              "    .dataframe thead th {\n",
              "        text-align: right;\n",
              "    }\n",
              "</style>\n",
              "<table border=\"1\" class=\"dataframe\">\n",
              "  <thead>\n",
              "    <tr style=\"text-align: right;\">\n",
              "      <th></th>\n",
              "      <th>X</th>\n",
              "      <th>W</th>\n",
              "      <th>Y</th>\n",
              "      <th>Mix</th>\n",
              "      <th>Z</th>\n",
              "      <th>A</th>\n",
              "    </tr>\n",
              "  </thead>\n",
              "  <tbody>\n",
              "    <tr>\n",
              "      <th>0</th>\n",
              "      <td>x2</td>\n",
              "      <td>w2</td>\n",
              "      <td>y2</td>\n",
              "      <td>a2</td>\n",
              "      <td>z2</td>\n",
              "      <td>a2</td>\n",
              "    </tr>\n",
              "    <tr>\n",
              "      <th>1</th>\n",
              "      <td>x3</td>\n",
              "      <td>w3</td>\n",
              "      <td>y3</td>\n",
              "      <td>a3</td>\n",
              "      <td>z3</td>\n",
              "      <td>a3</td>\n",
              "    </tr>\n",
              "  </tbody>\n",
              "</table>\n",
              "</div>"
            ],
            "text/plain": [
              "    X   W   Y Mix   Z   A\n",
              "0  x2  w2  y2  a2  z2  a2\n",
              "1  x3  w3  y3  a3  z3  a3"
            ]
          },
          "metadata": {
            "tags": []
          },
          "execution_count": 8
        }
      ]
    },
    {
      "cell_type": "code",
      "metadata": {
        "id": "MgNQeBFt1k6d",
        "colab_type": "code",
        "colab": {
          "base_uri": "https://localhost:8080/",
          "height": 106
        },
        "outputId": "fcb303b9-f67e-4d28-ad07-3c5779291d9a"
      },
      "source": [
        "# Unimos nuestros dataframes y retorna uno nuevo donde coincidieron las cols\n",
        "pd.merge(df_left,df_right)"
      ],
      "execution_count": 9,
      "outputs": [
        {
          "output_type": "execute_result",
          "data": {
            "text/html": [
              "<div>\n",
              "<style scoped>\n",
              "    .dataframe tbody tr th:only-of-type {\n",
              "        vertical-align: middle;\n",
              "    }\n",
              "\n",
              "    .dataframe tbody tr th {\n",
              "        vertical-align: top;\n",
              "    }\n",
              "\n",
              "    .dataframe thead th {\n",
              "        text-align: right;\n",
              "    }\n",
              "</style>\n",
              "<table border=\"1\" class=\"dataframe\">\n",
              "  <thead>\n",
              "    <tr style=\"text-align: right;\">\n",
              "      <th></th>\n",
              "      <th>X</th>\n",
              "      <th>W</th>\n",
              "      <th>Y</th>\n",
              "      <th>Mix</th>\n",
              "      <th>Z</th>\n",
              "      <th>A</th>\n",
              "    </tr>\n",
              "  </thead>\n",
              "  <tbody>\n",
              "    <tr>\n",
              "      <th>0</th>\n",
              "      <td>x2</td>\n",
              "      <td>w2</td>\n",
              "      <td>y2</td>\n",
              "      <td>a2</td>\n",
              "      <td>z2</td>\n",
              "      <td>a2</td>\n",
              "    </tr>\n",
              "    <tr>\n",
              "      <th>1</th>\n",
              "      <td>x3</td>\n",
              "      <td>w3</td>\n",
              "      <td>y3</td>\n",
              "      <td>a3</td>\n",
              "      <td>z3</td>\n",
              "      <td>a3</td>\n",
              "    </tr>\n",
              "  </tbody>\n",
              "</table>\n",
              "</div>"
            ],
            "text/plain": [
              "    X   W   Y Mix   Z   A\n",
              "0  x2  w2  y2  a2  z2  a2\n",
              "1  x3  w3  y3  a3  z3  a3"
            ]
          },
          "metadata": {
            "tags": []
          },
          "execution_count": 9
        }
      ]
    },
    {
      "cell_type": "code",
      "metadata": {
        "id": "7glT_HvG1rxX",
        "colab_type": "code",
        "colab": {
          "base_uri": "https://localhost:8080/",
          "height": 106
        },
        "outputId": "e2b73fe3-b5ca-491f-8074-e4d5fc5eda90"
      },
      "source": [
        "# Se tienen que especificar los arametros si queremos hacer el merge con una buena practica\n",
        "pd.merge(df_left,df_right,how='inner',on='Y')"
      ],
      "execution_count": 16,
      "outputs": [
        {
          "output_type": "execute_result",
          "data": {
            "text/html": [
              "<div>\n",
              "<style scoped>\n",
              "    .dataframe tbody tr th:only-of-type {\n",
              "        vertical-align: middle;\n",
              "    }\n",
              "\n",
              "    .dataframe tbody tr th {\n",
              "        vertical-align: top;\n",
              "    }\n",
              "\n",
              "    .dataframe thead th {\n",
              "        text-align: right;\n",
              "    }\n",
              "</style>\n",
              "<table border=\"1\" class=\"dataframe\">\n",
              "  <thead>\n",
              "    <tr style=\"text-align: right;\">\n",
              "      <th></th>\n",
              "      <th>X</th>\n",
              "      <th>W</th>\n",
              "      <th>Y</th>\n",
              "      <th>Mix</th>\n",
              "      <th>Z</th>\n",
              "      <th>A</th>\n",
              "    </tr>\n",
              "  </thead>\n",
              "  <tbody>\n",
              "    <tr>\n",
              "      <th>0</th>\n",
              "      <td>x2</td>\n",
              "      <td>w2</td>\n",
              "      <td>y2</td>\n",
              "      <td>a2</td>\n",
              "      <td>z2</td>\n",
              "      <td>a2</td>\n",
              "    </tr>\n",
              "    <tr>\n",
              "      <th>1</th>\n",
              "      <td>x3</td>\n",
              "      <td>w3</td>\n",
              "      <td>y3</td>\n",
              "      <td>a3</td>\n",
              "      <td>z3</td>\n",
              "      <td>a3</td>\n",
              "    </tr>\n",
              "  </tbody>\n",
              "</table>\n",
              "</div>"
            ],
            "text/plain": [
              "    X   W   Y Mix   Z   A\n",
              "0  x2  w2  y2  a2  z2  a2\n",
              "1  x3  w3  y3  a3  z3  a3"
            ]
          },
          "metadata": {
            "tags": []
          },
          "execution_count": 16
        }
      ]
    },
    {
      "cell_type": "code",
      "metadata": {
        "id": "YFnGSo9G39Ko",
        "colab_type": "code",
        "colab": {
          "base_uri": "https://localhost:8080/",
          "height": 106
        },
        "outputId": "b726eec6-434c-4b4f-fef7-f9a28ad71923"
      },
      "source": [
        "# aqui especificamos que columnas una columna Base en este caso es MIX\n",
        "# en right on va a buscar donde coincide con la columna Y\n",
        "# devuelve el dataframe en la pocisión donde coincidieron ambas columnas\n",
        "\n",
        "# Como la columna Y es se repite en ambos DF los muestra con un subindice\n",
        "\n",
        "pd.merge(df_left,df_right,how='inner',left_on='Mix',right_on='Y')"
      ],
      "execution_count": 18,
      "outputs": [
        {
          "output_type": "execute_result",
          "data": {
            "text/html": [
              "<div>\n",
              "<style scoped>\n",
              "    .dataframe tbody tr th:only-of-type {\n",
              "        vertical-align: middle;\n",
              "    }\n",
              "\n",
              "    .dataframe tbody tr th {\n",
              "        vertical-align: top;\n",
              "    }\n",
              "\n",
              "    .dataframe thead th {\n",
              "        text-align: right;\n",
              "    }\n",
              "</style>\n",
              "<table border=\"1\" class=\"dataframe\">\n",
              "  <thead>\n",
              "    <tr style=\"text-align: right;\">\n",
              "      <th></th>\n",
              "      <th>X</th>\n",
              "      <th>W</th>\n",
              "      <th>Y_x</th>\n",
              "      <th>Mix</th>\n",
              "      <th>Z</th>\n",
              "      <th>A</th>\n",
              "      <th>Y_y</th>\n",
              "    </tr>\n",
              "  </thead>\n",
              "  <tbody>\n",
              "    <tr>\n",
              "      <th>0</th>\n",
              "      <td>x0</td>\n",
              "      <td>w0</td>\n",
              "      <td>y0</td>\n",
              "      <td>y2</td>\n",
              "      <td>z2</td>\n",
              "      <td>a2</td>\n",
              "      <td>y2</td>\n",
              "    </tr>\n",
              "    <tr>\n",
              "      <th>1</th>\n",
              "      <td>x1</td>\n",
              "      <td>w1</td>\n",
              "      <td>y1</td>\n",
              "      <td>y3</td>\n",
              "      <td>z3</td>\n",
              "      <td>a3</td>\n",
              "      <td>y3</td>\n",
              "    </tr>\n",
              "  </tbody>\n",
              "</table>\n",
              "</div>"
            ],
            "text/plain": [
              "    X   W Y_x Mix   Z   A Y_y\n",
              "0  x0  w0  y0  y2  z2  a2  y2\n",
              "1  x1  w1  y1  y3  z3  a3  y3"
            ]
          },
          "metadata": {
            "tags": []
          },
          "execution_count": 18
        }
      ]
    },
    {
      "cell_type": "code",
      "metadata": {
        "id": "4ZaSUjsG47hY",
        "colab_type": "code",
        "colab": {
          "base_uri": "https://localhost:8080/",
          "height": 106
        },
        "outputId": "d1115bc9-ad11-42f9-edba-f39beaea1ef7"
      },
      "source": [
        "# Hagamos lo mismo pero viendo que elementos de la columna A se repiten en mi\n",
        "# Columna Y\n",
        "pd.merge(df_left,df_right,how='inner',left_on='Mix',right_on='A')"
      ],
      "execution_count": 19,
      "outputs": [
        {
          "output_type": "execute_result",
          "data": {
            "text/html": [
              "<div>\n",
              "<style scoped>\n",
              "    .dataframe tbody tr th:only-of-type {\n",
              "        vertical-align: middle;\n",
              "    }\n",
              "\n",
              "    .dataframe tbody tr th {\n",
              "        vertical-align: top;\n",
              "    }\n",
              "\n",
              "    .dataframe thead th {\n",
              "        text-align: right;\n",
              "    }\n",
              "</style>\n",
              "<table border=\"1\" class=\"dataframe\">\n",
              "  <thead>\n",
              "    <tr style=\"text-align: right;\">\n",
              "      <th></th>\n",
              "      <th>X</th>\n",
              "      <th>W</th>\n",
              "      <th>Y_x</th>\n",
              "      <th>Mix</th>\n",
              "      <th>Z</th>\n",
              "      <th>A</th>\n",
              "      <th>Y_y</th>\n",
              "    </tr>\n",
              "  </thead>\n",
              "  <tbody>\n",
              "    <tr>\n",
              "      <th>0</th>\n",
              "      <td>x2</td>\n",
              "      <td>w2</td>\n",
              "      <td>y2</td>\n",
              "      <td>a2</td>\n",
              "      <td>z2</td>\n",
              "      <td>a2</td>\n",
              "      <td>y2</td>\n",
              "    </tr>\n",
              "    <tr>\n",
              "      <th>1</th>\n",
              "      <td>x3</td>\n",
              "      <td>w3</td>\n",
              "      <td>y3</td>\n",
              "      <td>a3</td>\n",
              "      <td>z3</td>\n",
              "      <td>a3</td>\n",
              "      <td>y3</td>\n",
              "    </tr>\n",
              "  </tbody>\n",
              "</table>\n",
              "</div>"
            ],
            "text/plain": [
              "    X   W Y_x Mix   Z   A Y_y\n",
              "0  x2  w2  y2  a2  z2  a2  y2\n",
              "1  x3  w3  y3  a3  z3  a3  y3"
            ]
          },
          "metadata": {
            "tags": []
          },
          "execution_count": 19
        }
      ]
    },
    {
      "cell_type": "markdown",
      "metadata": {
        "id": "_eT0EhAk1rHo",
        "colab_type": "text"
      },
      "source": [
        "![](http://www.datasciencemadesimple.com/wp-content/uploads/2017/09/join-or-merge-in-python-pandas-1.png)"
      ]
    },
    {
      "cell_type": "code",
      "metadata": {
        "id": "i6xGr1oE5NlW",
        "colab_type": "code",
        "colab": {}
      },
      "source": [
        "# Vamos a simplificar nuestro Dataframe con las siguientes variables"
      ],
      "execution_count": null,
      "outputs": []
    },
    {
      "cell_type": "code",
      "metadata": {
        "id": "k3VLNcjx5TXx",
        "colab_type": "code",
        "colab": {}
      },
      "source": [
        "df_left = pd.DataFrame(\n",
        "                      {'X': ['x0', 'x1', 'x2', 'x3'],\n",
        "                        'W': ['w0', 'w1', 'w2', 'w3'], \n",
        "                        'Y': ['y0', 'y1', 'y2', 'y3'] },\n",
        "                       index=[0,1,2,3])\n",
        "df_right = pd.DataFrame(\n",
        "                       {'Z': ['z2', 'z3', 'z4', 'z5'],\n",
        "                         'A': ['a2', 'a3', 'a4', 'a5'], \n",
        "                         'Y': ['y2', 'y3', 'y4', 'y5']},\n",
        "                        index=[2,3,4,5])"
      ],
      "execution_count": 22,
      "outputs": []
    },
    {
      "cell_type": "code",
      "metadata": {
        "id": "QLc1s4MC5TSV",
        "colab_type": "code",
        "colab": {
          "base_uri": "https://localhost:8080/",
          "height": 106
        },
        "outputId": "455852ce-4409-4c37-e511-29e0cc9b26ef"
      },
      "source": [
        "pd.merge(df_left,df_right,how='inner',on='Y')"
      ],
      "execution_count": 23,
      "outputs": [
        {
          "output_type": "execute_result",
          "data": {
            "text/html": [
              "<div>\n",
              "<style scoped>\n",
              "    .dataframe tbody tr th:only-of-type {\n",
              "        vertical-align: middle;\n",
              "    }\n",
              "\n",
              "    .dataframe tbody tr th {\n",
              "        vertical-align: top;\n",
              "    }\n",
              "\n",
              "    .dataframe thead th {\n",
              "        text-align: right;\n",
              "    }\n",
              "</style>\n",
              "<table border=\"1\" class=\"dataframe\">\n",
              "  <thead>\n",
              "    <tr style=\"text-align: right;\">\n",
              "      <th></th>\n",
              "      <th>X</th>\n",
              "      <th>W</th>\n",
              "      <th>Y</th>\n",
              "      <th>Z</th>\n",
              "      <th>A</th>\n",
              "    </tr>\n",
              "  </thead>\n",
              "  <tbody>\n",
              "    <tr>\n",
              "      <th>0</th>\n",
              "      <td>x2</td>\n",
              "      <td>w2</td>\n",
              "      <td>y2</td>\n",
              "      <td>z2</td>\n",
              "      <td>a2</td>\n",
              "    </tr>\n",
              "    <tr>\n",
              "      <th>1</th>\n",
              "      <td>x3</td>\n",
              "      <td>w3</td>\n",
              "      <td>y3</td>\n",
              "      <td>z3</td>\n",
              "      <td>a3</td>\n",
              "    </tr>\n",
              "  </tbody>\n",
              "</table>\n",
              "</div>"
            ],
            "text/plain": [
              "    X   W   Y   Z   A\n",
              "0  x2  w2  y2  z2  a2\n",
              "1  x3  w3  y3  z3  a3"
            ]
          },
          "metadata": {
            "tags": []
          },
          "execution_count": 23
        }
      ]
    },
    {
      "cell_type": "code",
      "metadata": {
        "id": "1VhNSLz05TO-",
        "colab_type": "code",
        "colab": {
          "base_uri": "https://localhost:8080/",
          "height": 166
        },
        "outputId": "18f34a3b-ba4a-4ab8-ddaf-fe944e53a541"
      },
      "source": [
        "# Dejamos el df de la izq intacto y se le añaden los elementos del df de la derecha\n",
        "\n",
        "pd.merge(df_left,df_right,how='left',on='Y')"
      ],
      "execution_count": 24,
      "outputs": [
        {
          "output_type": "execute_result",
          "data": {
            "text/html": [
              "<div>\n",
              "<style scoped>\n",
              "    .dataframe tbody tr th:only-of-type {\n",
              "        vertical-align: middle;\n",
              "    }\n",
              "\n",
              "    .dataframe tbody tr th {\n",
              "        vertical-align: top;\n",
              "    }\n",
              "\n",
              "    .dataframe thead th {\n",
              "        text-align: right;\n",
              "    }\n",
              "</style>\n",
              "<table border=\"1\" class=\"dataframe\">\n",
              "  <thead>\n",
              "    <tr style=\"text-align: right;\">\n",
              "      <th></th>\n",
              "      <th>X</th>\n",
              "      <th>W</th>\n",
              "      <th>Y</th>\n",
              "      <th>Z</th>\n",
              "      <th>A</th>\n",
              "    </tr>\n",
              "  </thead>\n",
              "  <tbody>\n",
              "    <tr>\n",
              "      <th>0</th>\n",
              "      <td>x0</td>\n",
              "      <td>w0</td>\n",
              "      <td>y0</td>\n",
              "      <td>NaN</td>\n",
              "      <td>NaN</td>\n",
              "    </tr>\n",
              "    <tr>\n",
              "      <th>1</th>\n",
              "      <td>x1</td>\n",
              "      <td>w1</td>\n",
              "      <td>y1</td>\n",
              "      <td>NaN</td>\n",
              "      <td>NaN</td>\n",
              "    </tr>\n",
              "    <tr>\n",
              "      <th>2</th>\n",
              "      <td>x2</td>\n",
              "      <td>w2</td>\n",
              "      <td>y2</td>\n",
              "      <td>z2</td>\n",
              "      <td>a2</td>\n",
              "    </tr>\n",
              "    <tr>\n",
              "      <th>3</th>\n",
              "      <td>x3</td>\n",
              "      <td>w3</td>\n",
              "      <td>y3</td>\n",
              "      <td>z3</td>\n",
              "      <td>a3</td>\n",
              "    </tr>\n",
              "  </tbody>\n",
              "</table>\n",
              "</div>"
            ],
            "text/plain": [
              "    X   W   Y    Z    A\n",
              "0  x0  w0  y0  NaN  NaN\n",
              "1  x1  w1  y1  NaN  NaN\n",
              "2  x2  w2  y2   z2   a2\n",
              "3  x3  w3  y3   z3   a3"
            ]
          },
          "metadata": {
            "tags": []
          },
          "execution_count": 24
        }
      ]
    },
    {
      "cell_type": "code",
      "metadata": {
        "id": "N-LWwuA65SQ3",
        "colab_type": "code",
        "colab": {
          "base_uri": "https://localhost:8080/",
          "height": 166
        },
        "outputId": "1959a85e-d534-4a10-d243-5c5c6b634533"
      },
      "source": [
        "# Lo mismo pero ahora inverso\n",
        "\n",
        "pd.merge(df_left,df_right,how='left',on='Y')"
      ],
      "execution_count": 25,
      "outputs": [
        {
          "output_type": "execute_result",
          "data": {
            "text/html": [
              "<div>\n",
              "<style scoped>\n",
              "    .dataframe tbody tr th:only-of-type {\n",
              "        vertical-align: middle;\n",
              "    }\n",
              "\n",
              "    .dataframe tbody tr th {\n",
              "        vertical-align: top;\n",
              "    }\n",
              "\n",
              "    .dataframe thead th {\n",
              "        text-align: right;\n",
              "    }\n",
              "</style>\n",
              "<table border=\"1\" class=\"dataframe\">\n",
              "  <thead>\n",
              "    <tr style=\"text-align: right;\">\n",
              "      <th></th>\n",
              "      <th>X</th>\n",
              "      <th>W</th>\n",
              "      <th>Y</th>\n",
              "      <th>Z</th>\n",
              "      <th>A</th>\n",
              "    </tr>\n",
              "  </thead>\n",
              "  <tbody>\n",
              "    <tr>\n",
              "      <th>0</th>\n",
              "      <td>x0</td>\n",
              "      <td>w0</td>\n",
              "      <td>y0</td>\n",
              "      <td>NaN</td>\n",
              "      <td>NaN</td>\n",
              "    </tr>\n",
              "    <tr>\n",
              "      <th>1</th>\n",
              "      <td>x1</td>\n",
              "      <td>w1</td>\n",
              "      <td>y1</td>\n",
              "      <td>NaN</td>\n",
              "      <td>NaN</td>\n",
              "    </tr>\n",
              "    <tr>\n",
              "      <th>2</th>\n",
              "      <td>x2</td>\n",
              "      <td>w2</td>\n",
              "      <td>y2</td>\n",
              "      <td>z2</td>\n",
              "      <td>a2</td>\n",
              "    </tr>\n",
              "    <tr>\n",
              "      <th>3</th>\n",
              "      <td>x3</td>\n",
              "      <td>w3</td>\n",
              "      <td>y3</td>\n",
              "      <td>z3</td>\n",
              "      <td>a3</td>\n",
              "    </tr>\n",
              "  </tbody>\n",
              "</table>\n",
              "</div>"
            ],
            "text/plain": [
              "    X   W   Y    Z    A\n",
              "0  x0  w0  y0  NaN  NaN\n",
              "1  x1  w1  y1  NaN  NaN\n",
              "2  x2  w2  y2   z2   a2\n",
              "3  x3  w3  y3   z3   a3"
            ]
          },
          "metadata": {
            "tags": []
          },
          "execution_count": 25
        }
      ]
    },
    {
      "cell_type": "code",
      "metadata": {
        "id": "Ix5E5Mr96I7c",
        "colab_type": "code",
        "colab": {
          "base_uri": "https://localhost:8080/",
          "height": 225
        },
        "outputId": "18bc261d-59f8-40a9-8766-fa6a0d843f94"
      },
      "source": [
        "# Hacemos el merge Outer donde nos respeta tanto elementos de la der e izq\n",
        "\n",
        "pd.merge(df_left,df_right,how='outer',on='Y')"
      ],
      "execution_count": 26,
      "outputs": [
        {
          "output_type": "execute_result",
          "data": {
            "text/html": [
              "<div>\n",
              "<style scoped>\n",
              "    .dataframe tbody tr th:only-of-type {\n",
              "        vertical-align: middle;\n",
              "    }\n",
              "\n",
              "    .dataframe tbody tr th {\n",
              "        vertical-align: top;\n",
              "    }\n",
              "\n",
              "    .dataframe thead th {\n",
              "        text-align: right;\n",
              "    }\n",
              "</style>\n",
              "<table border=\"1\" class=\"dataframe\">\n",
              "  <thead>\n",
              "    <tr style=\"text-align: right;\">\n",
              "      <th></th>\n",
              "      <th>X</th>\n",
              "      <th>W</th>\n",
              "      <th>Y</th>\n",
              "      <th>Z</th>\n",
              "      <th>A</th>\n",
              "    </tr>\n",
              "  </thead>\n",
              "  <tbody>\n",
              "    <tr>\n",
              "      <th>0</th>\n",
              "      <td>x0</td>\n",
              "      <td>w0</td>\n",
              "      <td>y0</td>\n",
              "      <td>NaN</td>\n",
              "      <td>NaN</td>\n",
              "    </tr>\n",
              "    <tr>\n",
              "      <th>1</th>\n",
              "      <td>x1</td>\n",
              "      <td>w1</td>\n",
              "      <td>y1</td>\n",
              "      <td>NaN</td>\n",
              "      <td>NaN</td>\n",
              "    </tr>\n",
              "    <tr>\n",
              "      <th>2</th>\n",
              "      <td>x2</td>\n",
              "      <td>w2</td>\n",
              "      <td>y2</td>\n",
              "      <td>z2</td>\n",
              "      <td>a2</td>\n",
              "    </tr>\n",
              "    <tr>\n",
              "      <th>3</th>\n",
              "      <td>x3</td>\n",
              "      <td>w3</td>\n",
              "      <td>y3</td>\n",
              "      <td>z3</td>\n",
              "      <td>a3</td>\n",
              "    </tr>\n",
              "    <tr>\n",
              "      <th>4</th>\n",
              "      <td>NaN</td>\n",
              "      <td>NaN</td>\n",
              "      <td>y4</td>\n",
              "      <td>z4</td>\n",
              "      <td>a4</td>\n",
              "    </tr>\n",
              "    <tr>\n",
              "      <th>5</th>\n",
              "      <td>NaN</td>\n",
              "      <td>NaN</td>\n",
              "      <td>y5</td>\n",
              "      <td>z5</td>\n",
              "      <td>a5</td>\n",
              "    </tr>\n",
              "  </tbody>\n",
              "</table>\n",
              "</div>"
            ],
            "text/plain": [
              "     X    W   Y    Z    A\n",
              "0   x0   w0  y0  NaN  NaN\n",
              "1   x1   w1  y1  NaN  NaN\n",
              "2   x2   w2  y2   z2   a2\n",
              "3   x3   w3  y3   z3   a3\n",
              "4  NaN  NaN  y4   z4   a4\n",
              "5  NaN  NaN  y5   z5   a5"
            ]
          },
          "metadata": {
            "tags": []
          },
          "execution_count": 26
        }
      ]
    },
    {
      "cell_type": "code",
      "metadata": {
        "id": "ooG0b7Pn6ZzU",
        "colab_type": "code",
        "colab": {
          "base_uri": "https://localhost:8080/",
          "height": 166
        },
        "outputId": "fd1ad08d-9e1e-425b-8e00-f11e64afc8a4"
      },
      "source": [
        "df_left = pd.DataFrame({\n",
        "    'X': ['x0', 'x1', 'x2', 'x3'],\n",
        "    'W': ['w0', 'w1', 'w2', 'w3'], \n",
        "    'Y': ['y0', 'y1', 'y2', 'y3'],\n",
        "    'A': ['a0', 'a1', 'a2', 'a3'],\n",
        "})\n",
        "df_left"
      ],
      "execution_count": 27,
      "outputs": [
        {
          "output_type": "execute_result",
          "data": {
            "text/html": [
              "<div>\n",
              "<style scoped>\n",
              "    .dataframe tbody tr th:only-of-type {\n",
              "        vertical-align: middle;\n",
              "    }\n",
              "\n",
              "    .dataframe tbody tr th {\n",
              "        vertical-align: top;\n",
              "    }\n",
              "\n",
              "    .dataframe thead th {\n",
              "        text-align: right;\n",
              "    }\n",
              "</style>\n",
              "<table border=\"1\" class=\"dataframe\">\n",
              "  <thead>\n",
              "    <tr style=\"text-align: right;\">\n",
              "      <th></th>\n",
              "      <th>X</th>\n",
              "      <th>W</th>\n",
              "      <th>Y</th>\n",
              "      <th>A</th>\n",
              "    </tr>\n",
              "  </thead>\n",
              "  <tbody>\n",
              "    <tr>\n",
              "      <th>0</th>\n",
              "      <td>x0</td>\n",
              "      <td>w0</td>\n",
              "      <td>y0</td>\n",
              "      <td>a0</td>\n",
              "    </tr>\n",
              "    <tr>\n",
              "      <th>1</th>\n",
              "      <td>x1</td>\n",
              "      <td>w1</td>\n",
              "      <td>y1</td>\n",
              "      <td>a1</td>\n",
              "    </tr>\n",
              "    <tr>\n",
              "      <th>2</th>\n",
              "      <td>x2</td>\n",
              "      <td>w2</td>\n",
              "      <td>y2</td>\n",
              "      <td>a2</td>\n",
              "    </tr>\n",
              "    <tr>\n",
              "      <th>3</th>\n",
              "      <td>x3</td>\n",
              "      <td>w3</td>\n",
              "      <td>y3</td>\n",
              "      <td>a3</td>\n",
              "    </tr>\n",
              "  </tbody>\n",
              "</table>\n",
              "</div>"
            ],
            "text/plain": [
              "    X   W   Y   A\n",
              "0  x0  w0  y0  a0\n",
              "1  x1  w1  y1  a1\n",
              "2  x2  w2  y2  a2\n",
              "3  x3  w3  y3  a3"
            ]
          },
          "metadata": {
            "tags": []
          },
          "execution_count": 27
        }
      ]
    },
    {
      "cell_type": "code",
      "metadata": {
        "id": "LtNZMeyi6lvi",
        "colab_type": "code",
        "colab": {
          "base_uri": "https://localhost:8080/",
          "height": 166
        },
        "outputId": "6ae0071f-b6e1-40e4-9a0c-eee78590d431"
      },
      "source": [
        "# para cambiar los sufijos de las columnas repetidas se hace lo siguiente\n",
        "df_right"
      ],
      "execution_count": 28,
      "outputs": [
        {
          "output_type": "execute_result",
          "data": {
            "text/html": [
              "<div>\n",
              "<style scoped>\n",
              "    .dataframe tbody tr th:only-of-type {\n",
              "        vertical-align: middle;\n",
              "    }\n",
              "\n",
              "    .dataframe tbody tr th {\n",
              "        vertical-align: top;\n",
              "    }\n",
              "\n",
              "    .dataframe thead th {\n",
              "        text-align: right;\n",
              "    }\n",
              "</style>\n",
              "<table border=\"1\" class=\"dataframe\">\n",
              "  <thead>\n",
              "    <tr style=\"text-align: right;\">\n",
              "      <th></th>\n",
              "      <th>Z</th>\n",
              "      <th>A</th>\n",
              "      <th>Y</th>\n",
              "    </tr>\n",
              "  </thead>\n",
              "  <tbody>\n",
              "    <tr>\n",
              "      <th>2</th>\n",
              "      <td>z2</td>\n",
              "      <td>a2</td>\n",
              "      <td>y2</td>\n",
              "    </tr>\n",
              "    <tr>\n",
              "      <th>3</th>\n",
              "      <td>z3</td>\n",
              "      <td>a3</td>\n",
              "      <td>y3</td>\n",
              "    </tr>\n",
              "    <tr>\n",
              "      <th>4</th>\n",
              "      <td>z4</td>\n",
              "      <td>a4</td>\n",
              "      <td>y4</td>\n",
              "    </tr>\n",
              "    <tr>\n",
              "      <th>5</th>\n",
              "      <td>z5</td>\n",
              "      <td>a5</td>\n",
              "      <td>y5</td>\n",
              "    </tr>\n",
              "  </tbody>\n",
              "</table>\n",
              "</div>"
            ],
            "text/plain": [
              "    Z   A   Y\n",
              "2  z2  a2  y2\n",
              "3  z3  a3  y3\n",
              "4  z4  a4  y4\n",
              "5  z5  a5  y5"
            ]
          },
          "metadata": {
            "tags": []
          },
          "execution_count": 28
        }
      ]
    },
    {
      "cell_type": "code",
      "metadata": {
        "id": "i1l4y9UN61PJ",
        "colab_type": "code",
        "colab": {
          "base_uri": "https://localhost:8080/",
          "height": 225
        },
        "outputId": "f6931efb-e850-4967-c9eb-00d5077c9aa5"
      },
      "source": [
        "pd.merge(df_left,df_right,how='outer',on='A',suffixes=['_left','right'])"
      ],
      "execution_count": 31,
      "outputs": [
        {
          "output_type": "execute_result",
          "data": {
            "text/html": [
              "<div>\n",
              "<style scoped>\n",
              "    .dataframe tbody tr th:only-of-type {\n",
              "        vertical-align: middle;\n",
              "    }\n",
              "\n",
              "    .dataframe tbody tr th {\n",
              "        vertical-align: top;\n",
              "    }\n",
              "\n",
              "    .dataframe thead th {\n",
              "        text-align: right;\n",
              "    }\n",
              "</style>\n",
              "<table border=\"1\" class=\"dataframe\">\n",
              "  <thead>\n",
              "    <tr style=\"text-align: right;\">\n",
              "      <th></th>\n",
              "      <th>X</th>\n",
              "      <th>W</th>\n",
              "      <th>Y_left</th>\n",
              "      <th>A</th>\n",
              "      <th>Z</th>\n",
              "      <th>Yright</th>\n",
              "    </tr>\n",
              "  </thead>\n",
              "  <tbody>\n",
              "    <tr>\n",
              "      <th>0</th>\n",
              "      <td>x0</td>\n",
              "      <td>w0</td>\n",
              "      <td>y0</td>\n",
              "      <td>a0</td>\n",
              "      <td>NaN</td>\n",
              "      <td>NaN</td>\n",
              "    </tr>\n",
              "    <tr>\n",
              "      <th>1</th>\n",
              "      <td>x1</td>\n",
              "      <td>w1</td>\n",
              "      <td>y1</td>\n",
              "      <td>a1</td>\n",
              "      <td>NaN</td>\n",
              "      <td>NaN</td>\n",
              "    </tr>\n",
              "    <tr>\n",
              "      <th>2</th>\n",
              "      <td>x2</td>\n",
              "      <td>w2</td>\n",
              "      <td>y2</td>\n",
              "      <td>a2</td>\n",
              "      <td>z2</td>\n",
              "      <td>y2</td>\n",
              "    </tr>\n",
              "    <tr>\n",
              "      <th>3</th>\n",
              "      <td>x3</td>\n",
              "      <td>w3</td>\n",
              "      <td>y3</td>\n",
              "      <td>a3</td>\n",
              "      <td>z3</td>\n",
              "      <td>y3</td>\n",
              "    </tr>\n",
              "    <tr>\n",
              "      <th>4</th>\n",
              "      <td>NaN</td>\n",
              "      <td>NaN</td>\n",
              "      <td>NaN</td>\n",
              "      <td>a4</td>\n",
              "      <td>z4</td>\n",
              "      <td>y4</td>\n",
              "    </tr>\n",
              "    <tr>\n",
              "      <th>5</th>\n",
              "      <td>NaN</td>\n",
              "      <td>NaN</td>\n",
              "      <td>NaN</td>\n",
              "      <td>a5</td>\n",
              "      <td>z5</td>\n",
              "      <td>y5</td>\n",
              "    </tr>\n",
              "  </tbody>\n",
              "</table>\n",
              "</div>"
            ],
            "text/plain": [
              "     X    W Y_left   A    Z Yright\n",
              "0   x0   w0     y0  a0  NaN    NaN\n",
              "1   x1   w1     y1  a1  NaN    NaN\n",
              "2   x2   w2     y2  a2   z2     y2\n",
              "3   x3   w3     y3  a3   z3     y3\n",
              "4  NaN  NaN    NaN  a4   z4     y4\n",
              "5  NaN  NaN    NaN  a5   z5     y5"
            ]
          },
          "metadata": {
            "tags": []
          },
          "execution_count": 31
        }
      ]
    },
    {
      "cell_type": "code",
      "metadata": {
        "id": "8jOuPLl37CLW",
        "colab_type": "code",
        "colab": {}
      },
      "source": [
        ""
      ],
      "execution_count": null,
      "outputs": []
    }
  ]
}