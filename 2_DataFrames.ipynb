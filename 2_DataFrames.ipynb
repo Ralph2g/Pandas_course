{
  "nbformat": 4,
  "nbformat_minor": 0,
  "metadata": {
    "colab": {
      "name": "2 DataFrames.ipynb",
      "provenance": [],
      "collapsed_sections": [],
      "authorship_tag": "ABX9TyMvtD6X8kW3XfbvtstQE9jY",
      "include_colab_link": true
    },
    "kernelspec": {
      "name": "python3",
      "display_name": "Python 3"
    }
  },
  "cells": [
    {
      "cell_type": "markdown",
      "metadata": {
        "id": "view-in-github",
        "colab_type": "text"
      },
      "source": [
        "<a href=\"https://colab.research.google.com/github/Ralph2g/Pandas_course/blob/master/2_DataFrames.ipynb\" target=\"_parent\"><img src=\"https://colab.research.google.com/assets/colab-badge.svg\" alt=\"Open In Colab\"/></a>"
      ]
    },
    {
      "cell_type": "code",
      "metadata": {
        "id": "NmAK1aYDOvOG",
        "colab_type": "code",
        "colab": {}
      },
      "source": [
        "import pandas as pd\n",
        "import numpy as np"
      ],
      "execution_count": 0,
      "outputs": []
    },
    {
      "cell_type": "code",
      "metadata": {
        "id": "XLQLP4-4PCn1",
        "colab_type": "code",
        "outputId": "32ec8dc3-d1fe-44cf-b37b-8b8d16943464",
        "colab": {
          "base_uri": "https://localhost:8080/",
          "height": 34
        }
      },
      "source": [
        "dict_data = {'CH':[100,800,300],'CO':[100,200,300],'MX':[300,500,400]}\n",
        "dict_data"
      ],
      "execution_count": 0,
      "outputs": [
        {
          "output_type": "execute_result",
          "data": {
            "text/plain": [
              "{'CH': [100, 800, 300], 'CO': [100, 200, 300], 'MX': [300, 500, 400]}"
            ]
          },
          "metadata": {
            "tags": []
          },
          "execution_count": 6
        }
      ]
    },
    {
      "cell_type": "code",
      "metadata": {
        "id": "s5LV1xF8PnlL",
        "colab_type": "code",
        "outputId": "edb22a41-1395-4b56-9487-a99715b18f10",
        "colab": {
          "base_uri": "https://localhost:8080/",
          "height": 136
        }
      },
      "source": [
        "df = pd.DataFrame(dict_data)\n",
        "df"
      ],
      "execution_count": 0,
      "outputs": [
        {
          "output_type": "execute_result",
          "data": {
            "text/html": [
              "<div>\n",
              "<style scoped>\n",
              "    .dataframe tbody tr th:only-of-type {\n",
              "        vertical-align: middle;\n",
              "    }\n",
              "\n",
              "    .dataframe tbody tr th {\n",
              "        vertical-align: top;\n",
              "    }\n",
              "\n",
              "    .dataframe thead th {\n",
              "        text-align: right;\n",
              "    }\n",
              "</style>\n",
              "<table border=\"1\" class=\"dataframe\">\n",
              "  <thead>\n",
              "    <tr style=\"text-align: right;\">\n",
              "      <th></th>\n",
              "      <th>CH</th>\n",
              "      <th>CO</th>\n",
              "      <th>MX</th>\n",
              "    </tr>\n",
              "  </thead>\n",
              "  <tbody>\n",
              "    <tr>\n",
              "      <th>0</th>\n",
              "      <td>100</td>\n",
              "      <td>100</td>\n",
              "      <td>300</td>\n",
              "    </tr>\n",
              "    <tr>\n",
              "      <th>1</th>\n",
              "      <td>800</td>\n",
              "      <td>200</td>\n",
              "      <td>500</td>\n",
              "    </tr>\n",
              "    <tr>\n",
              "      <th>2</th>\n",
              "      <td>300</td>\n",
              "      <td>300</td>\n",
              "      <td>400</td>\n",
              "    </tr>\n",
              "  </tbody>\n",
              "</table>\n",
              "</div>"
            ],
            "text/plain": [
              "    CH   CO   MX\n",
              "0  100  100  300\n",
              "1  800  200  500\n",
              "2  300  300  400"
            ]
          },
          "metadata": {
            "tags": []
          },
          "execution_count": 8
        }
      ]
    },
    {
      "cell_type": "code",
      "metadata": {
        "id": "JxoRy4flPwoM",
        "colab_type": "code",
        "outputId": "0cb25dda-f3d1-4f6a-e7be-c043f301e7d2",
        "colab": {
          "base_uri": "https://localhost:8080/",
          "height": 118
        }
      },
      "source": [
        "dict_data = {\n",
        "    'edad' :     [ 10, 9, 13, 14, 12, 11, 12],\n",
        "    'cm' : [ 115, 110, 130, 155, 125, 120, 125],\n",
        "    'pais' :    [ 'co', 'mx', 'co', 'mx', 'mx', 'ch', 'ch'],\n",
        "    'genero' :  [ 'M', 'F', 'F', 'M', 'M', 'M', 'F'],\n",
        "    'Q1' : [ 5, 10, 8, np.nan, 7, 8, 3],\n",
        "    'Q2' : [ 7, 9, 9, 8, 8, 8, 9.]\n",
        "}\n",
        "dict_data"
      ],
      "execution_count": 0,
      "outputs": [
        {
          "output_type": "execute_result",
          "data": {
            "text/plain": [
              "{'Q1': [5, 10, 8, nan, 7, 8, 3],\n",
              " 'Q2': [7, 9, 9, 8, 8, 8, 9.0],\n",
              " 'cm': [115, 110, 130, 155, 125, 120, 125],\n",
              " 'edad': [10, 9, 13, 14, 12, 11, 12],\n",
              " 'genero': ['M', 'F', 'F', 'M', 'M', 'M', 'F'],\n",
              " 'pais': ['co', 'mx', 'co', 'mx', 'mx', 'ch', 'ch']}"
            ]
          },
          "metadata": {
            "tags": []
          },
          "execution_count": 14
        }
      ]
    },
    {
      "cell_type": "code",
      "metadata": {
        "id": "YxFbFTJwQDHS",
        "colab_type": "code",
        "outputId": "bffc782c-fcb6-4003-da0f-b46d60d793b1",
        "colab": {
          "base_uri": "https://localhost:8080/",
          "height": 254
        }
      },
      "source": [
        "df = pd.DataFrame(dict_data)\n",
        "df"
      ],
      "execution_count": 0,
      "outputs": [
        {
          "output_type": "execute_result",
          "data": {
            "text/html": [
              "<div>\n",
              "<style scoped>\n",
              "    .dataframe tbody tr th:only-of-type {\n",
              "        vertical-align: middle;\n",
              "    }\n",
              "\n",
              "    .dataframe tbody tr th {\n",
              "        vertical-align: top;\n",
              "    }\n",
              "\n",
              "    .dataframe thead th {\n",
              "        text-align: right;\n",
              "    }\n",
              "</style>\n",
              "<table border=\"1\" class=\"dataframe\">\n",
              "  <thead>\n",
              "    <tr style=\"text-align: right;\">\n",
              "      <th></th>\n",
              "      <th>edad</th>\n",
              "      <th>cm</th>\n",
              "      <th>pais</th>\n",
              "      <th>genero</th>\n",
              "      <th>Q1</th>\n",
              "      <th>Q2</th>\n",
              "    </tr>\n",
              "  </thead>\n",
              "  <tbody>\n",
              "    <tr>\n",
              "      <th>0</th>\n",
              "      <td>10</td>\n",
              "      <td>115</td>\n",
              "      <td>co</td>\n",
              "      <td>M</td>\n",
              "      <td>5.0</td>\n",
              "      <td>7.0</td>\n",
              "    </tr>\n",
              "    <tr>\n",
              "      <th>1</th>\n",
              "      <td>9</td>\n",
              "      <td>110</td>\n",
              "      <td>mx</td>\n",
              "      <td>F</td>\n",
              "      <td>10.0</td>\n",
              "      <td>9.0</td>\n",
              "    </tr>\n",
              "    <tr>\n",
              "      <th>2</th>\n",
              "      <td>13</td>\n",
              "      <td>130</td>\n",
              "      <td>co</td>\n",
              "      <td>F</td>\n",
              "      <td>8.0</td>\n",
              "      <td>9.0</td>\n",
              "    </tr>\n",
              "    <tr>\n",
              "      <th>3</th>\n",
              "      <td>14</td>\n",
              "      <td>155</td>\n",
              "      <td>mx</td>\n",
              "      <td>M</td>\n",
              "      <td>NaN</td>\n",
              "      <td>8.0</td>\n",
              "    </tr>\n",
              "    <tr>\n",
              "      <th>4</th>\n",
              "      <td>12</td>\n",
              "      <td>125</td>\n",
              "      <td>mx</td>\n",
              "      <td>M</td>\n",
              "      <td>7.0</td>\n",
              "      <td>8.0</td>\n",
              "    </tr>\n",
              "    <tr>\n",
              "      <th>5</th>\n",
              "      <td>11</td>\n",
              "      <td>120</td>\n",
              "      <td>ch</td>\n",
              "      <td>M</td>\n",
              "      <td>8.0</td>\n",
              "      <td>8.0</td>\n",
              "    </tr>\n",
              "    <tr>\n",
              "      <th>6</th>\n",
              "      <td>12</td>\n",
              "      <td>125</td>\n",
              "      <td>ch</td>\n",
              "      <td>F</td>\n",
              "      <td>3.0</td>\n",
              "      <td>9.0</td>\n",
              "    </tr>\n",
              "  </tbody>\n",
              "</table>\n",
              "</div>"
            ],
            "text/plain": [
              "   edad   cm pais genero    Q1   Q2\n",
              "0    10  115   co      M   5.0  7.0\n",
              "1     9  110   mx      F  10.0  9.0\n",
              "2    13  130   co      F   8.0  9.0\n",
              "3    14  155   mx      M   NaN  8.0\n",
              "4    12  125   mx      M   7.0  8.0\n",
              "5    11  120   ch      M   8.0  8.0\n",
              "6    12  125   ch      F   3.0  9.0"
            ]
          },
          "metadata": {
            "tags": []
          },
          "execution_count": 15
        }
      ]
    },
    {
      "cell_type": "code",
      "metadata": {
        "id": "Xst4ApYCQIuK",
        "colab_type": "code",
        "outputId": "67e04b39-2284-404d-c156-77ae5ae3eed1",
        "colab": {
          "base_uri": "https://localhost:8080/",
          "height": 254
        }
      },
      "source": [
        "df = pd.DataFrame(dict_data, index = ['ana','benito','camilo','daniel','erika','fabian','gabriela'])\n",
        "df"
      ],
      "execution_count": 0,
      "outputs": [
        {
          "output_type": "execute_result",
          "data": {
            "text/html": [
              "<div>\n",
              "<style scoped>\n",
              "    .dataframe tbody tr th:only-of-type {\n",
              "        vertical-align: middle;\n",
              "    }\n",
              "\n",
              "    .dataframe tbody tr th {\n",
              "        vertical-align: top;\n",
              "    }\n",
              "\n",
              "    .dataframe thead th {\n",
              "        text-align: right;\n",
              "    }\n",
              "</style>\n",
              "<table border=\"1\" class=\"dataframe\">\n",
              "  <thead>\n",
              "    <tr style=\"text-align: right;\">\n",
              "      <th></th>\n",
              "      <th>edad</th>\n",
              "      <th>cm</th>\n",
              "      <th>pais</th>\n",
              "      <th>genero</th>\n",
              "      <th>Q1</th>\n",
              "      <th>Q2</th>\n",
              "    </tr>\n",
              "  </thead>\n",
              "  <tbody>\n",
              "    <tr>\n",
              "      <th>ana</th>\n",
              "      <td>10</td>\n",
              "      <td>115</td>\n",
              "      <td>co</td>\n",
              "      <td>M</td>\n",
              "      <td>5.0</td>\n",
              "      <td>7.0</td>\n",
              "    </tr>\n",
              "    <tr>\n",
              "      <th>benito</th>\n",
              "      <td>9</td>\n",
              "      <td>110</td>\n",
              "      <td>mx</td>\n",
              "      <td>F</td>\n",
              "      <td>10.0</td>\n",
              "      <td>9.0</td>\n",
              "    </tr>\n",
              "    <tr>\n",
              "      <th>camilo</th>\n",
              "      <td>13</td>\n",
              "      <td>130</td>\n",
              "      <td>co</td>\n",
              "      <td>F</td>\n",
              "      <td>8.0</td>\n",
              "      <td>9.0</td>\n",
              "    </tr>\n",
              "    <tr>\n",
              "      <th>daniel</th>\n",
              "      <td>14</td>\n",
              "      <td>155</td>\n",
              "      <td>mx</td>\n",
              "      <td>M</td>\n",
              "      <td>NaN</td>\n",
              "      <td>8.0</td>\n",
              "    </tr>\n",
              "    <tr>\n",
              "      <th>erika</th>\n",
              "      <td>12</td>\n",
              "      <td>125</td>\n",
              "      <td>mx</td>\n",
              "      <td>M</td>\n",
              "      <td>7.0</td>\n",
              "      <td>8.0</td>\n",
              "    </tr>\n",
              "    <tr>\n",
              "      <th>fabian</th>\n",
              "      <td>11</td>\n",
              "      <td>120</td>\n",
              "      <td>ch</td>\n",
              "      <td>M</td>\n",
              "      <td>8.0</td>\n",
              "      <td>8.0</td>\n",
              "    </tr>\n",
              "    <tr>\n",
              "      <th>gabriela</th>\n",
              "      <td>12</td>\n",
              "      <td>125</td>\n",
              "      <td>ch</td>\n",
              "      <td>F</td>\n",
              "      <td>3.0</td>\n",
              "      <td>9.0</td>\n",
              "    </tr>\n",
              "  </tbody>\n",
              "</table>\n",
              "</div>"
            ],
            "text/plain": [
              "          edad   cm pais genero    Q1   Q2\n",
              "ana         10  115   co      M   5.0  7.0\n",
              "benito       9  110   mx      F  10.0  9.0\n",
              "camilo      13  130   co      F   8.0  9.0\n",
              "daniel      14  155   mx      M   NaN  8.0\n",
              "erika       12  125   mx      M   7.0  8.0\n",
              "fabian      11  120   ch      M   8.0  8.0\n",
              "gabriela    12  125   ch      F   3.0  9.0"
            ]
          },
          "metadata": {
            "tags": []
          },
          "execution_count": 17
        }
      ]
    },
    {
      "cell_type": "code",
      "metadata": {
        "id": "RmH8DPaPQgxx",
        "colab_type": "code",
        "outputId": "57a492e6-26d7-4949-b795-e6fdf194f71d",
        "colab": {
          "base_uri": "https://localhost:8080/",
          "height": 54
        }
      },
      "source": [
        "df.index"
      ],
      "execution_count": 0,
      "outputs": [
        {
          "output_type": "execute_result",
          "data": {
            "text/plain": [
              "Index(['ana', 'benito', 'camilo', 'daniel', 'erika', 'fabian', 'gabriela'], dtype='object')"
            ]
          },
          "metadata": {
            "tags": []
          },
          "execution_count": 18
        }
      ]
    },
    {
      "cell_type": "code",
      "metadata": {
        "id": "LPdZOxEiQscu",
        "colab_type": "code",
        "outputId": "d193465f-be50-4d74-82e5-c406aee708f1",
        "colab": {
          "base_uri": "https://localhost:8080/",
          "height": 34
        }
      },
      "source": [
        "df.columns"
      ],
      "execution_count": 0,
      "outputs": [
        {
          "output_type": "execute_result",
          "data": {
            "text/plain": [
              "Index(['edad', 'cm', 'pais', 'genero', 'Q1', 'Q2'], dtype='object')"
            ]
          },
          "metadata": {
            "tags": []
          },
          "execution_count": 21
        }
      ]
    },
    {
      "cell_type": "code",
      "metadata": {
        "id": "aiP9xbYuRpyA",
        "colab_type": "code",
        "outputId": "54b71526-c0c5-4807-c04a-b91b77da2712",
        "colab": {
          "base_uri": "https://localhost:8080/",
          "height": 134
        }
      },
      "source": [
        "df.values"
      ],
      "execution_count": 0,
      "outputs": [
        {
          "output_type": "execute_result",
          "data": {
            "text/plain": [
              "array([[10, 115, 'co', 'M', 5.0, 7.0],\n",
              "       [9, 110, 'mx', 'F', 10.0, 9.0],\n",
              "       [13, 130, 'co', 'F', 8.0, 9.0],\n",
              "       [14, 155, 'mx', 'M', nan, 8.0],\n",
              "       [12, 125, 'mx', 'M', 7.0, 8.0],\n",
              "       [11, 120, 'ch', 'M', 8.0, 8.0],\n",
              "       [12, 125, 'ch', 'F', 3.0, 9.0]], dtype=object)"
            ]
          },
          "metadata": {
            "tags": []
          },
          "execution_count": 22
        }
      ]
    },
    {
      "cell_type": "code",
      "metadata": {
        "id": "QiXaOqKTRt_q",
        "colab_type": "code",
        "outputId": "5381e837-d1b1-45f0-a51f-696857750831",
        "colab": {
          "base_uri": "https://localhost:8080/",
          "height": 254
        }
      },
      "source": [
        "df[['edad','cm','Q1']]"
      ],
      "execution_count": 0,
      "outputs": [
        {
          "output_type": "execute_result",
          "data": {
            "text/html": [
              "<div>\n",
              "<style scoped>\n",
              "    .dataframe tbody tr th:only-of-type {\n",
              "        vertical-align: middle;\n",
              "    }\n",
              "\n",
              "    .dataframe tbody tr th {\n",
              "        vertical-align: top;\n",
              "    }\n",
              "\n",
              "    .dataframe thead th {\n",
              "        text-align: right;\n",
              "    }\n",
              "</style>\n",
              "<table border=\"1\" class=\"dataframe\">\n",
              "  <thead>\n",
              "    <tr style=\"text-align: right;\">\n",
              "      <th></th>\n",
              "      <th>edad</th>\n",
              "      <th>cm</th>\n",
              "      <th>Q1</th>\n",
              "    </tr>\n",
              "  </thead>\n",
              "  <tbody>\n",
              "    <tr>\n",
              "      <th>ana</th>\n",
              "      <td>10</td>\n",
              "      <td>115</td>\n",
              "      <td>5.0</td>\n",
              "    </tr>\n",
              "    <tr>\n",
              "      <th>benito</th>\n",
              "      <td>9</td>\n",
              "      <td>110</td>\n",
              "      <td>10.0</td>\n",
              "    </tr>\n",
              "    <tr>\n",
              "      <th>camilo</th>\n",
              "      <td>13</td>\n",
              "      <td>130</td>\n",
              "      <td>8.0</td>\n",
              "    </tr>\n",
              "    <tr>\n",
              "      <th>daniel</th>\n",
              "      <td>14</td>\n",
              "      <td>155</td>\n",
              "      <td>NaN</td>\n",
              "    </tr>\n",
              "    <tr>\n",
              "      <th>erika</th>\n",
              "      <td>12</td>\n",
              "      <td>125</td>\n",
              "      <td>7.0</td>\n",
              "    </tr>\n",
              "    <tr>\n",
              "      <th>fabian</th>\n",
              "      <td>11</td>\n",
              "      <td>120</td>\n",
              "      <td>8.0</td>\n",
              "    </tr>\n",
              "    <tr>\n",
              "      <th>gabriela</th>\n",
              "      <td>12</td>\n",
              "      <td>125</td>\n",
              "      <td>3.0</td>\n",
              "    </tr>\n",
              "  </tbody>\n",
              "</table>\n",
              "</div>"
            ],
            "text/plain": [
              "          edad   cm    Q1\n",
              "ana         10  115   5.0\n",
              "benito       9  110  10.0\n",
              "camilo      13  130   8.0\n",
              "daniel      14  155   NaN\n",
              "erika       12  125   7.0\n",
              "fabian      11  120   8.0\n",
              "gabriela    12  125   3.0"
            ]
          },
          "metadata": {
            "tags": []
          },
          "execution_count": 29
        }
      ]
    },
    {
      "cell_type": "code",
      "metadata": {
        "id": "yd9fo7J0Rw86",
        "colab_type": "code",
        "outputId": "f4b942ed-3982-4ed1-f27c-103934c64bce",
        "colab": {
          "base_uri": "https://localhost:8080/",
          "height": 106
        }
      },
      "source": [
        "df.loc[['ana','erika'],['edad','cm','Q1']]"
      ],
      "execution_count": 0,
      "outputs": [
        {
          "output_type": "execute_result",
          "data": {
            "text/html": [
              "<div>\n",
              "<style scoped>\n",
              "    .dataframe tbody tr th:only-of-type {\n",
              "        vertical-align: middle;\n",
              "    }\n",
              "\n",
              "    .dataframe tbody tr th {\n",
              "        vertical-align: top;\n",
              "    }\n",
              "\n",
              "    .dataframe thead th {\n",
              "        text-align: right;\n",
              "    }\n",
              "</style>\n",
              "<table border=\"1\" class=\"dataframe\">\n",
              "  <thead>\n",
              "    <tr style=\"text-align: right;\">\n",
              "      <th></th>\n",
              "      <th>edad</th>\n",
              "      <th>cm</th>\n",
              "      <th>Q1</th>\n",
              "    </tr>\n",
              "  </thead>\n",
              "  <tbody>\n",
              "    <tr>\n",
              "      <th>ana</th>\n",
              "      <td>10</td>\n",
              "      <td>115</td>\n",
              "      <td>5.0</td>\n",
              "    </tr>\n",
              "    <tr>\n",
              "      <th>erika</th>\n",
              "      <td>12</td>\n",
              "      <td>125</td>\n",
              "      <td>7.0</td>\n",
              "    </tr>\n",
              "  </tbody>\n",
              "</table>\n",
              "</div>"
            ],
            "text/plain": [
              "       edad   cm   Q1\n",
              "ana      10  115  5.0\n",
              "erika    12  125  7.0"
            ]
          },
          "metadata": {
            "tags": []
          },
          "execution_count": 32
        }
      ]
    },
    {
      "cell_type": "code",
      "metadata": {
        "id": "0Bm1JVXxSNzk",
        "colab_type": "code",
        "outputId": "bde06096-c1da-4db6-ec05-5b092b83faee",
        "colab": {
          "base_uri": "https://localhost:8080/",
          "height": 254
        }
      },
      "source": [
        "df.iloc[:,[1]]"
      ],
      "execution_count": 0,
      "outputs": [
        {
          "output_type": "execute_result",
          "data": {
            "text/html": [
              "<div>\n",
              "<style scoped>\n",
              "    .dataframe tbody tr th:only-of-type {\n",
              "        vertical-align: middle;\n",
              "    }\n",
              "\n",
              "    .dataframe tbody tr th {\n",
              "        vertical-align: top;\n",
              "    }\n",
              "\n",
              "    .dataframe thead th {\n",
              "        text-align: right;\n",
              "    }\n",
              "</style>\n",
              "<table border=\"1\" class=\"dataframe\">\n",
              "  <thead>\n",
              "    <tr style=\"text-align: right;\">\n",
              "      <th></th>\n",
              "      <th>cm</th>\n",
              "    </tr>\n",
              "  </thead>\n",
              "  <tbody>\n",
              "    <tr>\n",
              "      <th>ana</th>\n",
              "      <td>115</td>\n",
              "    </tr>\n",
              "    <tr>\n",
              "      <th>benito</th>\n",
              "      <td>110</td>\n",
              "    </tr>\n",
              "    <tr>\n",
              "      <th>camilo</th>\n",
              "      <td>130</td>\n",
              "    </tr>\n",
              "    <tr>\n",
              "      <th>daniel</th>\n",
              "      <td>155</td>\n",
              "    </tr>\n",
              "    <tr>\n",
              "      <th>erika</th>\n",
              "      <td>125</td>\n",
              "    </tr>\n",
              "    <tr>\n",
              "      <th>fabian</th>\n",
              "      <td>120</td>\n",
              "    </tr>\n",
              "    <tr>\n",
              "      <th>gabriela</th>\n",
              "      <td>125</td>\n",
              "    </tr>\n",
              "  </tbody>\n",
              "</table>\n",
              "</div>"
            ],
            "text/plain": [
              "           cm\n",
              "ana       115\n",
              "benito    110\n",
              "camilo    130\n",
              "daniel    155\n",
              "erika     125\n",
              "fabian    120\n",
              "gabriela  125"
            ]
          },
          "metadata": {
            "tags": []
          },
          "execution_count": 50
        }
      ]
    },
    {
      "cell_type": "code",
      "metadata": {
        "id": "2iQKrKWdSrR2",
        "colab_type": "code",
        "colab": {}
      },
      "source": [
        "mask_edad = df['edad'] >= 12\n",
        "mask_nacionalidad = df['pais'] == 'mx'"
      ],
      "execution_count": 0,
      "outputs": []
    },
    {
      "cell_type": "code",
      "metadata": {
        "id": "8tlw9oNXUS4W",
        "colab_type": "code",
        "outputId": "4583dddb-db93-4247-fd22-fb8ff720ee38",
        "colab": {
          "base_uri": "https://localhost:8080/",
          "height": 106
        }
      },
      "source": [
        "df[(mask_edad) & (mask_nacionalidad)]"
      ],
      "execution_count": 0,
      "outputs": [
        {
          "output_type": "execute_result",
          "data": {
            "text/html": [
              "<div>\n",
              "<style scoped>\n",
              "    .dataframe tbody tr th:only-of-type {\n",
              "        vertical-align: middle;\n",
              "    }\n",
              "\n",
              "    .dataframe tbody tr th {\n",
              "        vertical-align: top;\n",
              "    }\n",
              "\n",
              "    .dataframe thead th {\n",
              "        text-align: right;\n",
              "    }\n",
              "</style>\n",
              "<table border=\"1\" class=\"dataframe\">\n",
              "  <thead>\n",
              "    <tr style=\"text-align: right;\">\n",
              "      <th></th>\n",
              "      <th>edad</th>\n",
              "      <th>cm</th>\n",
              "      <th>pais</th>\n",
              "      <th>genero</th>\n",
              "      <th>Q1</th>\n",
              "      <th>Q2</th>\n",
              "    </tr>\n",
              "  </thead>\n",
              "  <tbody>\n",
              "    <tr>\n",
              "      <th>daniel</th>\n",
              "      <td>14</td>\n",
              "      <td>155</td>\n",
              "      <td>mx</td>\n",
              "      <td>M</td>\n",
              "      <td>NaN</td>\n",
              "      <td>8.0</td>\n",
              "    </tr>\n",
              "    <tr>\n",
              "      <th>erika</th>\n",
              "      <td>12</td>\n",
              "      <td>125</td>\n",
              "      <td>mx</td>\n",
              "      <td>M</td>\n",
              "      <td>7.0</td>\n",
              "      <td>8.0</td>\n",
              "    </tr>\n",
              "  </tbody>\n",
              "</table>\n",
              "</div>"
            ],
            "text/plain": [
              "        edad   cm pais genero   Q1   Q2\n",
              "daniel    14  155   mx      M  NaN  8.0\n",
              "erika     12  125   mx      M  7.0  8.0"
            ]
          },
          "metadata": {
            "tags": []
          },
          "execution_count": 61
        }
      ]
    },
    {
      "cell_type": "code",
      "metadata": {
        "id": "mzUiZjbnUXmP",
        "colab_type": "code",
        "outputId": "b6e87ddb-9cf1-4bbd-d38b-5babe015b6c8",
        "colab": {
          "base_uri": "https://localhost:8080/",
          "height": 106
        }
      },
      "source": [
        "df.query('edad >12')"
      ],
      "execution_count": 0,
      "outputs": [
        {
          "output_type": "execute_result",
          "data": {
            "text/html": [
              "<div>\n",
              "<style scoped>\n",
              "    .dataframe tbody tr th:only-of-type {\n",
              "        vertical-align: middle;\n",
              "    }\n",
              "\n",
              "    .dataframe tbody tr th {\n",
              "        vertical-align: top;\n",
              "    }\n",
              "\n",
              "    .dataframe thead th {\n",
              "        text-align: right;\n",
              "    }\n",
              "</style>\n",
              "<table border=\"1\" class=\"dataframe\">\n",
              "  <thead>\n",
              "    <tr style=\"text-align: right;\">\n",
              "      <th></th>\n",
              "      <th>edad</th>\n",
              "      <th>cm</th>\n",
              "      <th>pais</th>\n",
              "      <th>genero</th>\n",
              "      <th>Q1</th>\n",
              "      <th>Q2</th>\n",
              "    </tr>\n",
              "  </thead>\n",
              "  <tbody>\n",
              "    <tr>\n",
              "      <th>camilo</th>\n",
              "      <td>13</td>\n",
              "      <td>130</td>\n",
              "      <td>co</td>\n",
              "      <td>F</td>\n",
              "      <td>8.0</td>\n",
              "      <td>9.0</td>\n",
              "    </tr>\n",
              "    <tr>\n",
              "      <th>daniel</th>\n",
              "      <td>14</td>\n",
              "      <td>155</td>\n",
              "      <td>mx</td>\n",
              "      <td>M</td>\n",
              "      <td>NaN</td>\n",
              "      <td>8.0</td>\n",
              "    </tr>\n",
              "  </tbody>\n",
              "</table>\n",
              "</div>"
            ],
            "text/plain": [
              "        edad   cm pais genero   Q1   Q2\n",
              "camilo    13  130   co      F  8.0  9.0\n",
              "daniel    14  155   mx      M  NaN  8.0"
            ]
          },
          "metadata": {
            "tags": []
          },
          "execution_count": 65
        }
      ]
    },
    {
      "cell_type": "code",
      "metadata": {
        "id": "Alm82o9zVagv",
        "colab_type": "code",
        "outputId": "1773d63a-815c-4945-c5eb-6f56d6af2ac5",
        "colab": {
          "base_uri": "https://localhost:8080/",
          "height": 195
        }
      },
      "source": [
        "df[df['Q2'] >= df['Q1']]"
      ],
      "execution_count": 0,
      "outputs": [
        {
          "output_type": "execute_result",
          "data": {
            "text/html": [
              "<div>\n",
              "<style scoped>\n",
              "    .dataframe tbody tr th:only-of-type {\n",
              "        vertical-align: middle;\n",
              "    }\n",
              "\n",
              "    .dataframe tbody tr th {\n",
              "        vertical-align: top;\n",
              "    }\n",
              "\n",
              "    .dataframe thead th {\n",
              "        text-align: right;\n",
              "    }\n",
              "</style>\n",
              "<table border=\"1\" class=\"dataframe\">\n",
              "  <thead>\n",
              "    <tr style=\"text-align: right;\">\n",
              "      <th></th>\n",
              "      <th>edad</th>\n",
              "      <th>cm</th>\n",
              "      <th>pais</th>\n",
              "      <th>genero</th>\n",
              "      <th>Q1</th>\n",
              "      <th>Q2</th>\n",
              "    </tr>\n",
              "  </thead>\n",
              "  <tbody>\n",
              "    <tr>\n",
              "      <th>ana</th>\n",
              "      <td>10</td>\n",
              "      <td>115</td>\n",
              "      <td>co</td>\n",
              "      <td>M</td>\n",
              "      <td>5.0</td>\n",
              "      <td>7.0</td>\n",
              "    </tr>\n",
              "    <tr>\n",
              "      <th>camilo</th>\n",
              "      <td>13</td>\n",
              "      <td>130</td>\n",
              "      <td>co</td>\n",
              "      <td>F</td>\n",
              "      <td>8.0</td>\n",
              "      <td>9.0</td>\n",
              "    </tr>\n",
              "    <tr>\n",
              "      <th>erika</th>\n",
              "      <td>12</td>\n",
              "      <td>125</td>\n",
              "      <td>mx</td>\n",
              "      <td>M</td>\n",
              "      <td>7.0</td>\n",
              "      <td>8.0</td>\n",
              "    </tr>\n",
              "    <tr>\n",
              "      <th>fabian</th>\n",
              "      <td>11</td>\n",
              "      <td>120</td>\n",
              "      <td>ch</td>\n",
              "      <td>M</td>\n",
              "      <td>8.0</td>\n",
              "      <td>8.0</td>\n",
              "    </tr>\n",
              "    <tr>\n",
              "      <th>gabriela</th>\n",
              "      <td>12</td>\n",
              "      <td>125</td>\n",
              "      <td>ch</td>\n",
              "      <td>F</td>\n",
              "      <td>3.0</td>\n",
              "      <td>9.0</td>\n",
              "    </tr>\n",
              "  </tbody>\n",
              "</table>\n",
              "</div>"
            ],
            "text/plain": [
              "          edad   cm pais genero   Q1   Q2\n",
              "ana         10  115   co      M  5.0  7.0\n",
              "camilo      13  130   co      F  8.0  9.0\n",
              "erika       12  125   mx      M  7.0  8.0\n",
              "fabian      11  120   ch      M  8.0  8.0\n",
              "gabriela    12  125   ch      F  3.0  9.0"
            ]
          },
          "metadata": {
            "tags": []
          },
          "execution_count": 66
        }
      ]
    },
    {
      "cell_type": "code",
      "metadata": {
        "id": "4xLEP6TsVmDG",
        "colab_type": "code",
        "colab": {}
      },
      "source": [
        ""
      ],
      "execution_count": 0,
      "outputs": []
    }
  ]
}