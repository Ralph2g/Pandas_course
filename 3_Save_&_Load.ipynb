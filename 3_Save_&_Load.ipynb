{
  "nbformat": 4,
  "nbformat_minor": 0,
  "metadata": {
    "colab": {
      "name": "3. Save_&_Load.ipynb",
      "provenance": [],
      "collapsed_sections": [],
      "authorship_tag": "ABX9TyO4aDGOVjnA7hY1qAjIgtwA",
      "include_colab_link": true
    },
    "kernelspec": {
      "name": "python3",
      "display_name": "Python 3"
    }
  },
  "cells": [
    {
      "cell_type": "markdown",
      "metadata": {
        "id": "view-in-github",
        "colab_type": "text"
      },
      "source": [
        "<a href=\"https://colab.research.google.com/github/Ralph2g/Pandas_course/blob/master/3_Save_%26_Load.ipynb\" target=\"_parent\"><img src=\"https://colab.research.google.com/assets/colab-badge.svg\" alt=\"Open In Colab\"/></a>"
      ]
    },
    {
      "cell_type": "code",
      "metadata": {
        "id": "Hzt_uDdReETb",
        "colab_type": "code",
        "outputId": "0ba73a7e-65ac-4a41-9637-80b9e9b0bb7f",
        "colab": {
          "base_uri": "https://localhost:8080/",
          "height": 54
        }
      },
      "source": [
        "from google.colab import drive\n",
        "drive.mount('/content/drive')"
      ],
      "execution_count": 0,
      "outputs": [
        {
          "output_type": "stream",
          "text": [
            "Drive already mounted at /content/drive; to attempt to forcibly remount, call drive.mount(\"/content/drive\", force_remount=True).\n"
          ],
          "name": "stdout"
        }
      ]
    },
    {
      "cell_type": "code",
      "metadata": {
        "id": "obrxgKnLehlT",
        "colab_type": "code",
        "outputId": "610d23db-3bc9-4d1f-ceaf-989efd682184",
        "colab": {
          "base_uri": "https://localhost:8080/",
          "height": 50
        }
      },
      "source": [
        "%cd '/content/drive/My Drive/Colab Notebooks'\n",
        "!ls"
      ],
      "execution_count": 0,
      "outputs": [
        {
          "output_type": "stream",
          "text": [
            "/content/drive/My Drive/Colab Notebooks\n",
            "db  hoyo-del-crimen.ipynb  Pandas_Course\n"
          ],
          "name": "stdout"
        }
      ]
    },
    {
      "cell_type": "code",
      "metadata": {
        "id": "V7U-le1UfBzk",
        "colab_type": "code",
        "outputId": "8dfbdeee-6597-42b3-b2f9-3a8f34bbf84f",
        "colab": {
          "base_uri": "https://localhost:8080/",
          "height": 54
        }
      },
      "source": [
        "!mkdir /content/drive/My\\ Drive/Colab\\ Notebooks/db"
      ],
      "execution_count": 0,
      "outputs": [
        {
          "output_type": "stream",
          "text": [
            "mkdir: cannot create directory ‘/content/drive/My Drive/Colab Notebooks/db’: File exists\n"
          ],
          "name": "stdout"
        }
      ]
    },
    {
      "cell_type": "code",
      "metadata": {
        "id": "gPFScprxfeAG",
        "colab_type": "code",
        "outputId": "c274ca8f-aead-4ac2-a02b-c107c1052303",
        "colab": {
          "base_uri": "https://localhost:8080/",
          "height": 34
        }
      },
      "source": [
        "dir_pandas = '/content/drive/My Drive/Colab Notebooks/db/{}'.format('test.csv')\n",
        "dir_pandas"
      ],
      "execution_count": 0,
      "outputs": [
        {
          "output_type": "execute_result",
          "data": {
            "text/plain": [
              "'/content/drive/My Drive/Colab Notebooks/db/test.csv'"
            ]
          },
          "metadata": {
            "tags": []
          },
          "execution_count": 10
        }
      ]
    },
    {
      "cell_type": "code",
      "metadata": {
        "id": "kXB6CGDnf-zS",
        "colab_type": "code",
        "colab": {}
      },
      "source": [
        "import pandas as pd\n",
        "pd.__version__\n",
        "import numpy as np"
      ],
      "execution_count": 0,
      "outputs": []
    },
    {
      "cell_type": "code",
      "metadata": {
        "id": "Zj1v2bMDgOis",
        "colab_type": "code",
        "outputId": "a904f3b3-d517-4e58-95b7-b9a43f7bde9f",
        "colab": {
          "base_uri": "https://localhost:8080/",
          "height": 118
        }
      },
      "source": [
        "dict_data = {\n",
        "    'edad' :     [ 10, 9, 13, 14, 12, 11, 12],\n",
        "    'cm' : [ 115, 110, 130, 155, 125, 120, 125],\n",
        "    'pais' :    [ 'co', 'mx', 'co', 'mx', 'mx', 'ch', 'ch'],\n",
        "    'genero' :  [ 'M', 'F', 'F', 'M', 'M', 'M', 'F'],\n",
        "    'Q1' : [ 5, 10, 8, np.nan, 7, 8, 3],\n",
        "    'Q2' : [ 7, 9, 9, 8, 8, 8, 9.]\n",
        "}\n",
        "dict_data"
      ],
      "execution_count": 0,
      "outputs": [
        {
          "output_type": "execute_result",
          "data": {
            "text/plain": [
              "{'Q1': [5, 10, 8, nan, 7, 8, 3],\n",
              " 'Q2': [7, 9, 9, 8, 8, 8, 9.0],\n",
              " 'cm': [115, 110, 130, 155, 125, 120, 125],\n",
              " 'edad': [10, 9, 13, 14, 12, 11, 12],\n",
              " 'genero': ['M', 'F', 'F', 'M', 'M', 'M', 'F'],\n",
              " 'pais': ['co', 'mx', 'co', 'mx', 'mx', 'ch', 'ch']}"
            ]
          },
          "metadata": {
            "tags": []
          },
          "execution_count": 12
        }
      ]
    },
    {
      "cell_type": "code",
      "metadata": {
        "id": "2sUaqfg5gf2L",
        "colab_type": "code",
        "colab": {}
      },
      "source": [
        "df = pd.DataFrame(dict_data)"
      ],
      "execution_count": 0,
      "outputs": []
    },
    {
      "cell_type": "code",
      "metadata": {
        "id": "oZKiYkNkgsOH",
        "colab_type": "code",
        "outputId": "ab0cf5a9-d5cf-438a-8010-dc74166f623e",
        "colab": {
          "base_uri": "https://localhost:8080/",
          "height": 34
        }
      },
      "source": [
        "dir_pandas = '/content/drive/My Drive/Colab Notebooks/db/{}'.format('test.csv')\n",
        "dir_pandas"
      ],
      "execution_count": 0,
      "outputs": [
        {
          "output_type": "execute_result",
          "data": {
            "text/plain": [
              "'/content/drive/My Drive/Colab Notebooks/db/test.csv'"
            ]
          },
          "metadata": {
            "tags": []
          },
          "execution_count": 14
        }
      ]
    },
    {
      "cell_type": "code",
      "metadata": {
        "id": "RVU8xLZXg1t5",
        "colab_type": "code",
        "colab": {}
      },
      "source": [
        "df.to_csv(dir_pandas)"
      ],
      "execution_count": 0,
      "outputs": []
    },
    {
      "cell_type": "code",
      "metadata": {
        "id": "eMeOr6BYhCMO",
        "colab_type": "code",
        "colab": {}
      },
      "source": [
        "#Para borrar el indice del csv\n",
        "df.to_csv(dir_pandas,index=False)"
      ],
      "execution_count": 0,
      "outputs": []
    },
    {
      "cell_type": "code",
      "metadata": {
        "id": "G5ySwOg5he5p",
        "colab_type": "code",
        "colab": {}
      },
      "source": [
        "df_read = pd.read_csv('/content/drive/My Drive/Colab Notebooks/db/test.csv')"
      ],
      "execution_count": 0,
      "outputs": []
    },
    {
      "cell_type": "code",
      "metadata": {
        "id": "m6b2Uo0-hyky",
        "colab_type": "code",
        "outputId": "33dc2b9e-380b-4f3f-f25b-16f187711567",
        "colab": {
          "base_uri": "https://localhost:8080/",
          "height": 254
        }
      },
      "source": [
        "df_read"
      ],
      "execution_count": 0,
      "outputs": [
        {
          "output_type": "execute_result",
          "data": {
            "text/html": [
              "<div>\n",
              "<style scoped>\n",
              "    .dataframe tbody tr th:only-of-type {\n",
              "        vertical-align: middle;\n",
              "    }\n",
              "\n",
              "    .dataframe tbody tr th {\n",
              "        vertical-align: top;\n",
              "    }\n",
              "\n",
              "    .dataframe thead th {\n",
              "        text-align: right;\n",
              "    }\n",
              "</style>\n",
              "<table border=\"1\" class=\"dataframe\">\n",
              "  <thead>\n",
              "    <tr style=\"text-align: right;\">\n",
              "      <th></th>\n",
              "      <th>edad</th>\n",
              "      <th>cm</th>\n",
              "      <th>pais</th>\n",
              "      <th>genero</th>\n",
              "      <th>Q1</th>\n",
              "      <th>Q2</th>\n",
              "    </tr>\n",
              "  </thead>\n",
              "  <tbody>\n",
              "    <tr>\n",
              "      <th>0</th>\n",
              "      <td>10</td>\n",
              "      <td>115</td>\n",
              "      <td>co</td>\n",
              "      <td>M</td>\n",
              "      <td>5.0</td>\n",
              "      <td>7.0</td>\n",
              "    </tr>\n",
              "    <tr>\n",
              "      <th>1</th>\n",
              "      <td>9</td>\n",
              "      <td>110</td>\n",
              "      <td>mx</td>\n",
              "      <td>F</td>\n",
              "      <td>10.0</td>\n",
              "      <td>9.0</td>\n",
              "    </tr>\n",
              "    <tr>\n",
              "      <th>2</th>\n",
              "      <td>13</td>\n",
              "      <td>130</td>\n",
              "      <td>co</td>\n",
              "      <td>F</td>\n",
              "      <td>8.0</td>\n",
              "      <td>9.0</td>\n",
              "    </tr>\n",
              "    <tr>\n",
              "      <th>3</th>\n",
              "      <td>14</td>\n",
              "      <td>155</td>\n",
              "      <td>mx</td>\n",
              "      <td>M</td>\n",
              "      <td>NaN</td>\n",
              "      <td>8.0</td>\n",
              "    </tr>\n",
              "    <tr>\n",
              "      <th>4</th>\n",
              "      <td>12</td>\n",
              "      <td>125</td>\n",
              "      <td>mx</td>\n",
              "      <td>M</td>\n",
              "      <td>7.0</td>\n",
              "      <td>8.0</td>\n",
              "    </tr>\n",
              "    <tr>\n",
              "      <th>5</th>\n",
              "      <td>11</td>\n",
              "      <td>120</td>\n",
              "      <td>ch</td>\n",
              "      <td>M</td>\n",
              "      <td>8.0</td>\n",
              "      <td>8.0</td>\n",
              "    </tr>\n",
              "    <tr>\n",
              "      <th>6</th>\n",
              "      <td>12</td>\n",
              "      <td>125</td>\n",
              "      <td>ch</td>\n",
              "      <td>F</td>\n",
              "      <td>3.0</td>\n",
              "      <td>9.0</td>\n",
              "    </tr>\n",
              "  </tbody>\n",
              "</table>\n",
              "</div>"
            ],
            "text/plain": [
              "   edad   cm pais genero    Q1   Q2\n",
              "0    10  115   co      M   5.0  7.0\n",
              "1     9  110   mx      F  10.0  9.0\n",
              "2    13  130   co      F   8.0  9.0\n",
              "3    14  155   mx      M   NaN  8.0\n",
              "4    12  125   mx      M   7.0  8.0\n",
              "5    11  120   ch      M   8.0  8.0\n",
              "6    12  125   ch      F   3.0  9.0"
            ]
          },
          "metadata": {
            "tags": []
          },
          "execution_count": 19
        }
      ]
    },
    {
      "cell_type": "code",
      "metadata": {
        "id": "cl11zL4Rh0Ur",
        "colab_type": "code",
        "colab": {}
      },
      "source": [
        "df.to_csv(dir_pandas,sep='|',index=False)"
      ],
      "execution_count": 0,
      "outputs": []
    },
    {
      "cell_type": "code",
      "metadata": {
        "id": "XOsXYlnYiEHb",
        "colab_type": "code",
        "colab": {}
      },
      "source": [
        "df_read = pd.read_csv('/content/drive/My Drive/Colab Notebooks/db/test.csv',sep='|')"
      ],
      "execution_count": 0,
      "outputs": []
    },
    {
      "cell_type": "code",
      "metadata": {
        "id": "EO40NaSQiWYZ",
        "colab_type": "code",
        "outputId": "31fdc41a-d6d2-4210-e58d-b5a41d749675",
        "colab": {
          "base_uri": "https://localhost:8080/",
          "height": 254
        }
      },
      "source": [
        "df_read"
      ],
      "execution_count": 0,
      "outputs": [
        {
          "output_type": "execute_result",
          "data": {
            "text/html": [
              "<div>\n",
              "<style scoped>\n",
              "    .dataframe tbody tr th:only-of-type {\n",
              "        vertical-align: middle;\n",
              "    }\n",
              "\n",
              "    .dataframe tbody tr th {\n",
              "        vertical-align: top;\n",
              "    }\n",
              "\n",
              "    .dataframe thead th {\n",
              "        text-align: right;\n",
              "    }\n",
              "</style>\n",
              "<table border=\"1\" class=\"dataframe\">\n",
              "  <thead>\n",
              "    <tr style=\"text-align: right;\">\n",
              "      <th></th>\n",
              "      <th>edad</th>\n",
              "      <th>cm</th>\n",
              "      <th>pais</th>\n",
              "      <th>genero</th>\n",
              "      <th>Q1</th>\n",
              "      <th>Q2</th>\n",
              "    </tr>\n",
              "  </thead>\n",
              "  <tbody>\n",
              "    <tr>\n",
              "      <th>0</th>\n",
              "      <td>10</td>\n",
              "      <td>115</td>\n",
              "      <td>co</td>\n",
              "      <td>M</td>\n",
              "      <td>5.0</td>\n",
              "      <td>7.0</td>\n",
              "    </tr>\n",
              "    <tr>\n",
              "      <th>1</th>\n",
              "      <td>9</td>\n",
              "      <td>110</td>\n",
              "      <td>mx</td>\n",
              "      <td>F</td>\n",
              "      <td>10.0</td>\n",
              "      <td>9.0</td>\n",
              "    </tr>\n",
              "    <tr>\n",
              "      <th>2</th>\n",
              "      <td>13</td>\n",
              "      <td>130</td>\n",
              "      <td>co</td>\n",
              "      <td>F</td>\n",
              "      <td>8.0</td>\n",
              "      <td>9.0</td>\n",
              "    </tr>\n",
              "    <tr>\n",
              "      <th>3</th>\n",
              "      <td>14</td>\n",
              "      <td>155</td>\n",
              "      <td>mx</td>\n",
              "      <td>M</td>\n",
              "      <td>NaN</td>\n",
              "      <td>8.0</td>\n",
              "    </tr>\n",
              "    <tr>\n",
              "      <th>4</th>\n",
              "      <td>12</td>\n",
              "      <td>125</td>\n",
              "      <td>mx</td>\n",
              "      <td>M</td>\n",
              "      <td>7.0</td>\n",
              "      <td>8.0</td>\n",
              "    </tr>\n",
              "    <tr>\n",
              "      <th>5</th>\n",
              "      <td>11</td>\n",
              "      <td>120</td>\n",
              "      <td>ch</td>\n",
              "      <td>M</td>\n",
              "      <td>8.0</td>\n",
              "      <td>8.0</td>\n",
              "    </tr>\n",
              "    <tr>\n",
              "      <th>6</th>\n",
              "      <td>12</td>\n",
              "      <td>125</td>\n",
              "      <td>ch</td>\n",
              "      <td>F</td>\n",
              "      <td>3.0</td>\n",
              "      <td>9.0</td>\n",
              "    </tr>\n",
              "  </tbody>\n",
              "</table>\n",
              "</div>"
            ],
            "text/plain": [
              "   edad   cm pais genero    Q1   Q2\n",
              "0    10  115   co      M   5.0  7.0\n",
              "1     9  110   mx      F  10.0  9.0\n",
              "2    13  130   co      F   8.0  9.0\n",
              "3    14  155   mx      M   NaN  8.0\n",
              "4    12  125   mx      M   7.0  8.0\n",
              "5    11  120   ch      M   8.0  8.0\n",
              "6    12  125   ch      F   3.0  9.0"
            ]
          },
          "metadata": {
            "tags": []
          },
          "execution_count": 23
        }
      ]
    },
    {
      "cell_type": "code",
      "metadata": {
        "id": "HtZUm-hyiW8C",
        "colab_type": "code",
        "outputId": "f9a7f3ec-36f6-410b-b55c-6c1139bfb2b6",
        "colab": {
          "base_uri": "https://localhost:8080/",
          "height": 34
        }
      },
      "source": [
        "dir_pandas = '/content/drive/My Drive/Colab Notebooks/db/{}'\n",
        "dir_pandas"
      ],
      "execution_count": 0,
      "outputs": [
        {
          "output_type": "execute_result",
          "data": {
            "text/plain": [
              "'/content/drive/My Drive/Colab Notebooks/db/{}'"
            ]
          },
          "metadata": {
            "tags": []
          },
          "execution_count": 24
        }
      ]
    },
    {
      "cell_type": "code",
      "metadata": {
        "id": "g7TEzh0UnlJp",
        "colab_type": "code",
        "colab": {}
      },
      "source": [
        "df.to_excel(dir_pandas.format('test.xlsx'),index=False,sheet_name='Hoja 1')"
      ],
      "execution_count": 0,
      "outputs": []
    },
    {
      "cell_type": "code",
      "metadata": {
        "id": "E2259WnXnss4",
        "colab_type": "code",
        "outputId": "383fd766-3ec4-4fdd-8a12-e856f6b59707",
        "colab": {
          "base_uri": "https://localhost:8080/",
          "height": 254
        }
      },
      "source": [
        "pd.read_excel(dir_pandas.format('test.xlsx'))"
      ],
      "execution_count": 0,
      "outputs": [
        {
          "output_type": "execute_result",
          "data": {
            "text/html": [
              "<div>\n",
              "<style scoped>\n",
              "    .dataframe tbody tr th:only-of-type {\n",
              "        vertical-align: middle;\n",
              "    }\n",
              "\n",
              "    .dataframe tbody tr th {\n",
              "        vertical-align: top;\n",
              "    }\n",
              "\n",
              "    .dataframe thead th {\n",
              "        text-align: right;\n",
              "    }\n",
              "</style>\n",
              "<table border=\"1\" class=\"dataframe\">\n",
              "  <thead>\n",
              "    <tr style=\"text-align: right;\">\n",
              "      <th></th>\n",
              "      <th>edad</th>\n",
              "      <th>cm</th>\n",
              "      <th>pais</th>\n",
              "      <th>genero</th>\n",
              "      <th>Q1</th>\n",
              "      <th>Q2</th>\n",
              "    </tr>\n",
              "  </thead>\n",
              "  <tbody>\n",
              "    <tr>\n",
              "      <th>0</th>\n",
              "      <td>10</td>\n",
              "      <td>115</td>\n",
              "      <td>co</td>\n",
              "      <td>M</td>\n",
              "      <td>5.0</td>\n",
              "      <td>7</td>\n",
              "    </tr>\n",
              "    <tr>\n",
              "      <th>1</th>\n",
              "      <td>9</td>\n",
              "      <td>110</td>\n",
              "      <td>mx</td>\n",
              "      <td>F</td>\n",
              "      <td>10.0</td>\n",
              "      <td>9</td>\n",
              "    </tr>\n",
              "    <tr>\n",
              "      <th>2</th>\n",
              "      <td>13</td>\n",
              "      <td>130</td>\n",
              "      <td>co</td>\n",
              "      <td>F</td>\n",
              "      <td>8.0</td>\n",
              "      <td>9</td>\n",
              "    </tr>\n",
              "    <tr>\n",
              "      <th>3</th>\n",
              "      <td>14</td>\n",
              "      <td>155</td>\n",
              "      <td>mx</td>\n",
              "      <td>M</td>\n",
              "      <td>NaN</td>\n",
              "      <td>8</td>\n",
              "    </tr>\n",
              "    <tr>\n",
              "      <th>4</th>\n",
              "      <td>12</td>\n",
              "      <td>125</td>\n",
              "      <td>mx</td>\n",
              "      <td>M</td>\n",
              "      <td>7.0</td>\n",
              "      <td>8</td>\n",
              "    </tr>\n",
              "    <tr>\n",
              "      <th>5</th>\n",
              "      <td>11</td>\n",
              "      <td>120</td>\n",
              "      <td>ch</td>\n",
              "      <td>M</td>\n",
              "      <td>8.0</td>\n",
              "      <td>8</td>\n",
              "    </tr>\n",
              "    <tr>\n",
              "      <th>6</th>\n",
              "      <td>12</td>\n",
              "      <td>125</td>\n",
              "      <td>ch</td>\n",
              "      <td>F</td>\n",
              "      <td>3.0</td>\n",
              "      <td>9</td>\n",
              "    </tr>\n",
              "  </tbody>\n",
              "</table>\n",
              "</div>"
            ],
            "text/plain": [
              "   edad   cm pais genero    Q1  Q2\n",
              "0    10  115   co      M   5.0   7\n",
              "1     9  110   mx      F  10.0   9\n",
              "2    13  130   co      F   8.0   9\n",
              "3    14  155   mx      M   NaN   8\n",
              "4    12  125   mx      M   7.0   8\n",
              "5    11  120   ch      M   8.0   8\n",
              "6    12  125   ch      F   3.0   9"
            ]
          },
          "metadata": {
            "tags": []
          },
          "execution_count": 30
        }
      ]
    },
    {
      "cell_type": "code",
      "metadata": {
        "id": "Wvrzg56Tn1MR",
        "colab_type": "code",
        "colab": {}
      },
      "source": [
        "df.to_json(dir_pandas.format('test.json'))"
      ],
      "execution_count": 0,
      "outputs": []
    },
    {
      "cell_type": "code",
      "metadata": {
        "id": "JBS9_3k6pB_N",
        "colab_type": "code",
        "outputId": "25dacdfd-0870-4e15-b515-451a620fe40f",
        "colab": {
          "base_uri": "https://localhost:8080/",
          "height": 254
        }
      },
      "source": [
        "pd.read_json(dir_pandas.format('test.json'))"
      ],
      "execution_count": 0,
      "outputs": [
        {
          "output_type": "execute_result",
          "data": {
            "text/html": [
              "<div>\n",
              "<style scoped>\n",
              "    .dataframe tbody tr th:only-of-type {\n",
              "        vertical-align: middle;\n",
              "    }\n",
              "\n",
              "    .dataframe tbody tr th {\n",
              "        vertical-align: top;\n",
              "    }\n",
              "\n",
              "    .dataframe thead th {\n",
              "        text-align: right;\n",
              "    }\n",
              "</style>\n",
              "<table border=\"1\" class=\"dataframe\">\n",
              "  <thead>\n",
              "    <tr style=\"text-align: right;\">\n",
              "      <th></th>\n",
              "      <th>edad</th>\n",
              "      <th>cm</th>\n",
              "      <th>pais</th>\n",
              "      <th>genero</th>\n",
              "      <th>Q1</th>\n",
              "      <th>Q2</th>\n",
              "    </tr>\n",
              "  </thead>\n",
              "  <tbody>\n",
              "    <tr>\n",
              "      <th>0</th>\n",
              "      <td>10</td>\n",
              "      <td>115</td>\n",
              "      <td>co</td>\n",
              "      <td>M</td>\n",
              "      <td>5.0</td>\n",
              "      <td>7</td>\n",
              "    </tr>\n",
              "    <tr>\n",
              "      <th>1</th>\n",
              "      <td>9</td>\n",
              "      <td>110</td>\n",
              "      <td>mx</td>\n",
              "      <td>F</td>\n",
              "      <td>10.0</td>\n",
              "      <td>9</td>\n",
              "    </tr>\n",
              "    <tr>\n",
              "      <th>2</th>\n",
              "      <td>13</td>\n",
              "      <td>130</td>\n",
              "      <td>co</td>\n",
              "      <td>F</td>\n",
              "      <td>8.0</td>\n",
              "      <td>9</td>\n",
              "    </tr>\n",
              "    <tr>\n",
              "      <th>3</th>\n",
              "      <td>14</td>\n",
              "      <td>155</td>\n",
              "      <td>mx</td>\n",
              "      <td>M</td>\n",
              "      <td>NaN</td>\n",
              "      <td>8</td>\n",
              "    </tr>\n",
              "    <tr>\n",
              "      <th>4</th>\n",
              "      <td>12</td>\n",
              "      <td>125</td>\n",
              "      <td>mx</td>\n",
              "      <td>M</td>\n",
              "      <td>7.0</td>\n",
              "      <td>8</td>\n",
              "    </tr>\n",
              "    <tr>\n",
              "      <th>5</th>\n",
              "      <td>11</td>\n",
              "      <td>120</td>\n",
              "      <td>ch</td>\n",
              "      <td>M</td>\n",
              "      <td>8.0</td>\n",
              "      <td>8</td>\n",
              "    </tr>\n",
              "    <tr>\n",
              "      <th>6</th>\n",
              "      <td>12</td>\n",
              "      <td>125</td>\n",
              "      <td>ch</td>\n",
              "      <td>F</td>\n",
              "      <td>3.0</td>\n",
              "      <td>9</td>\n",
              "    </tr>\n",
              "  </tbody>\n",
              "</table>\n",
              "</div>"
            ],
            "text/plain": [
              "   edad   cm pais genero    Q1  Q2\n",
              "0    10  115   co      M   5.0   7\n",
              "1     9  110   mx      F  10.0   9\n",
              "2    13  130   co      F   8.0   9\n",
              "3    14  155   mx      M   NaN   8\n",
              "4    12  125   mx      M   7.0   8\n",
              "5    11  120   ch      M   8.0   8\n",
              "6    12  125   ch      F   3.0   9"
            ]
          },
          "metadata": {
            "tags": []
          },
          "execution_count": 32
        }
      ]
    },
    {
      "cell_type": "code",
      "metadata": {
        "id": "SRDmjS5ypV19",
        "colab_type": "code",
        "colab": {}
      },
      "source": [
        "df.to_pickle(dir_pandas.format('test.pkl'))"
      ],
      "execution_count": 0,
      "outputs": []
    },
    {
      "cell_type": "code",
      "metadata": {
        "id": "fF-5fC4mp9JM",
        "colab_type": "code",
        "outputId": "f17b7bb6-c36b-466c-f1bc-a13cdf5854d0",
        "colab": {
          "base_uri": "https://localhost:8080/",
          "height": 254
        }
      },
      "source": [
        "pd.read_pickle(dir_pandas.format('test.pkl'))"
      ],
      "execution_count": 0,
      "outputs": [
        {
          "output_type": "execute_result",
          "data": {
            "text/html": [
              "<div>\n",
              "<style scoped>\n",
              "    .dataframe tbody tr th:only-of-type {\n",
              "        vertical-align: middle;\n",
              "    }\n",
              "\n",
              "    .dataframe tbody tr th {\n",
              "        vertical-align: top;\n",
              "    }\n",
              "\n",
              "    .dataframe thead th {\n",
              "        text-align: right;\n",
              "    }\n",
              "</style>\n",
              "<table border=\"1\" class=\"dataframe\">\n",
              "  <thead>\n",
              "    <tr style=\"text-align: right;\">\n",
              "      <th></th>\n",
              "      <th>edad</th>\n",
              "      <th>cm</th>\n",
              "      <th>pais</th>\n",
              "      <th>genero</th>\n",
              "      <th>Q1</th>\n",
              "      <th>Q2</th>\n",
              "    </tr>\n",
              "  </thead>\n",
              "  <tbody>\n",
              "    <tr>\n",
              "      <th>0</th>\n",
              "      <td>10</td>\n",
              "      <td>115</td>\n",
              "      <td>co</td>\n",
              "      <td>M</td>\n",
              "      <td>5.0</td>\n",
              "      <td>7.0</td>\n",
              "    </tr>\n",
              "    <tr>\n",
              "      <th>1</th>\n",
              "      <td>9</td>\n",
              "      <td>110</td>\n",
              "      <td>mx</td>\n",
              "      <td>F</td>\n",
              "      <td>10.0</td>\n",
              "      <td>9.0</td>\n",
              "    </tr>\n",
              "    <tr>\n",
              "      <th>2</th>\n",
              "      <td>13</td>\n",
              "      <td>130</td>\n",
              "      <td>co</td>\n",
              "      <td>F</td>\n",
              "      <td>8.0</td>\n",
              "      <td>9.0</td>\n",
              "    </tr>\n",
              "    <tr>\n",
              "      <th>3</th>\n",
              "      <td>14</td>\n",
              "      <td>155</td>\n",
              "      <td>mx</td>\n",
              "      <td>M</td>\n",
              "      <td>NaN</td>\n",
              "      <td>8.0</td>\n",
              "    </tr>\n",
              "    <tr>\n",
              "      <th>4</th>\n",
              "      <td>12</td>\n",
              "      <td>125</td>\n",
              "      <td>mx</td>\n",
              "      <td>M</td>\n",
              "      <td>7.0</td>\n",
              "      <td>8.0</td>\n",
              "    </tr>\n",
              "    <tr>\n",
              "      <th>5</th>\n",
              "      <td>11</td>\n",
              "      <td>120</td>\n",
              "      <td>ch</td>\n",
              "      <td>M</td>\n",
              "      <td>8.0</td>\n",
              "      <td>8.0</td>\n",
              "    </tr>\n",
              "    <tr>\n",
              "      <th>6</th>\n",
              "      <td>12</td>\n",
              "      <td>125</td>\n",
              "      <td>ch</td>\n",
              "      <td>F</td>\n",
              "      <td>3.0</td>\n",
              "      <td>9.0</td>\n",
              "    </tr>\n",
              "  </tbody>\n",
              "</table>\n",
              "</div>"
            ],
            "text/plain": [
              "   edad   cm pais genero    Q1   Q2\n",
              "0    10  115   co      M   5.0  7.0\n",
              "1     9  110   mx      F  10.0  9.0\n",
              "2    13  130   co      F   8.0  9.0\n",
              "3    14  155   mx      M   NaN  8.0\n",
              "4    12  125   mx      M   7.0  8.0\n",
              "5    11  120   ch      M   8.0  8.0\n",
              "6    12  125   ch      F   3.0  9.0"
            ]
          },
          "metadata": {
            "tags": []
          },
          "execution_count": 34
        }
      ]
    },
    {
      "cell_type": "code",
      "metadata": {
        "id": "nuPrOBCvqCwy",
        "colab_type": "code",
        "colab": {}
      },
      "source": [
        ""
      ],
      "execution_count": 0,
      "outputs": []
    }
  ]
}