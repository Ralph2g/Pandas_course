{
  "nbformat": 4,
  "nbformat_minor": 0,
  "metadata": {
    "colab": {
      "name": "11 Datetime.ipynb",
      "provenance": [],
      "collapsed_sections": [],
      "authorship_tag": "ABX9TyNJBLF2g6iDa78inCnKG3a/",
      "include_colab_link": true
    },
    "kernelspec": {
      "name": "python3",
      "display_name": "Python 3"
    }
  },
  "cells": [
    {
      "cell_type": "markdown",
      "metadata": {
        "id": "view-in-github",
        "colab_type": "text"
      },
      "source": [
        "<a href=\"https://colab.research.google.com/github/Ralph2g/Pandas_course/blob/master/11_Datetime.ipynb\" target=\"_parent\"><img src=\"https://colab.research.google.com/assets/colab-badge.svg\" alt=\"Open In Colab\"/></a>"
      ]
    },
    {
      "cell_type": "code",
      "metadata": {
        "id": "VSDcaXn8FPWU",
        "colab_type": "code",
        "colab": {
          "base_uri": "https://localhost:8080/",
          "height": 54
        },
        "outputId": "8ffa1efe-a8f4-443f-8e97-ef8192431376"
      },
      "source": [
        "from google.colab import drive\n",
        "drive.mount('/content/drive')"
      ],
      "execution_count": 185,
      "outputs": [
        {
          "output_type": "stream",
          "text": [
            "Drive already mounted at /content/drive; to attempt to forcibly remount, call drive.mount(\"/content/drive\", force_remount=True).\n"
          ],
          "name": "stdout"
        }
      ]
    },
    {
      "cell_type": "code",
      "metadata": {
        "id": "_WtXeAZO--z9",
        "colab_type": "code",
        "colab": {
          "base_uri": "https://localhost:8080/",
          "height": 67
        },
        "outputId": "6a361f7b-ffe2-4e43-9431-26d6c8337410"
      },
      "source": [
        "%cd '/content/drive/My Drive/Colab Notebooks/db'\n",
        "!ls"
      ],
      "execution_count": 186,
      "outputs": [
        {
          "output_type": "stream",
          "text": [
            "/content/drive/My Drive/Colab Notebooks/db\n",
            "covid_19_data.csv  Meteorite_Landings.csv  test.csv   test.pkl\n",
            "london_merged.csv  poblacion.csv\t   test.json  test.xlsx\n"
          ],
          "name": "stdout"
        }
      ]
    },
    {
      "cell_type": "code",
      "metadata": {
        "id": "McoRW12v_OtP",
        "colab_type": "code",
        "colab": {}
      },
      "source": [
        "import pandas as pd\n",
        "import numpy as np"
      ],
      "execution_count": 187,
      "outputs": []
    },
    {
      "cell_type": "code",
      "metadata": {
        "id": "GopnZQcS_PgJ",
        "colab_type": "code",
        "colab": {}
      },
      "source": [
        "df = pd.read_csv('covid_19_data.csv')\n",
        "df.sample(10)\n",
        "# Convertimos nuestro dato a datatime\n",
        "df['ObservationDate'] = pd.to_datetime(df['ObservationDate'])"
      ],
      "execution_count": 188,
      "outputs": []
    },
    {
      "cell_type": "code",
      "metadata": {
        "id": "RuMK9XStAQus",
        "colab_type": "code",
        "colab": {
          "base_uri": "https://localhost:8080/",
          "height": 151
        },
        "outputId": "523a3e0b-fd0e-460b-b722-382d393dec66"
      },
      "source": [
        "list(df)"
      ],
      "execution_count": 189,
      "outputs": [
        {
          "output_type": "execute_result",
          "data": {
            "text/plain": [
              "['SNo',\n",
              " 'ObservationDate',\n",
              " 'Province/State',\n",
              " 'Country/Region',\n",
              " 'Last Update',\n",
              " 'Confirmed',\n",
              " 'Deaths',\n",
              " 'Recovered']"
            ]
          },
          "metadata": {
            "tags": []
          },
          "execution_count": 189
        }
      ]
    },
    {
      "cell_type": "code",
      "metadata": {
        "id": "ZQZfOWVbBDXo",
        "colab_type": "code",
        "colab": {
          "base_uri": "https://localhost:8080/",
          "height": 402
        },
        "outputId": "a583456e-ddcd-4f0d-c9f6-07b65d081f5a"
      },
      "source": [
        "# Quitamos las columnas que no nos gustan\n",
        "df = df[[\n",
        "  'ObservationDate',\n",
        "  'Country/Region',\n",
        "  'Confirmed',\n",
        "  'Deaths',\n",
        "  'Recovered']]\n",
        "df"
      ],
      "execution_count": 190,
      "outputs": [
        {
          "output_type": "execute_result",
          "data": {
            "text/html": [
              "<div>\n",
              "<style scoped>\n",
              "    .dataframe tbody tr th:only-of-type {\n",
              "        vertical-align: middle;\n",
              "    }\n",
              "\n",
              "    .dataframe tbody tr th {\n",
              "        vertical-align: top;\n",
              "    }\n",
              "\n",
              "    .dataframe thead th {\n",
              "        text-align: right;\n",
              "    }\n",
              "</style>\n",
              "<table border=\"1\" class=\"dataframe\">\n",
              "  <thead>\n",
              "    <tr style=\"text-align: right;\">\n",
              "      <th></th>\n",
              "      <th>ObservationDate</th>\n",
              "      <th>Country/Region</th>\n",
              "      <th>Confirmed</th>\n",
              "      <th>Deaths</th>\n",
              "      <th>Recovered</th>\n",
              "    </tr>\n",
              "  </thead>\n",
              "  <tbody>\n",
              "    <tr>\n",
              "      <th>0</th>\n",
              "      <td>2020-01-22</td>\n",
              "      <td>Mainland China</td>\n",
              "      <td>1.0</td>\n",
              "      <td>0.0</td>\n",
              "      <td>0.0</td>\n",
              "    </tr>\n",
              "    <tr>\n",
              "      <th>1</th>\n",
              "      <td>2020-01-22</td>\n",
              "      <td>Mainland China</td>\n",
              "      <td>14.0</td>\n",
              "      <td>0.0</td>\n",
              "      <td>0.0</td>\n",
              "    </tr>\n",
              "    <tr>\n",
              "      <th>2</th>\n",
              "      <td>2020-01-22</td>\n",
              "      <td>Mainland China</td>\n",
              "      <td>6.0</td>\n",
              "      <td>0.0</td>\n",
              "      <td>0.0</td>\n",
              "    </tr>\n",
              "    <tr>\n",
              "      <th>3</th>\n",
              "      <td>2020-01-22</td>\n",
              "      <td>Mainland China</td>\n",
              "      <td>1.0</td>\n",
              "      <td>0.0</td>\n",
              "      <td>0.0</td>\n",
              "    </tr>\n",
              "    <tr>\n",
              "      <th>4</th>\n",
              "      <td>2020-01-22</td>\n",
              "      <td>Mainland China</td>\n",
              "      <td>0.0</td>\n",
              "      <td>0.0</td>\n",
              "      <td>0.0</td>\n",
              "    </tr>\n",
              "    <tr>\n",
              "      <th>...</th>\n",
              "      <td>...</td>\n",
              "      <td>...</td>\n",
              "      <td>...</td>\n",
              "      <td>...</td>\n",
              "      <td>...</td>\n",
              "    </tr>\n",
              "    <tr>\n",
              "      <th>43716</th>\n",
              "      <td>2020-06-16</td>\n",
              "      <td>Mexico</td>\n",
              "      <td>560.0</td>\n",
              "      <td>62.0</td>\n",
              "      <td>335.0</td>\n",
              "    </tr>\n",
              "    <tr>\n",
              "      <th>43717</th>\n",
              "      <td>2020-06-16</td>\n",
              "      <td>Ukraine</td>\n",
              "      <td>1726.0</td>\n",
              "      <td>42.0</td>\n",
              "      <td>706.0</td>\n",
              "    </tr>\n",
              "    <tr>\n",
              "      <th>43718</th>\n",
              "      <td>2020-06-16</td>\n",
              "      <td>Ukraine</td>\n",
              "      <td>531.0</td>\n",
              "      <td>16.0</td>\n",
              "      <td>336.0</td>\n",
              "    </tr>\n",
              "    <tr>\n",
              "      <th>43719</th>\n",
              "      <td>2020-06-16</td>\n",
              "      <td>Mainland China</td>\n",
              "      <td>1269.0</td>\n",
              "      <td>1.0</td>\n",
              "      <td>1267.0</td>\n",
              "    </tr>\n",
              "    <tr>\n",
              "      <th>43720</th>\n",
              "      <td>2020-06-16</td>\n",
              "      <td>Ukraine</td>\n",
              "      <td>1101.0</td>\n",
              "      <td>20.0</td>\n",
              "      <td>559.0</td>\n",
              "    </tr>\n",
              "  </tbody>\n",
              "</table>\n",
              "<p>43721 rows × 5 columns</p>\n",
              "</div>"
            ],
            "text/plain": [
              "      ObservationDate  Country/Region  Confirmed  Deaths  Recovered\n",
              "0          2020-01-22  Mainland China        1.0     0.0        0.0\n",
              "1          2020-01-22  Mainland China       14.0     0.0        0.0\n",
              "2          2020-01-22  Mainland China        6.0     0.0        0.0\n",
              "3          2020-01-22  Mainland China        1.0     0.0        0.0\n",
              "4          2020-01-22  Mainland China        0.0     0.0        0.0\n",
              "...               ...             ...        ...     ...        ...\n",
              "43716      2020-06-16          Mexico      560.0    62.0      335.0\n",
              "43717      2020-06-16         Ukraine     1726.0    42.0      706.0\n",
              "43718      2020-06-16         Ukraine      531.0    16.0      336.0\n",
              "43719      2020-06-16  Mainland China     1269.0     1.0     1267.0\n",
              "43720      2020-06-16         Ukraine     1101.0    20.0      559.0\n",
              "\n",
              "[43721 rows x 5 columns]"
            ]
          },
          "metadata": {
            "tags": []
          },
          "execution_count": 190
        }
      ]
    },
    {
      "cell_type": "code",
      "metadata": {
        "id": "JMdNFt-RBNsl",
        "colab_type": "code",
        "colab": {
          "base_uri": "https://localhost:8080/",
          "height": 225
        },
        "outputId": "5902d60e-02e6-4c85-d060-5f87b8e7e067"
      },
      "source": [
        "# agrupamos por día y sumamos todos los casos\n",
        "\n",
        "df_time = df.groupby('ObservationDate')[['Confirmed','Deaths','Recovered']].sum()\n",
        "df_time.head(5)"
      ],
      "execution_count": 191,
      "outputs": [
        {
          "output_type": "execute_result",
          "data": {
            "text/html": [
              "<div>\n",
              "<style scoped>\n",
              "    .dataframe tbody tr th:only-of-type {\n",
              "        vertical-align: middle;\n",
              "    }\n",
              "\n",
              "    .dataframe tbody tr th {\n",
              "        vertical-align: top;\n",
              "    }\n",
              "\n",
              "    .dataframe thead th {\n",
              "        text-align: right;\n",
              "    }\n",
              "</style>\n",
              "<table border=\"1\" class=\"dataframe\">\n",
              "  <thead>\n",
              "    <tr style=\"text-align: right;\">\n",
              "      <th></th>\n",
              "      <th>Confirmed</th>\n",
              "      <th>Deaths</th>\n",
              "      <th>Recovered</th>\n",
              "    </tr>\n",
              "    <tr>\n",
              "      <th>ObservationDate</th>\n",
              "      <th></th>\n",
              "      <th></th>\n",
              "      <th></th>\n",
              "    </tr>\n",
              "  </thead>\n",
              "  <tbody>\n",
              "    <tr>\n",
              "      <th>2020-01-22</th>\n",
              "      <td>555.0</td>\n",
              "      <td>17.0</td>\n",
              "      <td>28.0</td>\n",
              "    </tr>\n",
              "    <tr>\n",
              "      <th>2020-01-23</th>\n",
              "      <td>653.0</td>\n",
              "      <td>18.0</td>\n",
              "      <td>30.0</td>\n",
              "    </tr>\n",
              "    <tr>\n",
              "      <th>2020-01-24</th>\n",
              "      <td>941.0</td>\n",
              "      <td>26.0</td>\n",
              "      <td>36.0</td>\n",
              "    </tr>\n",
              "    <tr>\n",
              "      <th>2020-01-25</th>\n",
              "      <td>1438.0</td>\n",
              "      <td>42.0</td>\n",
              "      <td>39.0</td>\n",
              "    </tr>\n",
              "    <tr>\n",
              "      <th>2020-01-26</th>\n",
              "      <td>2118.0</td>\n",
              "      <td>56.0</td>\n",
              "      <td>52.0</td>\n",
              "    </tr>\n",
              "  </tbody>\n",
              "</table>\n",
              "</div>"
            ],
            "text/plain": [
              "                 Confirmed  Deaths  Recovered\n",
              "ObservationDate                              \n",
              "2020-01-22           555.0    17.0       28.0\n",
              "2020-01-23           653.0    18.0       30.0\n",
              "2020-01-24           941.0    26.0       36.0\n",
              "2020-01-25          1438.0    42.0       39.0\n",
              "2020-01-26          2118.0    56.0       52.0"
            ]
          },
          "metadata": {
            "tags": []
          },
          "execution_count": 191
        }
      ]
    },
    {
      "cell_type": "code",
      "metadata": {
        "id": "fTsHcaL2B1Ab",
        "colab_type": "code",
        "colab": {
          "base_uri": "https://localhost:8080/",
          "height": 134
        },
        "outputId": "eaa52087-72cb-4e7f-f340-de5f0bd5e426"
      },
      "source": [
        "# tratemos de hacer unas operaciones con los Dataframes\n",
        "\n",
        "df1 = df_time['Confirmed'].iloc[10:15]\n",
        "df1"
      ],
      "execution_count": 192,
      "outputs": [
        {
          "output_type": "execute_result",
          "data": {
            "text/plain": [
              "ObservationDate\n",
              "2020-02-01    12038.0\n",
              "2020-02-02    16787.0\n",
              "2020-02-03    19881.0\n",
              "2020-02-04    23892.0\n",
              "2020-02-05    27636.0\n",
              "Name: Confirmed, dtype: float64"
            ]
          },
          "metadata": {
            "tags": []
          },
          "execution_count": 192
        }
      ]
    },
    {
      "cell_type": "code",
      "metadata": {
        "id": "1rp6Y6YQCF4S",
        "colab_type": "code",
        "colab": {
          "base_uri": "https://localhost:8080/",
          "height": 134
        },
        "outputId": "803f17b8-eb82-468d-9018-77ecf80c0710"
      },
      "source": [
        "df2 = df_time['Deaths'].iloc[12:17]\n",
        "df2"
      ],
      "execution_count": 193,
      "outputs": [
        {
          "output_type": "execute_result",
          "data": {
            "text/plain": [
              "ObservationDate\n",
              "2020-02-03    426.0\n",
              "2020-02-04    492.0\n",
              "2020-02-05    564.0\n",
              "2020-02-06    634.0\n",
              "2020-02-07    719.0\n",
              "Name: Deaths, dtype: float64"
            ]
          },
          "metadata": {
            "tags": []
          },
          "execution_count": 193
        }
      ]
    },
    {
      "cell_type": "code",
      "metadata": {
        "id": "9DtBLMf_Cc4o",
        "colab_type": "code",
        "colab": {
          "base_uri": "https://localhost:8080/",
          "height": 168
        },
        "outputId": "856ecb07-a45b-40f7-c51d-8e968a698dd5"
      },
      "source": [
        "df1 - df2"
      ],
      "execution_count": 194,
      "outputs": [
        {
          "output_type": "execute_result",
          "data": {
            "text/plain": [
              "ObservationDate\n",
              "2020-02-01        NaN\n",
              "2020-02-02        NaN\n",
              "2020-02-03    19455.0\n",
              "2020-02-04    23400.0\n",
              "2020-02-05    27072.0\n",
              "2020-02-06        NaN\n",
              "2020-02-07        NaN\n",
              "dtype: float64"
            ]
          },
          "metadata": {
            "tags": []
          },
          "execution_count": 194
        }
      ]
    },
    {
      "cell_type": "code",
      "metadata": {
        "id": "KRVLCsdYCecv",
        "colab_type": "code",
        "colab": {
          "base_uri": "https://localhost:8080/",
          "height": 431
        },
        "outputId": "5cbae562-375d-41be-9e5d-a0f6882402a6"
      },
      "source": [
        "# Podemos ver la diferencia de valores con diff\n",
        "\n",
        "df_diff = df_time.diff()\n",
        "df_diff"
      ],
      "execution_count": 195,
      "outputs": [
        {
          "output_type": "execute_result",
          "data": {
            "text/html": [
              "<div>\n",
              "<style scoped>\n",
              "    .dataframe tbody tr th:only-of-type {\n",
              "        vertical-align: middle;\n",
              "    }\n",
              "\n",
              "    .dataframe tbody tr th {\n",
              "        vertical-align: top;\n",
              "    }\n",
              "\n",
              "    .dataframe thead th {\n",
              "        text-align: right;\n",
              "    }\n",
              "</style>\n",
              "<table border=\"1\" class=\"dataframe\">\n",
              "  <thead>\n",
              "    <tr style=\"text-align: right;\">\n",
              "      <th></th>\n",
              "      <th>Confirmed</th>\n",
              "      <th>Deaths</th>\n",
              "      <th>Recovered</th>\n",
              "    </tr>\n",
              "    <tr>\n",
              "      <th>ObservationDate</th>\n",
              "      <th></th>\n",
              "      <th></th>\n",
              "      <th></th>\n",
              "    </tr>\n",
              "  </thead>\n",
              "  <tbody>\n",
              "    <tr>\n",
              "      <th>2020-01-22</th>\n",
              "      <td>NaN</td>\n",
              "      <td>NaN</td>\n",
              "      <td>NaN</td>\n",
              "    </tr>\n",
              "    <tr>\n",
              "      <th>2020-01-23</th>\n",
              "      <td>98.0</td>\n",
              "      <td>1.0</td>\n",
              "      <td>2.0</td>\n",
              "    </tr>\n",
              "    <tr>\n",
              "      <th>2020-01-24</th>\n",
              "      <td>288.0</td>\n",
              "      <td>8.0</td>\n",
              "      <td>6.0</td>\n",
              "    </tr>\n",
              "    <tr>\n",
              "      <th>2020-01-25</th>\n",
              "      <td>497.0</td>\n",
              "      <td>16.0</td>\n",
              "      <td>3.0</td>\n",
              "    </tr>\n",
              "    <tr>\n",
              "      <th>2020-01-26</th>\n",
              "      <td>680.0</td>\n",
              "      <td>14.0</td>\n",
              "      <td>13.0</td>\n",
              "    </tr>\n",
              "    <tr>\n",
              "      <th>...</th>\n",
              "      <td>...</td>\n",
              "      <td>...</td>\n",
              "      <td>...</td>\n",
              "    </tr>\n",
              "    <tr>\n",
              "      <th>2020-06-12</th>\n",
              "      <td>118321.0</td>\n",
              "      <td>3936.0</td>\n",
              "      <td>72581.0</td>\n",
              "    </tr>\n",
              "    <tr>\n",
              "      <th>2020-06-13</th>\n",
              "      <td>134150.0</td>\n",
              "      <td>4342.0</td>\n",
              "      <td>85027.0</td>\n",
              "    </tr>\n",
              "    <tr>\n",
              "      <th>2020-06-14</th>\n",
              "      <td>133972.0</td>\n",
              "      <td>3330.0</td>\n",
              "      <td>71408.0</td>\n",
              "    </tr>\n",
              "    <tr>\n",
              "      <th>2020-06-15</th>\n",
              "      <td>133580.0</td>\n",
              "      <td>3833.0</td>\n",
              "      <td>87627.0</td>\n",
              "    </tr>\n",
              "    <tr>\n",
              "      <th>2020-06-16</th>\n",
              "      <td>139436.0</td>\n",
              "      <td>6786.0</td>\n",
              "      <td>97830.0</td>\n",
              "    </tr>\n",
              "  </tbody>\n",
              "</table>\n",
              "<p>147 rows × 3 columns</p>\n",
              "</div>"
            ],
            "text/plain": [
              "                 Confirmed  Deaths  Recovered\n",
              "ObservationDate                              \n",
              "2020-01-22             NaN     NaN        NaN\n",
              "2020-01-23            98.0     1.0        2.0\n",
              "2020-01-24           288.0     8.0        6.0\n",
              "2020-01-25           497.0    16.0        3.0\n",
              "2020-01-26           680.0    14.0       13.0\n",
              "...                    ...     ...        ...\n",
              "2020-06-12        118321.0  3936.0    72581.0\n",
              "2020-06-13        134150.0  4342.0    85027.0\n",
              "2020-06-14        133972.0  3330.0    71408.0\n",
              "2020-06-15        133580.0  3833.0    87627.0\n",
              "2020-06-16        139436.0  6786.0    97830.0\n",
              "\n",
              "[147 rows x 3 columns]"
            ]
          },
          "metadata": {
            "tags": []
          },
          "execution_count": 195
        }
      ]
    },
    {
      "cell_type": "code",
      "metadata": {
        "id": "BQYd2VstCtYH",
        "colab_type": "code",
        "colab": {
          "base_uri": "https://localhost:8080/",
          "height": 67
        },
        "outputId": "ef6b85f7-d20f-4341-cf51-91cdc521d23f"
      },
      "source": [
        "# Tenemos que tratar con el valor numero para esto tomamos el valor inicial\n",
        "df_time.head(1).to_dict()"
      ],
      "execution_count": 196,
      "outputs": [
        {
          "output_type": "execute_result",
          "data": {
            "text/plain": [
              "{'Confirmed': {Timestamp('2020-01-22 00:00:00'): 555.0},\n",
              " 'Deaths': {Timestamp('2020-01-22 00:00:00'): 17.0},\n",
              " 'Recovered': {Timestamp('2020-01-22 00:00:00'): 28.0}}"
            ]
          },
          "metadata": {
            "tags": []
          },
          "execution_count": 196
        }
      ]
    },
    {
      "cell_type": "code",
      "metadata": {
        "id": "47MmER-SDFLm",
        "colab_type": "code",
        "colab": {}
      },
      "source": [
        "df_diff = df_diff.fillna({'Confirmed': 555.0,\n",
        " 'Deaths': 17.0,\n",
        " 'Recovered': 28.0})"
      ],
      "execution_count": 197,
      "outputs": []
    },
    {
      "cell_type": "code",
      "metadata": {
        "id": "zV9nuORmDR82",
        "colab_type": "code",
        "colab": {
          "base_uri": "https://localhost:8080/",
          "height": 431
        },
        "outputId": "b8960a48-ecc5-4d31-f430-92140e326b8d"
      },
      "source": [
        "# aqui vemos el dato tratado\n",
        "df_diff"
      ],
      "execution_count": 198,
      "outputs": [
        {
          "output_type": "execute_result",
          "data": {
            "text/html": [
              "<div>\n",
              "<style scoped>\n",
              "    .dataframe tbody tr th:only-of-type {\n",
              "        vertical-align: middle;\n",
              "    }\n",
              "\n",
              "    .dataframe tbody tr th {\n",
              "        vertical-align: top;\n",
              "    }\n",
              "\n",
              "    .dataframe thead th {\n",
              "        text-align: right;\n",
              "    }\n",
              "</style>\n",
              "<table border=\"1\" class=\"dataframe\">\n",
              "  <thead>\n",
              "    <tr style=\"text-align: right;\">\n",
              "      <th></th>\n",
              "      <th>Confirmed</th>\n",
              "      <th>Deaths</th>\n",
              "      <th>Recovered</th>\n",
              "    </tr>\n",
              "    <tr>\n",
              "      <th>ObservationDate</th>\n",
              "      <th></th>\n",
              "      <th></th>\n",
              "      <th></th>\n",
              "    </tr>\n",
              "  </thead>\n",
              "  <tbody>\n",
              "    <tr>\n",
              "      <th>2020-01-22</th>\n",
              "      <td>555.0</td>\n",
              "      <td>17.0</td>\n",
              "      <td>28.0</td>\n",
              "    </tr>\n",
              "    <tr>\n",
              "      <th>2020-01-23</th>\n",
              "      <td>98.0</td>\n",
              "      <td>1.0</td>\n",
              "      <td>2.0</td>\n",
              "    </tr>\n",
              "    <tr>\n",
              "      <th>2020-01-24</th>\n",
              "      <td>288.0</td>\n",
              "      <td>8.0</td>\n",
              "      <td>6.0</td>\n",
              "    </tr>\n",
              "    <tr>\n",
              "      <th>2020-01-25</th>\n",
              "      <td>497.0</td>\n",
              "      <td>16.0</td>\n",
              "      <td>3.0</td>\n",
              "    </tr>\n",
              "    <tr>\n",
              "      <th>2020-01-26</th>\n",
              "      <td>680.0</td>\n",
              "      <td>14.0</td>\n",
              "      <td>13.0</td>\n",
              "    </tr>\n",
              "    <tr>\n",
              "      <th>...</th>\n",
              "      <td>...</td>\n",
              "      <td>...</td>\n",
              "      <td>...</td>\n",
              "    </tr>\n",
              "    <tr>\n",
              "      <th>2020-06-12</th>\n",
              "      <td>118321.0</td>\n",
              "      <td>3936.0</td>\n",
              "      <td>72581.0</td>\n",
              "    </tr>\n",
              "    <tr>\n",
              "      <th>2020-06-13</th>\n",
              "      <td>134150.0</td>\n",
              "      <td>4342.0</td>\n",
              "      <td>85027.0</td>\n",
              "    </tr>\n",
              "    <tr>\n",
              "      <th>2020-06-14</th>\n",
              "      <td>133972.0</td>\n",
              "      <td>3330.0</td>\n",
              "      <td>71408.0</td>\n",
              "    </tr>\n",
              "    <tr>\n",
              "      <th>2020-06-15</th>\n",
              "      <td>133580.0</td>\n",
              "      <td>3833.0</td>\n",
              "      <td>87627.0</td>\n",
              "    </tr>\n",
              "    <tr>\n",
              "      <th>2020-06-16</th>\n",
              "      <td>139436.0</td>\n",
              "      <td>6786.0</td>\n",
              "      <td>97830.0</td>\n",
              "    </tr>\n",
              "  </tbody>\n",
              "</table>\n",
              "<p>147 rows × 3 columns</p>\n",
              "</div>"
            ],
            "text/plain": [
              "                 Confirmed  Deaths  Recovered\n",
              "ObservationDate                              \n",
              "2020-01-22           555.0    17.0       28.0\n",
              "2020-01-23            98.0     1.0        2.0\n",
              "2020-01-24           288.0     8.0        6.0\n",
              "2020-01-25           497.0    16.0        3.0\n",
              "2020-01-26           680.0    14.0       13.0\n",
              "...                    ...     ...        ...\n",
              "2020-06-12        118321.0  3936.0    72581.0\n",
              "2020-06-13        134150.0  4342.0    85027.0\n",
              "2020-06-14        133972.0  3330.0    71408.0\n",
              "2020-06-15        133580.0  3833.0    87627.0\n",
              "2020-06-16        139436.0  6786.0    97830.0\n",
              "\n",
              "[147 rows x 3 columns]"
            ]
          },
          "metadata": {
            "tags": []
          },
          "execution_count": 198
        }
      ]
    },
    {
      "cell_type": "code",
      "metadata": {
        "id": "dnRiE-ZBDd0-",
        "colab_type": "code",
        "colab": {
          "base_uri": "https://localhost:8080/",
          "height": 431
        },
        "outputId": "24aafa85-ba7e-4fbe-fefe-312d662de42d"
      },
      "source": [
        "# También podemos calcular la suma acumulada:\n",
        "df_diff.cumsum()"
      ],
      "execution_count": 199,
      "outputs": [
        {
          "output_type": "execute_result",
          "data": {
            "text/html": [
              "<div>\n",
              "<style scoped>\n",
              "    .dataframe tbody tr th:only-of-type {\n",
              "        vertical-align: middle;\n",
              "    }\n",
              "\n",
              "    .dataframe tbody tr th {\n",
              "        vertical-align: top;\n",
              "    }\n",
              "\n",
              "    .dataframe thead th {\n",
              "        text-align: right;\n",
              "    }\n",
              "</style>\n",
              "<table border=\"1\" class=\"dataframe\">\n",
              "  <thead>\n",
              "    <tr style=\"text-align: right;\">\n",
              "      <th></th>\n",
              "      <th>Confirmed</th>\n",
              "      <th>Deaths</th>\n",
              "      <th>Recovered</th>\n",
              "    </tr>\n",
              "    <tr>\n",
              "      <th>ObservationDate</th>\n",
              "      <th></th>\n",
              "      <th></th>\n",
              "      <th></th>\n",
              "    </tr>\n",
              "  </thead>\n",
              "  <tbody>\n",
              "    <tr>\n",
              "      <th>2020-01-22</th>\n",
              "      <td>555.0</td>\n",
              "      <td>17.0</td>\n",
              "      <td>28.0</td>\n",
              "    </tr>\n",
              "    <tr>\n",
              "      <th>2020-01-23</th>\n",
              "      <td>653.0</td>\n",
              "      <td>18.0</td>\n",
              "      <td>30.0</td>\n",
              "    </tr>\n",
              "    <tr>\n",
              "      <th>2020-01-24</th>\n",
              "      <td>941.0</td>\n",
              "      <td>26.0</td>\n",
              "      <td>36.0</td>\n",
              "    </tr>\n",
              "    <tr>\n",
              "      <th>2020-01-25</th>\n",
              "      <td>1438.0</td>\n",
              "      <td>42.0</td>\n",
              "      <td>39.0</td>\n",
              "    </tr>\n",
              "    <tr>\n",
              "      <th>2020-01-26</th>\n",
              "      <td>2118.0</td>\n",
              "      <td>56.0</td>\n",
              "      <td>52.0</td>\n",
              "    </tr>\n",
              "    <tr>\n",
              "      <th>...</th>\n",
              "      <td>...</td>\n",
              "      <td>...</td>\n",
              "      <td>...</td>\n",
              "    </tr>\n",
              "    <tr>\n",
              "      <th>2020-06-12</th>\n",
              "      <td>7632802.0</td>\n",
              "      <td>425394.0</td>\n",
              "      <td>3613277.0</td>\n",
              "    </tr>\n",
              "    <tr>\n",
              "      <th>2020-06-13</th>\n",
              "      <td>7766952.0</td>\n",
              "      <td>429736.0</td>\n",
              "      <td>3698304.0</td>\n",
              "    </tr>\n",
              "    <tr>\n",
              "      <th>2020-06-14</th>\n",
              "      <td>7900924.0</td>\n",
              "      <td>433066.0</td>\n",
              "      <td>3769712.0</td>\n",
              "    </tr>\n",
              "    <tr>\n",
              "      <th>2020-06-15</th>\n",
              "      <td>8034504.0</td>\n",
              "      <td>436899.0</td>\n",
              "      <td>3857339.0</td>\n",
              "    </tr>\n",
              "    <tr>\n",
              "      <th>2020-06-16</th>\n",
              "      <td>8173940.0</td>\n",
              "      <td>443685.0</td>\n",
              "      <td>3955169.0</td>\n",
              "    </tr>\n",
              "  </tbody>\n",
              "</table>\n",
              "<p>147 rows × 3 columns</p>\n",
              "</div>"
            ],
            "text/plain": [
              "                 Confirmed    Deaths  Recovered\n",
              "ObservationDate                                \n",
              "2020-01-22           555.0      17.0       28.0\n",
              "2020-01-23           653.0      18.0       30.0\n",
              "2020-01-24           941.0      26.0       36.0\n",
              "2020-01-25          1438.0      42.0       39.0\n",
              "2020-01-26          2118.0      56.0       52.0\n",
              "...                    ...       ...        ...\n",
              "2020-06-12       7632802.0  425394.0  3613277.0\n",
              "2020-06-13       7766952.0  429736.0  3698304.0\n",
              "2020-06-14       7900924.0  433066.0  3769712.0\n",
              "2020-06-15       8034504.0  436899.0  3857339.0\n",
              "2020-06-16       8173940.0  443685.0  3955169.0\n",
              "\n",
              "[147 rows x 3 columns]"
            ]
          },
          "metadata": {
            "tags": []
          },
          "execution_count": 199
        }
      ]
    },
    {
      "cell_type": "code",
      "metadata": {
        "id": "-k2625Q3DvI9",
        "colab_type": "code",
        "colab": {
          "base_uri": "https://localhost:8080/",
          "height": 254
        },
        "outputId": "2283404f-952b-4a2c-c340-7fd0f0c50018"
      },
      "source": [
        "# Podemos obtener valores mes a mes con resample aplica tambien en dias si queremos\n",
        "df_diff.resample('M').sum()"
      ],
      "execution_count": 200,
      "outputs": [
        {
          "output_type": "execute_result",
          "data": {
            "text/html": [
              "<div>\n",
              "<style scoped>\n",
              "    .dataframe tbody tr th:only-of-type {\n",
              "        vertical-align: middle;\n",
              "    }\n",
              "\n",
              "    .dataframe tbody tr th {\n",
              "        vertical-align: top;\n",
              "    }\n",
              "\n",
              "    .dataframe thead th {\n",
              "        text-align: right;\n",
              "    }\n",
              "</style>\n",
              "<table border=\"1\" class=\"dataframe\">\n",
              "  <thead>\n",
              "    <tr style=\"text-align: right;\">\n",
              "      <th></th>\n",
              "      <th>Confirmed</th>\n",
              "      <th>Deaths</th>\n",
              "      <th>Recovered</th>\n",
              "    </tr>\n",
              "    <tr>\n",
              "      <th>ObservationDate</th>\n",
              "      <th></th>\n",
              "      <th></th>\n",
              "      <th></th>\n",
              "    </tr>\n",
              "  </thead>\n",
              "  <tbody>\n",
              "    <tr>\n",
              "      <th>2020-01-31</th>\n",
              "      <td>9925.0</td>\n",
              "      <td>213.0</td>\n",
              "      <td>222.0</td>\n",
              "    </tr>\n",
              "    <tr>\n",
              "      <th>2020-02-29</th>\n",
              "      <td>76088.0</td>\n",
              "      <td>2728.0</td>\n",
              "      <td>39560.0</td>\n",
              "    </tr>\n",
              "    <tr>\n",
              "      <th>2020-03-31</th>\n",
              "      <td>771474.0</td>\n",
              "      <td>39166.0</td>\n",
              "      <td>138246.0</td>\n",
              "    </tr>\n",
              "    <tr>\n",
              "      <th>2020-04-30</th>\n",
              "      <td>2399359.0</td>\n",
              "      <td>191281.0</td>\n",
              "      <td>836725.0</td>\n",
              "    </tr>\n",
              "    <tr>\n",
              "      <th>2020-05-31</th>\n",
              "      <td>2910100.0</td>\n",
              "      <td>138647.0</td>\n",
              "      <td>1626576.0</td>\n",
              "    </tr>\n",
              "    <tr>\n",
              "      <th>2020-06-30</th>\n",
              "      <td>2006994.0</td>\n",
              "      <td>71650.0</td>\n",
              "      <td>1313840.0</td>\n",
              "    </tr>\n",
              "  </tbody>\n",
              "</table>\n",
              "</div>"
            ],
            "text/plain": [
              "                 Confirmed    Deaths  Recovered\n",
              "ObservationDate                                \n",
              "2020-01-31          9925.0     213.0      222.0\n",
              "2020-02-29         76088.0    2728.0    39560.0\n",
              "2020-03-31        771474.0   39166.0   138246.0\n",
              "2020-04-30       2399359.0  191281.0   836725.0\n",
              "2020-05-31       2910100.0  138647.0  1626576.0\n",
              "2020-06-30       2006994.0   71650.0  1313840.0"
            ]
          },
          "metadata": {
            "tags": []
          },
          "execution_count": 200
        }
      ]
    },
    {
      "cell_type": "code",
      "metadata": {
        "id": "aeSYh99BD_-o",
        "colab_type": "code",
        "colab": {
          "base_uri": "https://localhost:8080/",
          "height": 254
        },
        "outputId": "a3da2602-3661-40e8-a3ae-8d3bb1ff9054"
      },
      "source": [
        "# ¿Porque tenemos mas valores enmayo que en junio? Veamos\n",
        "df_diff.resample('M').count()"
      ],
      "execution_count": 201,
      "outputs": [
        {
          "output_type": "execute_result",
          "data": {
            "text/html": [
              "<div>\n",
              "<style scoped>\n",
              "    .dataframe tbody tr th:only-of-type {\n",
              "        vertical-align: middle;\n",
              "    }\n",
              "\n",
              "    .dataframe tbody tr th {\n",
              "        vertical-align: top;\n",
              "    }\n",
              "\n",
              "    .dataframe thead th {\n",
              "        text-align: right;\n",
              "    }\n",
              "</style>\n",
              "<table border=\"1\" class=\"dataframe\">\n",
              "  <thead>\n",
              "    <tr style=\"text-align: right;\">\n",
              "      <th></th>\n",
              "      <th>Confirmed</th>\n",
              "      <th>Deaths</th>\n",
              "      <th>Recovered</th>\n",
              "    </tr>\n",
              "    <tr>\n",
              "      <th>ObservationDate</th>\n",
              "      <th></th>\n",
              "      <th></th>\n",
              "      <th></th>\n",
              "    </tr>\n",
              "  </thead>\n",
              "  <tbody>\n",
              "    <tr>\n",
              "      <th>2020-01-31</th>\n",
              "      <td>10</td>\n",
              "      <td>10</td>\n",
              "      <td>10</td>\n",
              "    </tr>\n",
              "    <tr>\n",
              "      <th>2020-02-29</th>\n",
              "      <td>29</td>\n",
              "      <td>29</td>\n",
              "      <td>29</td>\n",
              "    </tr>\n",
              "    <tr>\n",
              "      <th>2020-03-31</th>\n",
              "      <td>31</td>\n",
              "      <td>31</td>\n",
              "      <td>31</td>\n",
              "    </tr>\n",
              "    <tr>\n",
              "      <th>2020-04-30</th>\n",
              "      <td>30</td>\n",
              "      <td>30</td>\n",
              "      <td>30</td>\n",
              "    </tr>\n",
              "    <tr>\n",
              "      <th>2020-05-31</th>\n",
              "      <td>31</td>\n",
              "      <td>31</td>\n",
              "      <td>31</td>\n",
              "    </tr>\n",
              "    <tr>\n",
              "      <th>2020-06-30</th>\n",
              "      <td>16</td>\n",
              "      <td>16</td>\n",
              "      <td>16</td>\n",
              "    </tr>\n",
              "  </tbody>\n",
              "</table>\n",
              "</div>"
            ],
            "text/plain": [
              "                 Confirmed  Deaths  Recovered\n",
              "ObservationDate                              \n",
              "2020-01-31              10      10         10\n",
              "2020-02-29              29      29         29\n",
              "2020-03-31              31      31         31\n",
              "2020-04-30              30      30         30\n",
              "2020-05-31              31      31         31\n",
              "2020-06-30              16      16         16"
            ]
          },
          "metadata": {
            "tags": []
          },
          "execution_count": 201
        }
      ]
    },
    {
      "cell_type": "code",
      "metadata": {
        "id": "UZpODytjEPdP",
        "colab_type": "code",
        "colab": {
          "base_uri": "https://localhost:8080/",
          "height": 254
        },
        "outputId": "71a2375b-edfa-4122-bfcc-2de8659b5a86"
      },
      "source": [
        "# la respuesta es porque tenemos menos ejemploe en junio\n",
        "# Ahora calculemos el promedio\n",
        "df_diff.resample('M').mean()\n",
        "### Observamos que en promedio tenemos 125,000 casos al dia en este mes"
      ],
      "execution_count": 202,
      "outputs": [
        {
          "output_type": "execute_result",
          "data": {
            "text/html": [
              "<div>\n",
              "<style scoped>\n",
              "    .dataframe tbody tr th:only-of-type {\n",
              "        vertical-align: middle;\n",
              "    }\n",
              "\n",
              "    .dataframe tbody tr th {\n",
              "        vertical-align: top;\n",
              "    }\n",
              "\n",
              "    .dataframe thead th {\n",
              "        text-align: right;\n",
              "    }\n",
              "</style>\n",
              "<table border=\"1\" class=\"dataframe\">\n",
              "  <thead>\n",
              "    <tr style=\"text-align: right;\">\n",
              "      <th></th>\n",
              "      <th>Confirmed</th>\n",
              "      <th>Deaths</th>\n",
              "      <th>Recovered</th>\n",
              "    </tr>\n",
              "    <tr>\n",
              "      <th>ObservationDate</th>\n",
              "      <th></th>\n",
              "      <th></th>\n",
              "      <th></th>\n",
              "    </tr>\n",
              "  </thead>\n",
              "  <tbody>\n",
              "    <tr>\n",
              "      <th>2020-01-31</th>\n",
              "      <td>992.500000</td>\n",
              "      <td>21.300000</td>\n",
              "      <td>22.200000</td>\n",
              "    </tr>\n",
              "    <tr>\n",
              "      <th>2020-02-29</th>\n",
              "      <td>2623.724138</td>\n",
              "      <td>94.068966</td>\n",
              "      <td>1364.137931</td>\n",
              "    </tr>\n",
              "    <tr>\n",
              "      <th>2020-03-31</th>\n",
              "      <td>24886.258065</td>\n",
              "      <td>1263.419355</td>\n",
              "      <td>4459.548387</td>\n",
              "    </tr>\n",
              "    <tr>\n",
              "      <th>2020-04-30</th>\n",
              "      <td>79978.633333</td>\n",
              "      <td>6376.033333</td>\n",
              "      <td>27890.833333</td>\n",
              "    </tr>\n",
              "    <tr>\n",
              "      <th>2020-05-31</th>\n",
              "      <td>93874.193548</td>\n",
              "      <td>4472.483871</td>\n",
              "      <td>52470.193548</td>\n",
              "    </tr>\n",
              "    <tr>\n",
              "      <th>2020-06-30</th>\n",
              "      <td>125437.125000</td>\n",
              "      <td>4478.125000</td>\n",
              "      <td>82115.000000</td>\n",
              "    </tr>\n",
              "  </tbody>\n",
              "</table>\n",
              "</div>"
            ],
            "text/plain": [
              "                     Confirmed       Deaths     Recovered\n",
              "ObservationDate                                          \n",
              "2020-01-31          992.500000    21.300000     22.200000\n",
              "2020-02-29         2623.724138    94.068966   1364.137931\n",
              "2020-03-31        24886.258065  1263.419355   4459.548387\n",
              "2020-04-30        79978.633333  6376.033333  27890.833333\n",
              "2020-05-31        93874.193548  4472.483871  52470.193548\n",
              "2020-06-30       125437.125000  4478.125000  82115.000000"
            ]
          },
          "metadata": {
            "tags": []
          },
          "execution_count": 202
        }
      ]
    },
    {
      "cell_type": "markdown",
      "metadata": {
        "id": "vx4tab7_E8Xe",
        "colab_type": "text"
      },
      "source": [
        "# Parte 2:\n",
        "## Series de tiempo con variables nulas"
      ]
    },
    {
      "cell_type": "code",
      "metadata": {
        "id": "xbtIzpDzEmBX",
        "colab_type": "code",
        "colab": {
          "base_uri": "https://localhost:8080/",
          "height": 431
        },
        "outputId": "e734c8d2-6ec4-4795-ce9b-04e068a6b7dd"
      },
      "source": [
        "# sumemos los valores de cada 12 hrs,  el min count se hace para generaar los nana\n",
        "\n",
        "df_cum = df_time.resample('12h').sum(min_count = 1)\n",
        "df_cum"
      ],
      "execution_count": 203,
      "outputs": [
        {
          "output_type": "execute_result",
          "data": {
            "text/html": [
              "<div>\n",
              "<style scoped>\n",
              "    .dataframe tbody tr th:only-of-type {\n",
              "        vertical-align: middle;\n",
              "    }\n",
              "\n",
              "    .dataframe tbody tr th {\n",
              "        vertical-align: top;\n",
              "    }\n",
              "\n",
              "    .dataframe thead th {\n",
              "        text-align: right;\n",
              "    }\n",
              "</style>\n",
              "<table border=\"1\" class=\"dataframe\">\n",
              "  <thead>\n",
              "    <tr style=\"text-align: right;\">\n",
              "      <th></th>\n",
              "      <th>Confirmed</th>\n",
              "      <th>Deaths</th>\n",
              "      <th>Recovered</th>\n",
              "    </tr>\n",
              "    <tr>\n",
              "      <th>ObservationDate</th>\n",
              "      <th></th>\n",
              "      <th></th>\n",
              "      <th></th>\n",
              "    </tr>\n",
              "  </thead>\n",
              "  <tbody>\n",
              "    <tr>\n",
              "      <th>2020-01-22 00:00:00</th>\n",
              "      <td>555.0</td>\n",
              "      <td>17.0</td>\n",
              "      <td>28.0</td>\n",
              "    </tr>\n",
              "    <tr>\n",
              "      <th>2020-01-22 12:00:00</th>\n",
              "      <td>NaN</td>\n",
              "      <td>NaN</td>\n",
              "      <td>NaN</td>\n",
              "    </tr>\n",
              "    <tr>\n",
              "      <th>2020-01-23 00:00:00</th>\n",
              "      <td>653.0</td>\n",
              "      <td>18.0</td>\n",
              "      <td>30.0</td>\n",
              "    </tr>\n",
              "    <tr>\n",
              "      <th>2020-01-23 12:00:00</th>\n",
              "      <td>NaN</td>\n",
              "      <td>NaN</td>\n",
              "      <td>NaN</td>\n",
              "    </tr>\n",
              "    <tr>\n",
              "      <th>2020-01-24 00:00:00</th>\n",
              "      <td>941.0</td>\n",
              "      <td>26.0</td>\n",
              "      <td>36.0</td>\n",
              "    </tr>\n",
              "    <tr>\n",
              "      <th>...</th>\n",
              "      <td>...</td>\n",
              "      <td>...</td>\n",
              "      <td>...</td>\n",
              "    </tr>\n",
              "    <tr>\n",
              "      <th>2020-06-14 00:00:00</th>\n",
              "      <td>7900924.0</td>\n",
              "      <td>433066.0</td>\n",
              "      <td>3769712.0</td>\n",
              "    </tr>\n",
              "    <tr>\n",
              "      <th>2020-06-14 12:00:00</th>\n",
              "      <td>NaN</td>\n",
              "      <td>NaN</td>\n",
              "      <td>NaN</td>\n",
              "    </tr>\n",
              "    <tr>\n",
              "      <th>2020-06-15 00:00:00</th>\n",
              "      <td>8034504.0</td>\n",
              "      <td>436899.0</td>\n",
              "      <td>3857339.0</td>\n",
              "    </tr>\n",
              "    <tr>\n",
              "      <th>2020-06-15 12:00:00</th>\n",
              "      <td>NaN</td>\n",
              "      <td>NaN</td>\n",
              "      <td>NaN</td>\n",
              "    </tr>\n",
              "    <tr>\n",
              "      <th>2020-06-16 00:00:00</th>\n",
              "      <td>8173940.0</td>\n",
              "      <td>443685.0</td>\n",
              "      <td>3955169.0</td>\n",
              "    </tr>\n",
              "  </tbody>\n",
              "</table>\n",
              "<p>293 rows × 3 columns</p>\n",
              "</div>"
            ],
            "text/plain": [
              "                     Confirmed    Deaths  Recovered\n",
              "ObservationDate                                    \n",
              "2020-01-22 00:00:00      555.0      17.0       28.0\n",
              "2020-01-22 12:00:00        NaN       NaN        NaN\n",
              "2020-01-23 00:00:00      653.0      18.0       30.0\n",
              "2020-01-23 12:00:00        NaN       NaN        NaN\n",
              "2020-01-24 00:00:00      941.0      26.0       36.0\n",
              "...                        ...       ...        ...\n",
              "2020-06-14 00:00:00  7900924.0  433066.0  3769712.0\n",
              "2020-06-14 12:00:00        NaN       NaN        NaN\n",
              "2020-06-15 00:00:00  8034504.0  436899.0  3857339.0\n",
              "2020-06-15 12:00:00        NaN       NaN        NaN\n",
              "2020-06-16 00:00:00  8173940.0  443685.0  3955169.0\n",
              "\n",
              "[293 rows x 3 columns]"
            ]
          },
          "metadata": {
            "tags": []
          },
          "execution_count": 203
        }
      ]
    },
    {
      "cell_type": "code",
      "metadata": {
        "id": "9BSHytLtKAGd",
        "colab_type": "code",
        "colab": {
          "base_uri": "https://localhost:8080/",
          "height": 431
        },
        "outputId": "2782bc2d-5303-4f54-d986-b7a684988d8e"
      },
      "source": [
        "# Para tratar estos datos interpolaremos como una función lineal de la sig manera\n",
        "df_cum = df_cum.interpolate()\n",
        "df_cum"
      ],
      "execution_count": 204,
      "outputs": [
        {
          "output_type": "execute_result",
          "data": {
            "text/html": [
              "<div>\n",
              "<style scoped>\n",
              "    .dataframe tbody tr th:only-of-type {\n",
              "        vertical-align: middle;\n",
              "    }\n",
              "\n",
              "    .dataframe tbody tr th {\n",
              "        vertical-align: top;\n",
              "    }\n",
              "\n",
              "    .dataframe thead th {\n",
              "        text-align: right;\n",
              "    }\n",
              "</style>\n",
              "<table border=\"1\" class=\"dataframe\">\n",
              "  <thead>\n",
              "    <tr style=\"text-align: right;\">\n",
              "      <th></th>\n",
              "      <th>Confirmed</th>\n",
              "      <th>Deaths</th>\n",
              "      <th>Recovered</th>\n",
              "    </tr>\n",
              "    <tr>\n",
              "      <th>ObservationDate</th>\n",
              "      <th></th>\n",
              "      <th></th>\n",
              "      <th></th>\n",
              "    </tr>\n",
              "  </thead>\n",
              "  <tbody>\n",
              "    <tr>\n",
              "      <th>2020-01-22 00:00:00</th>\n",
              "      <td>555.0</td>\n",
              "      <td>17.0</td>\n",
              "      <td>28.0</td>\n",
              "    </tr>\n",
              "    <tr>\n",
              "      <th>2020-01-22 12:00:00</th>\n",
              "      <td>604.0</td>\n",
              "      <td>17.5</td>\n",
              "      <td>29.0</td>\n",
              "    </tr>\n",
              "    <tr>\n",
              "      <th>2020-01-23 00:00:00</th>\n",
              "      <td>653.0</td>\n",
              "      <td>18.0</td>\n",
              "      <td>30.0</td>\n",
              "    </tr>\n",
              "    <tr>\n",
              "      <th>2020-01-23 12:00:00</th>\n",
              "      <td>797.0</td>\n",
              "      <td>22.0</td>\n",
              "      <td>33.0</td>\n",
              "    </tr>\n",
              "    <tr>\n",
              "      <th>2020-01-24 00:00:00</th>\n",
              "      <td>941.0</td>\n",
              "      <td>26.0</td>\n",
              "      <td>36.0</td>\n",
              "    </tr>\n",
              "    <tr>\n",
              "      <th>...</th>\n",
              "      <td>...</td>\n",
              "      <td>...</td>\n",
              "      <td>...</td>\n",
              "    </tr>\n",
              "    <tr>\n",
              "      <th>2020-06-14 00:00:00</th>\n",
              "      <td>7900924.0</td>\n",
              "      <td>433066.0</td>\n",
              "      <td>3769712.0</td>\n",
              "    </tr>\n",
              "    <tr>\n",
              "      <th>2020-06-14 12:00:00</th>\n",
              "      <td>7967714.0</td>\n",
              "      <td>434982.5</td>\n",
              "      <td>3813525.5</td>\n",
              "    </tr>\n",
              "    <tr>\n",
              "      <th>2020-06-15 00:00:00</th>\n",
              "      <td>8034504.0</td>\n",
              "      <td>436899.0</td>\n",
              "      <td>3857339.0</td>\n",
              "    </tr>\n",
              "    <tr>\n",
              "      <th>2020-06-15 12:00:00</th>\n",
              "      <td>8104222.0</td>\n",
              "      <td>440292.0</td>\n",
              "      <td>3906254.0</td>\n",
              "    </tr>\n",
              "    <tr>\n",
              "      <th>2020-06-16 00:00:00</th>\n",
              "      <td>8173940.0</td>\n",
              "      <td>443685.0</td>\n",
              "      <td>3955169.0</td>\n",
              "    </tr>\n",
              "  </tbody>\n",
              "</table>\n",
              "<p>293 rows × 3 columns</p>\n",
              "</div>"
            ],
            "text/plain": [
              "                     Confirmed    Deaths  Recovered\n",
              "ObservationDate                                    \n",
              "2020-01-22 00:00:00      555.0      17.0       28.0\n",
              "2020-01-22 12:00:00      604.0      17.5       29.0\n",
              "2020-01-23 00:00:00      653.0      18.0       30.0\n",
              "2020-01-23 12:00:00      797.0      22.0       33.0\n",
              "2020-01-24 00:00:00      941.0      26.0       36.0\n",
              "...                        ...       ...        ...\n",
              "2020-06-14 00:00:00  7900924.0  433066.0  3769712.0\n",
              "2020-06-14 12:00:00  7967714.0  434982.5  3813525.5\n",
              "2020-06-15 00:00:00  8034504.0  436899.0  3857339.0\n",
              "2020-06-15 12:00:00  8104222.0  440292.0  3906254.0\n",
              "2020-06-16 00:00:00  8173940.0  443685.0  3955169.0\n",
              "\n",
              "[293 rows x 3 columns]"
            ]
          },
          "metadata": {
            "tags": []
          },
          "execution_count": 204
        }
      ]
    },
    {
      "cell_type": "code",
      "metadata": {
        "id": "uc4Y2IU8KdfQ",
        "colab_type": "code",
        "colab": {}
      },
      "source": [
        "# Calculamos el porcentaje de supervivencia de la siguiente manera:\n",
        "df_cum['rate'] = 1 - df_cum['Deaths']/df_cum['Confirmed']"
      ],
      "execution_count": 205,
      "outputs": []
    },
    {
      "cell_type": "code",
      "metadata": {
        "id": "ndQeLkN1K2UP",
        "colab_type": "code",
        "colab": {
          "base_uri": "https://localhost:8080/",
          "height": 402
        },
        "outputId": "a7ac794b-9e03-402d-bfd1-2f9d2a5850bb"
      },
      "source": [
        "# Ahora pensemos que pasaría si no tenemos agrupado por días, para calcular \n",
        "# Nuestros valores haremos lo siguiente \n",
        "df_cum = df_cum.reset_index()\n",
        "df_cum"
      ],
      "execution_count": 206,
      "outputs": [
        {
          "output_type": "execute_result",
          "data": {
            "text/html": [
              "<div>\n",
              "<style scoped>\n",
              "    .dataframe tbody tr th:only-of-type {\n",
              "        vertical-align: middle;\n",
              "    }\n",
              "\n",
              "    .dataframe tbody tr th {\n",
              "        vertical-align: top;\n",
              "    }\n",
              "\n",
              "    .dataframe thead th {\n",
              "        text-align: right;\n",
              "    }\n",
              "</style>\n",
              "<table border=\"1\" class=\"dataframe\">\n",
              "  <thead>\n",
              "    <tr style=\"text-align: right;\">\n",
              "      <th></th>\n",
              "      <th>ObservationDate</th>\n",
              "      <th>Confirmed</th>\n",
              "      <th>Deaths</th>\n",
              "      <th>Recovered</th>\n",
              "      <th>rate</th>\n",
              "    </tr>\n",
              "  </thead>\n",
              "  <tbody>\n",
              "    <tr>\n",
              "      <th>0</th>\n",
              "      <td>2020-01-22 00:00:00</td>\n",
              "      <td>555.0</td>\n",
              "      <td>17.0</td>\n",
              "      <td>28.0</td>\n",
              "      <td>0.969369</td>\n",
              "    </tr>\n",
              "    <tr>\n",
              "      <th>1</th>\n",
              "      <td>2020-01-22 12:00:00</td>\n",
              "      <td>604.0</td>\n",
              "      <td>17.5</td>\n",
              "      <td>29.0</td>\n",
              "      <td>0.971026</td>\n",
              "    </tr>\n",
              "    <tr>\n",
              "      <th>2</th>\n",
              "      <td>2020-01-23 00:00:00</td>\n",
              "      <td>653.0</td>\n",
              "      <td>18.0</td>\n",
              "      <td>30.0</td>\n",
              "      <td>0.972435</td>\n",
              "    </tr>\n",
              "    <tr>\n",
              "      <th>3</th>\n",
              "      <td>2020-01-23 12:00:00</td>\n",
              "      <td>797.0</td>\n",
              "      <td>22.0</td>\n",
              "      <td>33.0</td>\n",
              "      <td>0.972396</td>\n",
              "    </tr>\n",
              "    <tr>\n",
              "      <th>4</th>\n",
              "      <td>2020-01-24 00:00:00</td>\n",
              "      <td>941.0</td>\n",
              "      <td>26.0</td>\n",
              "      <td>36.0</td>\n",
              "      <td>0.972370</td>\n",
              "    </tr>\n",
              "    <tr>\n",
              "      <th>...</th>\n",
              "      <td>...</td>\n",
              "      <td>...</td>\n",
              "      <td>...</td>\n",
              "      <td>...</td>\n",
              "      <td>...</td>\n",
              "    </tr>\n",
              "    <tr>\n",
              "      <th>288</th>\n",
              "      <td>2020-06-14 00:00:00</td>\n",
              "      <td>7900924.0</td>\n",
              "      <td>433066.0</td>\n",
              "      <td>3769712.0</td>\n",
              "      <td>0.945188</td>\n",
              "    </tr>\n",
              "    <tr>\n",
              "      <th>289</th>\n",
              "      <td>2020-06-14 12:00:00</td>\n",
              "      <td>7967714.0</td>\n",
              "      <td>434982.5</td>\n",
              "      <td>3813525.5</td>\n",
              "      <td>0.945407</td>\n",
              "    </tr>\n",
              "    <tr>\n",
              "      <th>290</th>\n",
              "      <td>2020-06-15 00:00:00</td>\n",
              "      <td>8034504.0</td>\n",
              "      <td>436899.0</td>\n",
              "      <td>3857339.0</td>\n",
              "      <td>0.945622</td>\n",
              "    </tr>\n",
              "    <tr>\n",
              "      <th>291</th>\n",
              "      <td>2020-06-15 12:00:00</td>\n",
              "      <td>8104222.0</td>\n",
              "      <td>440292.0</td>\n",
              "      <td>3906254.0</td>\n",
              "      <td>0.945671</td>\n",
              "    </tr>\n",
              "    <tr>\n",
              "      <th>292</th>\n",
              "      <td>2020-06-16 00:00:00</td>\n",
              "      <td>8173940.0</td>\n",
              "      <td>443685.0</td>\n",
              "      <td>3955169.0</td>\n",
              "      <td>0.945720</td>\n",
              "    </tr>\n",
              "  </tbody>\n",
              "</table>\n",
              "<p>293 rows × 5 columns</p>\n",
              "</div>"
            ],
            "text/plain": [
              "        ObservationDate  Confirmed    Deaths  Recovered      rate\n",
              "0   2020-01-22 00:00:00      555.0      17.0       28.0  0.969369\n",
              "1   2020-01-22 12:00:00      604.0      17.5       29.0  0.971026\n",
              "2   2020-01-23 00:00:00      653.0      18.0       30.0  0.972435\n",
              "3   2020-01-23 12:00:00      797.0      22.0       33.0  0.972396\n",
              "4   2020-01-24 00:00:00      941.0      26.0       36.0  0.972370\n",
              "..                  ...        ...       ...        ...       ...\n",
              "288 2020-06-14 00:00:00  7900924.0  433066.0  3769712.0  0.945188\n",
              "289 2020-06-14 12:00:00  7967714.0  434982.5  3813525.5  0.945407\n",
              "290 2020-06-15 00:00:00  8034504.0  436899.0  3857339.0  0.945622\n",
              "291 2020-06-15 12:00:00  8104222.0  440292.0  3906254.0  0.945671\n",
              "292 2020-06-16 00:00:00  8173940.0  443685.0  3955169.0  0.945720\n",
              "\n",
              "[293 rows x 5 columns]"
            ]
          },
          "metadata": {
            "tags": []
          },
          "execution_count": 206
        }
      ]
    },
    {
      "cell_type": "code",
      "metadata": {
        "id": "FijjT7JKLK-y",
        "colab_type": "code",
        "colab": {
          "base_uri": "https://localhost:8080/",
          "height": 254
        },
        "outputId": "6d1dad10-5de8-4009-dd8c-bffa76056773"
      },
      "source": [
        "df_cum.groupby(pd.Grouper(key='ObservationDate',freq='M'))[['rate']].mean()"
      ],
      "execution_count": 207,
      "outputs": [
        {
          "output_type": "execute_result",
          "data": {
            "text/html": [
              "<div>\n",
              "<style scoped>\n",
              "    .dataframe tbody tr th:only-of-type {\n",
              "        vertical-align: middle;\n",
              "    }\n",
              "\n",
              "    .dataframe tbody tr th {\n",
              "        vertical-align: top;\n",
              "    }\n",
              "\n",
              "    .dataframe thead th {\n",
              "        text-align: right;\n",
              "    }\n",
              "</style>\n",
              "<table border=\"1\" class=\"dataframe\">\n",
              "  <thead>\n",
              "    <tr style=\"text-align: right;\">\n",
              "      <th></th>\n",
              "      <th>rate</th>\n",
              "    </tr>\n",
              "    <tr>\n",
              "      <th>ObservationDate</th>\n",
              "      <th></th>\n",
              "    </tr>\n",
              "  </thead>\n",
              "  <tbody>\n",
              "    <tr>\n",
              "      <th>2020-01-31</th>\n",
              "      <td>0.974594</td>\n",
              "    </tr>\n",
              "    <tr>\n",
              "      <th>2020-02-29</th>\n",
              "      <td>0.973562</td>\n",
              "    </tr>\n",
              "    <tr>\n",
              "      <th>2020-03-31</th>\n",
              "      <td>0.960070</td>\n",
              "    </tr>\n",
              "    <tr>\n",
              "      <th>2020-04-30</th>\n",
              "      <td>0.936029</td>\n",
              "    </tr>\n",
              "    <tr>\n",
              "      <th>2020-05-31</th>\n",
              "      <td>0.933422</td>\n",
              "    </tr>\n",
              "    <tr>\n",
              "      <th>2020-06-30</th>\n",
              "      <td>0.942949</td>\n",
              "    </tr>\n",
              "  </tbody>\n",
              "</table>\n",
              "</div>"
            ],
            "text/plain": [
              "                     rate\n",
              "ObservationDate          \n",
              "2020-01-31       0.974594\n",
              "2020-02-29       0.973562\n",
              "2020-03-31       0.960070\n",
              "2020-04-30       0.936029\n",
              "2020-05-31       0.933422\n",
              "2020-06-30       0.942949"
            ]
          },
          "metadata": {
            "tags": []
          },
          "execution_count": 207
        }
      ]
    },
    {
      "cell_type": "code",
      "metadata": {
        "id": "ct0GYm-ELe2s",
        "colab_type": "code",
        "colab": {
          "base_uri": "https://localhost:8080/",
          "height": 308
        },
        "outputId": "5699f2e0-4791-448b-ded0-b9acb0aadf12"
      },
      "source": [
        "#Se pone un corchete para que genere una srie de tiempo\n",
        "sr = df_cum.groupby(pd.Grouper(key='ObservationDate', freq = '1D'))['rate'].mean()\n",
        "sr.plot()"
      ],
      "execution_count": 208,
      "outputs": [
        {
          "output_type": "execute_result",
          "data": {
            "text/plain": [
              "<matplotlib.axes._subplots.AxesSubplot at 0x7fabc5092b38>"
            ]
          },
          "metadata": {
            "tags": []
          },
          "execution_count": 208
        },
        {
          "output_type": "display_data",
          "data": {
            "image/png": "[encoded data removed]",
            "text/plain": [
              "<Figure size 432x288 with 1 Axes>"
            ]
          },
          "metadata": {
            "tags": [],
            "needs_background": "light"
          }
        }
      ]
    },
    {
      "cell_type": "code",
      "metadata": {
        "id": "YUl0JuXTMfvY",
        "colab_type": "code",
        "colab": {
          "base_uri": "https://localhost:8080/",
          "height": 308
        },
        "outputId": "9108d97d-b8d0-4e54-a928-f33fb553d15b"
      },
      "source": [
        "# A la serie se le puede implementar el metodo rolling para crear una ventana de tiempo\n",
        "sr.plot()\n",
        "sr.rolling(window=7).mean().plot()\n",
        "sr.rolling(window=14).mean().plot()"
      ],
      "execution_count": 209,
      "outputs": [
        {
          "output_type": "execute_result",
          "data": {
            "text/plain": [
              "<matplotlib.axes._subplots.AxesSubplot at 0x7fabc5063390>"
            ]
          },
          "metadata": {
            "tags": []
          },
          "execution_count": 209
        },
        {
          "output_type": "display_data",
          "data": {
            "image/png": "[encoded data removed]",
            "text/plain": [
              "<Figure size 432x288 with 1 Axes>"
            ]
          },
          "metadata": {
            "tags": [],
            "needs_background": "light"
          }
        }
      ]
    },
    {
      "cell_type": "code",
      "metadata": {
        "id": "1E_PKnJmNOh9",
        "colab_type": "code",
        "colab": {
          "base_uri": "https://localhost:8080/",
          "height": 308
        },
        "outputId": "04ccb966-14ec-4296-bb08-fb901c89ba0e"
      },
      "source": [
        "# Veamos como varia nuestro rate con la desviación estandar\n",
        "sr.rolling(window=14).apply(lambda x: np.std(x)).plot()"
      ],
      "execution_count": 210,
      "outputs": [
        {
          "output_type": "execute_result",
          "data": {
            "text/plain": [
              "<matplotlib.axes._subplots.AxesSubplot at 0x7fabc5089048>"
            ]
          },
          "metadata": {
            "tags": []
          },
          "execution_count": 210
        },
        {
          "output_type": "display_data",
          "data": {
            "image/png": "[encoded data removed]",
            "text/plain": [
              "<Figure size 432x288 with 1 Axes>"
            ]
          },
          "metadata": {
            "tags": [],
            "needs_background": "light"
          }
        }
      ]
    },
    {
      "cell_type": "markdown",
      "metadata": {
        "id": "-C-krJZ6Njc7",
        "colab_type": "text"
      },
      "source": [
        "# Parte 3 \n",
        "## Visualización y graficación de datos"
      ]
    },
    {
      "cell_type": "code",
      "metadata": {
        "id": "L6UvNiTCNeQK",
        "colab_type": "code",
        "colab": {}
      },
      "source": [
        "# Veamos los países con mayor numero de infectados:\n",
        "df_prueba = df.groupby([('Country/Region'),pd.Grouper(key='ObservationDate',freq='M')])[['Confirmed']].max()"
      ],
      "execution_count": 211,
      "outputs": []
    },
    {
      "cell_type": "code",
      "metadata": {
        "id": "LuOgORmOVR5t",
        "colab_type": "code",
        "colab": {
          "base_uri": "https://localhost:8080/",
          "height": 254
        },
        "outputId": "8c800754-626a-4546-ec7b-3c0d9197488e"
      },
      "source": [
        "df_prueba.xs('2020-06-30',level='ObservationDate').sort_values('Confirmed',ascending=False)\n",
        "df_prueba.loc['Brazil']\n",
        "#.reset_index().sort_values('Confirmed',ascending=False)\n"
      ],
      "execution_count": 212,
      "outputs": [
        {
          "output_type": "execute_result",
          "data": {
            "text/html": [
              "<div>\n",
              "<style scoped>\n",
              "    .dataframe tbody tr th:only-of-type {\n",
              "        vertical-align: middle;\n",
              "    }\n",
              "\n",
              "    .dataframe tbody tr th {\n",
              "        vertical-align: top;\n",
              "    }\n",
              "\n",
              "    .dataframe thead th {\n",
              "        text-align: right;\n",
              "    }\n",
              "</style>\n",
              "<table border=\"1\" class=\"dataframe\">\n",
              "  <thead>\n",
              "    <tr style=\"text-align: right;\">\n",
              "      <th></th>\n",
              "      <th>Confirmed</th>\n",
              "    </tr>\n",
              "    <tr>\n",
              "      <th>ObservationDate</th>\n",
              "      <th></th>\n",
              "    </tr>\n",
              "  </thead>\n",
              "  <tbody>\n",
              "    <tr>\n",
              "      <th>2020-01-31</th>\n",
              "      <td>0.0</td>\n",
              "    </tr>\n",
              "    <tr>\n",
              "      <th>2020-02-29</th>\n",
              "      <td>2.0</td>\n",
              "    </tr>\n",
              "    <tr>\n",
              "      <th>2020-03-31</th>\n",
              "      <td>5717.0</td>\n",
              "    </tr>\n",
              "    <tr>\n",
              "      <th>2020-04-30</th>\n",
              "      <td>87187.0</td>\n",
              "    </tr>\n",
              "    <tr>\n",
              "      <th>2020-05-31</th>\n",
              "      <td>271885.0</td>\n",
              "    </tr>\n",
              "    <tr>\n",
              "      <th>2020-06-30</th>\n",
              "      <td>190285.0</td>\n",
              "    </tr>\n",
              "  </tbody>\n",
              "</table>\n",
              "</div>"
            ],
            "text/plain": [
              "                 Confirmed\n",
              "ObservationDate           \n",
              "2020-01-31             0.0\n",
              "2020-02-29             2.0\n",
              "2020-03-31          5717.0\n",
              "2020-04-30         87187.0\n",
              "2020-05-31        271885.0\n",
              "2020-06-30        190285.0"
            ]
          },
          "metadata": {
            "tags": []
          },
          "execution_count": 212
        }
      ]
    },
    {
      "cell_type": "code",
      "metadata": {
        "id": "rZ227j23dphA",
        "colab_type": "code",
        "colab": {
          "base_uri": "https://localhost:8080/",
          "height": 402
        },
        "outputId": "25af13a6-fb33-448d-b025-53befe398eb8"
      },
      "source": [
        "df"
      ],
      "execution_count": 213,
      "outputs": [
        {
          "output_type": "execute_result",
          "data": {
            "text/html": [
              "<div>\n",
              "<style scoped>\n",
              "    .dataframe tbody tr th:only-of-type {\n",
              "        vertical-align: middle;\n",
              "    }\n",
              "\n",
              "    .dataframe tbody tr th {\n",
              "        vertical-align: top;\n",
              "    }\n",
              "\n",
              "    .dataframe thead th {\n",
              "        text-align: right;\n",
              "    }\n",
              "</style>\n",
              "<table border=\"1\" class=\"dataframe\">\n",
              "  <thead>\n",
              "    <tr style=\"text-align: right;\">\n",
              "      <th></th>\n",
              "      <th>ObservationDate</th>\n",
              "      <th>Country/Region</th>\n",
              "      <th>Confirmed</th>\n",
              "      <th>Deaths</th>\n",
              "      <th>Recovered</th>\n",
              "    </tr>\n",
              "  </thead>\n",
              "  <tbody>\n",
              "    <tr>\n",
              "      <th>0</th>\n",
              "      <td>2020-01-22</td>\n",
              "      <td>Mainland China</td>\n",
              "      <td>1.0</td>\n",
              "      <td>0.0</td>\n",
              "      <td>0.0</td>\n",
              "    </tr>\n",
              "    <tr>\n",
              "      <th>1</th>\n",
              "      <td>2020-01-22</td>\n",
              "      <td>Mainland China</td>\n",
              "      <td>14.0</td>\n",
              "      <td>0.0</td>\n",
              "      <td>0.0</td>\n",
              "    </tr>\n",
              "    <tr>\n",
              "      <th>2</th>\n",
              "      <td>2020-01-22</td>\n",
              "      <td>Mainland China</td>\n",
              "      <td>6.0</td>\n",
              "      <td>0.0</td>\n",
              "      <td>0.0</td>\n",
              "    </tr>\n",
              "    <tr>\n",
              "      <th>3</th>\n",
              "      <td>2020-01-22</td>\n",
              "      <td>Mainland China</td>\n",
              "      <td>1.0</td>\n",
              "      <td>0.0</td>\n",
              "      <td>0.0</td>\n",
              "    </tr>\n",
              "    <tr>\n",
              "      <th>4</th>\n",
              "      <td>2020-01-22</td>\n",
              "      <td>Mainland China</td>\n",
              "      <td>0.0</td>\n",
              "      <td>0.0</td>\n",
              "      <td>0.0</td>\n",
              "    </tr>\n",
              "    <tr>\n",
              "      <th>...</th>\n",
              "      <td>...</td>\n",
              "      <td>...</td>\n",
              "      <td>...</td>\n",
              "      <td>...</td>\n",
              "      <td>...</td>\n",
              "    </tr>\n",
              "    <tr>\n",
              "      <th>43716</th>\n",
              "      <td>2020-06-16</td>\n",
              "      <td>Mexico</td>\n",
              "      <td>560.0</td>\n",
              "      <td>62.0</td>\n",
              "      <td>335.0</td>\n",
              "    </tr>\n",
              "    <tr>\n",
              "      <th>43717</th>\n",
              "      <td>2020-06-16</td>\n",
              "      <td>Ukraine</td>\n",
              "      <td>1726.0</td>\n",
              "      <td>42.0</td>\n",
              "      <td>706.0</td>\n",
              "    </tr>\n",
              "    <tr>\n",
              "      <th>43718</th>\n",
              "      <td>2020-06-16</td>\n",
              "      <td>Ukraine</td>\n",
              "      <td>531.0</td>\n",
              "      <td>16.0</td>\n",
              "      <td>336.0</td>\n",
              "    </tr>\n",
              "    <tr>\n",
              "      <th>43719</th>\n",
              "      <td>2020-06-16</td>\n",
              "      <td>Mainland China</td>\n",
              "      <td>1269.0</td>\n",
              "      <td>1.0</td>\n",
              "      <td>1267.0</td>\n",
              "    </tr>\n",
              "    <tr>\n",
              "      <th>43720</th>\n",
              "      <td>2020-06-16</td>\n",
              "      <td>Ukraine</td>\n",
              "      <td>1101.0</td>\n",
              "      <td>20.0</td>\n",
              "      <td>559.0</td>\n",
              "    </tr>\n",
              "  </tbody>\n",
              "</table>\n",
              "<p>43721 rows × 5 columns</p>\n",
              "</div>"
            ],
            "text/plain": [
              "      ObservationDate  Country/Region  Confirmed  Deaths  Recovered\n",
              "0          2020-01-22  Mainland China        1.0     0.0        0.0\n",
              "1          2020-01-22  Mainland China       14.0     0.0        0.0\n",
              "2          2020-01-22  Mainland China        6.0     0.0        0.0\n",
              "3          2020-01-22  Mainland China        1.0     0.0        0.0\n",
              "4          2020-01-22  Mainland China        0.0     0.0        0.0\n",
              "...               ...             ...        ...     ...        ...\n",
              "43716      2020-06-16          Mexico      560.0    62.0      335.0\n",
              "43717      2020-06-16         Ukraine     1726.0    42.0      706.0\n",
              "43718      2020-06-16         Ukraine      531.0    16.0      336.0\n",
              "43719      2020-06-16  Mainland China     1269.0     1.0     1267.0\n",
              "43720      2020-06-16         Ukraine     1101.0    20.0      559.0\n",
              "\n",
              "[43721 rows x 5 columns]"
            ]
          },
          "metadata": {
            "tags": []
          },
          "execution_count": 213
        }
      ]
    },
    {
      "cell_type": "code",
      "metadata": {
        "id": "5MQTmGgpjg-_",
        "colab_type": "code",
        "colab": {
          "base_uri": "https://localhost:8080/",
          "height": 431
        },
        "outputId": "007a55a9-8449-4fa3-a291-314d21803e1b"
      },
      "source": [
        "df_diff_general= df.groupby(['Country/Region','ObservationDate']).sum().diff()\n",
        "df_diff_general"
      ],
      "execution_count": 214,
      "outputs": [
        {
          "output_type": "execute_result",
          "data": {
            "text/html": [
              "<div>\n",
              "<style scoped>\n",
              "    .dataframe tbody tr th:only-of-type {\n",
              "        vertical-align: middle;\n",
              "    }\n",
              "\n",
              "    .dataframe tbody tr th {\n",
              "        vertical-align: top;\n",
              "    }\n",
              "\n",
              "    .dataframe thead th {\n",
              "        text-align: right;\n",
              "    }\n",
              "</style>\n",
              "<table border=\"1\" class=\"dataframe\">\n",
              "  <thead>\n",
              "    <tr style=\"text-align: right;\">\n",
              "      <th></th>\n",
              "      <th></th>\n",
              "      <th>Confirmed</th>\n",
              "      <th>Deaths</th>\n",
              "      <th>Recovered</th>\n",
              "    </tr>\n",
              "    <tr>\n",
              "      <th>Country/Region</th>\n",
              "      <th>ObservationDate</th>\n",
              "      <th></th>\n",
              "      <th></th>\n",
              "      <th></th>\n",
              "    </tr>\n",
              "  </thead>\n",
              "  <tbody>\n",
              "    <tr>\n",
              "      <th>Azerbaijan</th>\n",
              "      <th>2020-02-28</th>\n",
              "      <td>NaN</td>\n",
              "      <td>NaN</td>\n",
              "      <td>NaN</td>\n",
              "    </tr>\n",
              "    <tr>\n",
              "      <th>('St. Martin',)</th>\n",
              "      <th>2020-03-10</th>\n",
              "      <td>1.0</td>\n",
              "      <td>0.0</td>\n",
              "      <td>0.0</td>\n",
              "    </tr>\n",
              "    <tr>\n",
              "      <th rowspan=\"3\" valign=\"top\">Afghanistan</th>\n",
              "      <th>2020-02-24</th>\n",
              "      <td>-1.0</td>\n",
              "      <td>0.0</td>\n",
              "      <td>0.0</td>\n",
              "    </tr>\n",
              "    <tr>\n",
              "      <th>2020-02-25</th>\n",
              "      <td>0.0</td>\n",
              "      <td>0.0</td>\n",
              "      <td>0.0</td>\n",
              "    </tr>\n",
              "    <tr>\n",
              "      <th>2020-02-26</th>\n",
              "      <td>0.0</td>\n",
              "      <td>0.0</td>\n",
              "      <td>0.0</td>\n",
              "    </tr>\n",
              "    <tr>\n",
              "      <th>...</th>\n",
              "      <th>...</th>\n",
              "      <td>...</td>\n",
              "      <td>...</td>\n",
              "      <td>...</td>\n",
              "    </tr>\n",
              "    <tr>\n",
              "      <th rowspan=\"5\" valign=\"top\">occupied Palestinian territory</th>\n",
              "      <th>2020-03-12</th>\n",
              "      <td>0.0</td>\n",
              "      <td>0.0</td>\n",
              "      <td>0.0</td>\n",
              "    </tr>\n",
              "    <tr>\n",
              "      <th>2020-03-14</th>\n",
              "      <td>0.0</td>\n",
              "      <td>0.0</td>\n",
              "      <td>0.0</td>\n",
              "    </tr>\n",
              "    <tr>\n",
              "      <th>2020-03-15</th>\n",
              "      <td>0.0</td>\n",
              "      <td>0.0</td>\n",
              "      <td>0.0</td>\n",
              "    </tr>\n",
              "    <tr>\n",
              "      <th>2020-03-16</th>\n",
              "      <td>0.0</td>\n",
              "      <td>0.0</td>\n",
              "      <td>0.0</td>\n",
              "    </tr>\n",
              "    <tr>\n",
              "      <th>2020-03-17</th>\n",
              "      <td>0.0</td>\n",
              "      <td>0.0</td>\n",
              "      <td>0.0</td>\n",
              "    </tr>\n",
              "  </tbody>\n",
              "</table>\n",
              "<p>20021 rows × 3 columns</p>\n",
              "</div>"
            ],
            "text/plain": [
              "                                                Confirmed  Deaths  Recovered\n",
              "Country/Region                 ObservationDate                              \n",
              " Azerbaijan                    2020-02-28             NaN     NaN        NaN\n",
              "('St. Martin',)                2020-03-10             1.0     0.0        0.0\n",
              "Afghanistan                    2020-02-24            -1.0     0.0        0.0\n",
              "                               2020-02-25             0.0     0.0        0.0\n",
              "                               2020-02-26             0.0     0.0        0.0\n",
              "...                                                   ...     ...        ...\n",
              "occupied Palestinian territory 2020-03-12             0.0     0.0        0.0\n",
              "                               2020-03-14             0.0     0.0        0.0\n",
              "                               2020-03-15             0.0     0.0        0.0\n",
              "                               2020-03-16             0.0     0.0        0.0\n",
              "                               2020-03-17             0.0     0.0        0.0\n",
              "\n",
              "[20021 rows x 3 columns]"
            ]
          },
          "metadata": {
            "tags": []
          },
          "execution_count": 214
        }
      ]
    },
    {
      "cell_type": "code",
      "metadata": {
        "id": "NQXbXpY9msWK",
        "colab_type": "code",
        "colab": {
          "base_uri": "https://localhost:8080/",
          "height": 431
        },
        "outputId": "7428dd2f-47ca-4667-9c70-330cd5c0dc80"
      },
      "source": [
        "mask = (df_diff_general < 0)\n",
        "mask"
      ],
      "execution_count": 215,
      "outputs": [
        {
          "output_type": "execute_result",
          "data": {
            "text/html": [
              "<div>\n",
              "<style scoped>\n",
              "    .dataframe tbody tr th:only-of-type {\n",
              "        vertical-align: middle;\n",
              "    }\n",
              "\n",
              "    .dataframe tbody tr th {\n",
              "        vertical-align: top;\n",
              "    }\n",
              "\n",
              "    .dataframe thead th {\n",
              "        text-align: right;\n",
              "    }\n",
              "</style>\n",
              "<table border=\"1\" class=\"dataframe\">\n",
              "  <thead>\n",
              "    <tr style=\"text-align: right;\">\n",
              "      <th></th>\n",
              "      <th></th>\n",
              "      <th>Confirmed</th>\n",
              "      <th>Deaths</th>\n",
              "      <th>Recovered</th>\n",
              "    </tr>\n",
              "    <tr>\n",
              "      <th>Country/Region</th>\n",
              "      <th>ObservationDate</th>\n",
              "      <th></th>\n",
              "      <th></th>\n",
              "      <th></th>\n",
              "    </tr>\n",
              "  </thead>\n",
              "  <tbody>\n",
              "    <tr>\n",
              "      <th>Azerbaijan</th>\n",
              "      <th>2020-02-28</th>\n",
              "      <td>False</td>\n",
              "      <td>False</td>\n",
              "      <td>False</td>\n",
              "    </tr>\n",
              "    <tr>\n",
              "      <th>('St. Martin',)</th>\n",
              "      <th>2020-03-10</th>\n",
              "      <td>False</td>\n",
              "      <td>False</td>\n",
              "      <td>False</td>\n",
              "    </tr>\n",
              "    <tr>\n",
              "      <th rowspan=\"3\" valign=\"top\">Afghanistan</th>\n",
              "      <th>2020-02-24</th>\n",
              "      <td>True</td>\n",
              "      <td>False</td>\n",
              "      <td>False</td>\n",
              "    </tr>\n",
              "    <tr>\n",
              "      <th>2020-02-25</th>\n",
              "      <td>False</td>\n",
              "      <td>False</td>\n",
              "      <td>False</td>\n",
              "    </tr>\n",
              "    <tr>\n",
              "      <th>2020-02-26</th>\n",
              "      <td>False</td>\n",
              "      <td>False</td>\n",
              "      <td>False</td>\n",
              "    </tr>\n",
              "    <tr>\n",
              "      <th>...</th>\n",
              "      <th>...</th>\n",
              "      <td>...</td>\n",
              "      <td>...</td>\n",
              "      <td>...</td>\n",
              "    </tr>\n",
              "    <tr>\n",
              "      <th rowspan=\"5\" valign=\"top\">occupied Palestinian territory</th>\n",
              "      <th>2020-03-12</th>\n",
              "      <td>False</td>\n",
              "      <td>False</td>\n",
              "      <td>False</td>\n",
              "    </tr>\n",
              "    <tr>\n",
              "      <th>2020-03-14</th>\n",
              "      <td>False</td>\n",
              "      <td>False</td>\n",
              "      <td>False</td>\n",
              "    </tr>\n",
              "    <tr>\n",
              "      <th>2020-03-15</th>\n",
              "      <td>False</td>\n",
              "      <td>False</td>\n",
              "      <td>False</td>\n",
              "    </tr>\n",
              "    <tr>\n",
              "      <th>2020-03-16</th>\n",
              "      <td>False</td>\n",
              "      <td>False</td>\n",
              "      <td>False</td>\n",
              "    </tr>\n",
              "    <tr>\n",
              "      <th>2020-03-17</th>\n",
              "      <td>False</td>\n",
              "      <td>False</td>\n",
              "      <td>False</td>\n",
              "    </tr>\n",
              "  </tbody>\n",
              "</table>\n",
              "<p>20021 rows × 3 columns</p>\n",
              "</div>"
            ],
            "text/plain": [
              "                                                Confirmed  Deaths  Recovered\n",
              "Country/Region                 ObservationDate                              \n",
              " Azerbaijan                    2020-02-28           False   False      False\n",
              "('St. Martin',)                2020-03-10           False   False      False\n",
              "Afghanistan                    2020-02-24            True   False      False\n",
              "                               2020-02-25           False   False      False\n",
              "                               2020-02-26           False   False      False\n",
              "...                                                   ...     ...        ...\n",
              "occupied Palestinian territory 2020-03-12           False   False      False\n",
              "                               2020-03-14           False   False      False\n",
              "                               2020-03-15           False   False      False\n",
              "                               2020-03-16           False   False      False\n",
              "                               2020-03-17           False   False      False\n",
              "\n",
              "[20021 rows x 3 columns]"
            ]
          },
          "metadata": {
            "tags": []
          },
          "execution_count": 215
        }
      ]
    },
    {
      "cell_type": "code",
      "metadata": {
        "id": "rKb3uNdqNRW8",
        "colab_type": "code",
        "colab": {
          "base_uri": "https://localhost:8080/",
          "height": 67
        },
        "outputId": "741349cf-ef2a-4821-e2d0-0e417e1a4950"
      },
      "source": [
        "df.groupby(['Country/Region','ObservationDate']).sum().head(1).to_dict()"
      ],
      "execution_count": 216,
      "outputs": [
        {
          "output_type": "execute_result",
          "data": {
            "text/plain": [
              "{'Confirmed': {(' Azerbaijan', Timestamp('2020-02-28 00:00:00')): 1.0},\n",
              " 'Deaths': {(' Azerbaijan', Timestamp('2020-02-28 00:00:00')): 0.0},\n",
              " 'Recovered': {(' Azerbaijan', Timestamp('2020-02-28 00:00:00')): 0.0}}"
            ]
          },
          "metadata": {
            "tags": []
          },
          "execution_count": 216
        }
      ]
    },
    {
      "cell_type": "code",
      "metadata": {
        "id": "AMBdjAA_MmHi",
        "colab_type": "code",
        "colab": {
          "base_uri": "https://localhost:8080/",
          "height": 431
        },
        "outputId": "9125ee6c-7d2a-49d4-8ed5-39b9335cca1e"
      },
      "source": [
        "# Los valores diferentes menores a 0 se llenan con 0\n",
        "\n",
        "df_diff_general[mask] = 0\n",
        "df_diff_general"
      ],
      "execution_count": 217,
      "outputs": [
        {
          "output_type": "execute_result",
          "data": {
            "text/html": [
              "<div>\n",
              "<style scoped>\n",
              "    .dataframe tbody tr th:only-of-type {\n",
              "        vertical-align: middle;\n",
              "    }\n",
              "\n",
              "    .dataframe tbody tr th {\n",
              "        vertical-align: top;\n",
              "    }\n",
              "\n",
              "    .dataframe thead th {\n",
              "        text-align: right;\n",
              "    }\n",
              "</style>\n",
              "<table border=\"1\" class=\"dataframe\">\n",
              "  <thead>\n",
              "    <tr style=\"text-align: right;\">\n",
              "      <th></th>\n",
              "      <th></th>\n",
              "      <th>Confirmed</th>\n",
              "      <th>Deaths</th>\n",
              "      <th>Recovered</th>\n",
              "    </tr>\n",
              "    <tr>\n",
              "      <th>Country/Region</th>\n",
              "      <th>ObservationDate</th>\n",
              "      <th></th>\n",
              "      <th></th>\n",
              "      <th></th>\n",
              "    </tr>\n",
              "  </thead>\n",
              "  <tbody>\n",
              "    <tr>\n",
              "      <th>Azerbaijan</th>\n",
              "      <th>2020-02-28</th>\n",
              "      <td>NaN</td>\n",
              "      <td>NaN</td>\n",
              "      <td>NaN</td>\n",
              "    </tr>\n",
              "    <tr>\n",
              "      <th>('St. Martin',)</th>\n",
              "      <th>2020-03-10</th>\n",
              "      <td>1.0</td>\n",
              "      <td>0.0</td>\n",
              "      <td>0.0</td>\n",
              "    </tr>\n",
              "    <tr>\n",
              "      <th rowspan=\"3\" valign=\"top\">Afghanistan</th>\n",
              "      <th>2020-02-24</th>\n",
              "      <td>0.0</td>\n",
              "      <td>0.0</td>\n",
              "      <td>0.0</td>\n",
              "    </tr>\n",
              "    <tr>\n",
              "      <th>2020-02-25</th>\n",
              "      <td>0.0</td>\n",
              "      <td>0.0</td>\n",
              "      <td>0.0</td>\n",
              "    </tr>\n",
              "    <tr>\n",
              "      <th>2020-02-26</th>\n",
              "      <td>0.0</td>\n",
              "      <td>0.0</td>\n",
              "      <td>0.0</td>\n",
              "    </tr>\n",
              "    <tr>\n",
              "      <th>...</th>\n",
              "      <th>...</th>\n",
              "      <td>...</td>\n",
              "      <td>...</td>\n",
              "      <td>...</td>\n",
              "    </tr>\n",
              "    <tr>\n",
              "      <th rowspan=\"5\" valign=\"top\">occupied Palestinian territory</th>\n",
              "      <th>2020-03-12</th>\n",
              "      <td>0.0</td>\n",
              "      <td>0.0</td>\n",
              "      <td>0.0</td>\n",
              "    </tr>\n",
              "    <tr>\n",
              "      <th>2020-03-14</th>\n",
              "      <td>0.0</td>\n",
              "      <td>0.0</td>\n",
              "      <td>0.0</td>\n",
              "    </tr>\n",
              "    <tr>\n",
              "      <th>2020-03-15</th>\n",
              "      <td>0.0</td>\n",
              "      <td>0.0</td>\n",
              "      <td>0.0</td>\n",
              "    </tr>\n",
              "    <tr>\n",
              "      <th>2020-03-16</th>\n",
              "      <td>0.0</td>\n",
              "      <td>0.0</td>\n",
              "      <td>0.0</td>\n",
              "    </tr>\n",
              "    <tr>\n",
              "      <th>2020-03-17</th>\n",
              "      <td>0.0</td>\n",
              "      <td>0.0</td>\n",
              "      <td>0.0</td>\n",
              "    </tr>\n",
              "  </tbody>\n",
              "</table>\n",
              "<p>20021 rows × 3 columns</p>\n",
              "</div>"
            ],
            "text/plain": [
              "                                                Confirmed  Deaths  Recovered\n",
              "Country/Region                 ObservationDate                              \n",
              " Azerbaijan                    2020-02-28             NaN     NaN        NaN\n",
              "('St. Martin',)                2020-03-10             1.0     0.0        0.0\n",
              "Afghanistan                    2020-02-24             0.0     0.0        0.0\n",
              "                               2020-02-25             0.0     0.0        0.0\n",
              "                               2020-02-26             0.0     0.0        0.0\n",
              "...                                                   ...     ...        ...\n",
              "occupied Palestinian territory 2020-03-12             0.0     0.0        0.0\n",
              "                               2020-03-14             0.0     0.0        0.0\n",
              "                               2020-03-15             0.0     0.0        0.0\n",
              "                               2020-03-16             0.0     0.0        0.0\n",
              "                               2020-03-17             0.0     0.0        0.0\n",
              "\n",
              "[20021 rows x 3 columns]"
            ]
          },
          "metadata": {
            "tags": []
          },
          "execution_count": 217
        }
      ]
    },
    {
      "cell_type": "code",
      "metadata": {
        "id": "n4cX8zjzOiNf",
        "colab_type": "code",
        "colab": {
          "base_uri": "https://localhost:8080/",
          "height": 431
        },
        "outputId": "dc957bb8-1a5d-4a8d-9a89-138c6b77c9d2"
      },
      "source": [
        "# Tratamos el valor nan\n",
        "\n",
        "df_diff_general = df_diff_general.fillna({'Confirmed': 1.0,\n",
        "  'Deaths':  0.0,\n",
        "  'Recovered':  0.0})\n",
        "df_diff_general"
      ],
      "execution_count": 218,
      "outputs": [
        {
          "output_type": "execute_result",
          "data": {
            "text/html": [
              "<div>\n",
              "<style scoped>\n",
              "    .dataframe tbody tr th:only-of-type {\n",
              "        vertical-align: middle;\n",
              "    }\n",
              "\n",
              "    .dataframe tbody tr th {\n",
              "        vertical-align: top;\n",
              "    }\n",
              "\n",
              "    .dataframe thead th {\n",
              "        text-align: right;\n",
              "    }\n",
              "</style>\n",
              "<table border=\"1\" class=\"dataframe\">\n",
              "  <thead>\n",
              "    <tr style=\"text-align: right;\">\n",
              "      <th></th>\n",
              "      <th></th>\n",
              "      <th>Confirmed</th>\n",
              "      <th>Deaths</th>\n",
              "      <th>Recovered</th>\n",
              "    </tr>\n",
              "    <tr>\n",
              "      <th>Country/Region</th>\n",
              "      <th>ObservationDate</th>\n",
              "      <th></th>\n",
              "      <th></th>\n",
              "      <th></th>\n",
              "    </tr>\n",
              "  </thead>\n",
              "  <tbody>\n",
              "    <tr>\n",
              "      <th>Azerbaijan</th>\n",
              "      <th>2020-02-28</th>\n",
              "      <td>1.0</td>\n",
              "      <td>0.0</td>\n",
              "      <td>0.0</td>\n",
              "    </tr>\n",
              "    <tr>\n",
              "      <th>('St. Martin',)</th>\n",
              "      <th>2020-03-10</th>\n",
              "      <td>1.0</td>\n",
              "      <td>0.0</td>\n",
              "      <td>0.0</td>\n",
              "    </tr>\n",
              "    <tr>\n",
              "      <th rowspan=\"3\" valign=\"top\">Afghanistan</th>\n",
              "      <th>2020-02-24</th>\n",
              "      <td>0.0</td>\n",
              "      <td>0.0</td>\n",
              "      <td>0.0</td>\n",
              "    </tr>\n",
              "    <tr>\n",
              "      <th>2020-02-25</th>\n",
              "      <td>0.0</td>\n",
              "      <td>0.0</td>\n",
              "      <td>0.0</td>\n",
              "    </tr>\n",
              "    <tr>\n",
              "      <th>2020-02-26</th>\n",
              "      <td>0.0</td>\n",
              "      <td>0.0</td>\n",
              "      <td>0.0</td>\n",
              "    </tr>\n",
              "    <tr>\n",
              "      <th>...</th>\n",
              "      <th>...</th>\n",
              "      <td>...</td>\n",
              "      <td>...</td>\n",
              "      <td>...</td>\n",
              "    </tr>\n",
              "    <tr>\n",
              "      <th rowspan=\"5\" valign=\"top\">occupied Palestinian territory</th>\n",
              "      <th>2020-03-12</th>\n",
              "      <td>0.0</td>\n",
              "      <td>0.0</td>\n",
              "      <td>0.0</td>\n",
              "    </tr>\n",
              "    <tr>\n",
              "      <th>2020-03-14</th>\n",
              "      <td>0.0</td>\n",
              "      <td>0.0</td>\n",
              "      <td>0.0</td>\n",
              "    </tr>\n",
              "    <tr>\n",
              "      <th>2020-03-15</th>\n",
              "      <td>0.0</td>\n",
              "      <td>0.0</td>\n",
              "      <td>0.0</td>\n",
              "    </tr>\n",
              "    <tr>\n",
              "      <th>2020-03-16</th>\n",
              "      <td>0.0</td>\n",
              "      <td>0.0</td>\n",
              "      <td>0.0</td>\n",
              "    </tr>\n",
              "    <tr>\n",
              "      <th>2020-03-17</th>\n",
              "      <td>0.0</td>\n",
              "      <td>0.0</td>\n",
              "      <td>0.0</td>\n",
              "    </tr>\n",
              "  </tbody>\n",
              "</table>\n",
              "<p>20021 rows × 3 columns</p>\n",
              "</div>"
            ],
            "text/plain": [
              "                                                Confirmed  Deaths  Recovered\n",
              "Country/Region                 ObservationDate                              \n",
              " Azerbaijan                    2020-02-28             1.0     0.0        0.0\n",
              "('St. Martin',)                2020-03-10             1.0     0.0        0.0\n",
              "Afghanistan                    2020-02-24             0.0     0.0        0.0\n",
              "                               2020-02-25             0.0     0.0        0.0\n",
              "                               2020-02-26             0.0     0.0        0.0\n",
              "...                                                   ...     ...        ...\n",
              "occupied Palestinian territory 2020-03-12             0.0     0.0        0.0\n",
              "                               2020-03-14             0.0     0.0        0.0\n",
              "                               2020-03-15             0.0     0.0        0.0\n",
              "                               2020-03-16             0.0     0.0        0.0\n",
              "                               2020-03-17             0.0     0.0        0.0\n",
              "\n",
              "[20021 rows x 3 columns]"
            ]
          },
          "metadata": {
            "tags": []
          },
          "execution_count": 218
        }
      ]
    },
    {
      "cell_type": "code",
      "metadata": {
        "id": "g6bw6Z22Q4pf",
        "colab_type": "code",
        "colab": {}
      },
      "source": [
        "df_diff_general = df_diff_general.reset_index()"
      ],
      "execution_count": 219,
      "outputs": []
    },
    {
      "cell_type": "code",
      "metadata": {
        "id": "FDt9CW8AQoT2",
        "colab_type": "code",
        "colab": {
          "base_uri": "https://localhost:8080/",
          "height": 431
        },
        "outputId": "92fc61ff-8c44-41cc-acf3-e4baf62bab8d"
      },
      "source": [
        "# Sacamos el incremento de los casos mes a mes \n",
        "df_inc_Monthly = df_diff_general.groupby(['Country/Region',pd.Grouper(key='ObservationDate',freq='M')]).sum()\n",
        "df_inc_Monthly"
      ],
      "execution_count": 227,
      "outputs": [
        {
          "output_type": "execute_result",
          "data": {
            "text/html": [
              "<div>\n",
              "<style scoped>\n",
              "    .dataframe tbody tr th:only-of-type {\n",
              "        vertical-align: middle;\n",
              "    }\n",
              "\n",
              "    .dataframe tbody tr th {\n",
              "        vertical-align: top;\n",
              "    }\n",
              "\n",
              "    .dataframe thead th {\n",
              "        text-align: right;\n",
              "    }\n",
              "</style>\n",
              "<table border=\"1\" class=\"dataframe\">\n",
              "  <thead>\n",
              "    <tr style=\"text-align: right;\">\n",
              "      <th></th>\n",
              "      <th></th>\n",
              "      <th>Confirmed</th>\n",
              "      <th>Deaths</th>\n",
              "      <th>Recovered</th>\n",
              "    </tr>\n",
              "    <tr>\n",
              "      <th>Country/Region</th>\n",
              "      <th>ObservationDate</th>\n",
              "      <th></th>\n",
              "      <th></th>\n",
              "      <th></th>\n",
              "    </tr>\n",
              "  </thead>\n",
              "  <tbody>\n",
              "    <tr>\n",
              "      <th>Azerbaijan</th>\n",
              "      <th>2020-02-29</th>\n",
              "      <td>1.0</td>\n",
              "      <td>0.0</td>\n",
              "      <td>0.0</td>\n",
              "    </tr>\n",
              "    <tr>\n",
              "      <th>('St. Martin',)</th>\n",
              "      <th>2020-03-31</th>\n",
              "      <td>1.0</td>\n",
              "      <td>0.0</td>\n",
              "      <td>0.0</td>\n",
              "    </tr>\n",
              "    <tr>\n",
              "      <th rowspan=\"3\" valign=\"top\">Afghanistan</th>\n",
              "      <th>2020-02-29</th>\n",
              "      <td>0.0</td>\n",
              "      <td>0.0</td>\n",
              "      <td>0.0</td>\n",
              "    </tr>\n",
              "    <tr>\n",
              "      <th>2020-03-31</th>\n",
              "      <td>173.0</td>\n",
              "      <td>4.0</td>\n",
              "      <td>5.0</td>\n",
              "    </tr>\n",
              "    <tr>\n",
              "      <th>2020-04-30</th>\n",
              "      <td>1997.0</td>\n",
              "      <td>60.0</td>\n",
              "      <td>255.0</td>\n",
              "    </tr>\n",
              "    <tr>\n",
              "      <th>...</th>\n",
              "      <th>...</th>\n",
              "      <td>...</td>\n",
              "      <td>...</td>\n",
              "      <td>...</td>\n",
              "    </tr>\n",
              "    <tr>\n",
              "      <th rowspan=\"4\" valign=\"top\">Zimbabwe</th>\n",
              "      <th>2020-03-31</th>\n",
              "      <td>7.0</td>\n",
              "      <td>1.0</td>\n",
              "      <td>0.0</td>\n",
              "    </tr>\n",
              "    <tr>\n",
              "      <th>2020-04-30</th>\n",
              "      <td>32.0</td>\n",
              "      <td>3.0</td>\n",
              "      <td>5.0</td>\n",
              "    </tr>\n",
              "    <tr>\n",
              "      <th>2020-05-31</th>\n",
              "      <td>144.0</td>\n",
              "      <td>0.0</td>\n",
              "      <td>24.0</td>\n",
              "    </tr>\n",
              "    <tr>\n",
              "      <th>2020-06-30</th>\n",
              "      <td>213.0</td>\n",
              "      <td>0.0</td>\n",
              "      <td>33.0</td>\n",
              "    </tr>\n",
              "    <tr>\n",
              "      <th>occupied Palestinian territory</th>\n",
              "      <th>2020-03-31</th>\n",
              "      <td>0.0</td>\n",
              "      <td>0.0</td>\n",
              "      <td>0.0</td>\n",
              "    </tr>\n",
              "  </tbody>\n",
              "</table>\n",
              "<p>877 rows × 3 columns</p>\n",
              "</div>"
            ],
            "text/plain": [
              "                                                Confirmed  Deaths  Recovered\n",
              "Country/Region                 ObservationDate                              \n",
              " Azerbaijan                    2020-02-29             1.0     0.0        0.0\n",
              "('St. Martin',)                2020-03-31             1.0     0.0        0.0\n",
              "Afghanistan                    2020-02-29             0.0     0.0        0.0\n",
              "                               2020-03-31           173.0     4.0        5.0\n",
              "                               2020-04-30          1997.0    60.0      255.0\n",
              "...                                                   ...     ...        ...\n",
              "Zimbabwe                       2020-03-31             7.0     1.0        0.0\n",
              "                               2020-04-30            32.0     3.0        5.0\n",
              "                               2020-05-31           144.0     0.0       24.0\n",
              "                               2020-06-30           213.0     0.0       33.0\n",
              "occupied Palestinian territory 2020-03-31             0.0     0.0        0.0\n",
              "\n",
              "[877 rows x 3 columns]"
            ]
          },
          "metadata": {
            "tags": []
          },
          "execution_count": 227
        }
      ]
    },
    {
      "cell_type": "code",
      "metadata": {
        "id": "K-6zgSudULdi",
        "colab_type": "code",
        "colab": {
          "base_uri": "https://localhost:8080/",
          "height": 639
        },
        "outputId": "06e80909-27be-4bc7-bf9b-80dcefcb69e5"
      },
      "source": [
        "# Obtenemos el del mes que nos interesa, en este caso es junio \n",
        "# Y los ordenamos de mayor a menor considerando el numero de casos confirmados\n",
        "\n",
        "df_inc_June = df_inc_Monthly.xs('2020-06-30',level='ObservationDate').sort_values('Deaths',ascending=False)\n",
        "df_inc_June.head(20).reset_index()"
      ],
      "execution_count": 237,
      "outputs": [
        {
          "output_type": "execute_result",
          "data": {
            "text/html": [
              "<div>\n",
              "<style scoped>\n",
              "    .dataframe tbody tr th:only-of-type {\n",
              "        vertical-align: middle;\n",
              "    }\n",
              "\n",
              "    .dataframe tbody tr th {\n",
              "        vertical-align: top;\n",
              "    }\n",
              "\n",
              "    .dataframe thead th {\n",
              "        text-align: right;\n",
              "    }\n",
              "</style>\n",
              "<table border=\"1\" class=\"dataframe\">\n",
              "  <thead>\n",
              "    <tr style=\"text-align: right;\">\n",
              "      <th></th>\n",
              "      <th>Country/Region</th>\n",
              "      <th>Confirmed</th>\n",
              "      <th>Deaths</th>\n",
              "      <th>Recovered</th>\n",
              "    </tr>\n",
              "  </thead>\n",
              "  <tbody>\n",
              "    <tr>\n",
              "      <th>0</th>\n",
              "      <td>Brazil</td>\n",
              "      <td>408340.0</td>\n",
              "      <td>15927.0</td>\n",
              "      <td>283450.0</td>\n",
              "    </tr>\n",
              "    <tr>\n",
              "      <th>1</th>\n",
              "      <td>US</td>\n",
              "      <td>347559.0</td>\n",
              "      <td>12582.0</td>\n",
              "      <td>138745.0</td>\n",
              "    </tr>\n",
              "    <tr>\n",
              "      <th>2</th>\n",
              "      <td>Mexico</td>\n",
              "      <td>64199.0</td>\n",
              "      <td>8380.0</td>\n",
              "      <td>51622.0</td>\n",
              "    </tr>\n",
              "    <tr>\n",
              "      <th>3</th>\n",
              "      <td>India</td>\n",
              "      <td>163456.0</td>\n",
              "      <td>6500.0</td>\n",
              "      <td>95083.0</td>\n",
              "    </tr>\n",
              "    <tr>\n",
              "      <th>4</th>\n",
              "      <td>UK</td>\n",
              "      <td>23444.0</td>\n",
              "      <td>3483.0</td>\n",
              "      <td>115.0</td>\n",
              "    </tr>\n",
              "    <tr>\n",
              "      <th>5</th>\n",
              "      <td>Russia</td>\n",
              "      <td>138882.0</td>\n",
              "      <td>2581.0</td>\n",
              "      <td>121897.0</td>\n",
              "    </tr>\n",
              "    <tr>\n",
              "      <th>6</th>\n",
              "      <td>Peru</td>\n",
              "      <td>72680.0</td>\n",
              "      <td>2550.0</td>\n",
              "      <td>57997.0</td>\n",
              "    </tr>\n",
              "    <tr>\n",
              "      <th>7</th>\n",
              "      <td>Chile</td>\n",
              "      <td>84761.0</td>\n",
              "      <td>2329.0</td>\n",
              "      <td>137426.0</td>\n",
              "    </tr>\n",
              "    <tr>\n",
              "      <th>8</th>\n",
              "      <td>Pakistan</td>\n",
              "      <td>85264.0</td>\n",
              "      <td>1492.0</td>\n",
              "      <td>33166.0</td>\n",
              "    </tr>\n",
              "    <tr>\n",
              "      <th>9</th>\n",
              "      <td>Iran</td>\n",
              "      <td>40973.0</td>\n",
              "      <td>1268.0</td>\n",
              "      <td>33827.0</td>\n",
              "    </tr>\n",
              "    <tr>\n",
              "      <th>10</th>\n",
              "      <td>Italy</td>\n",
              "      <td>4503.0</td>\n",
              "      <td>990.0</td>\n",
              "      <td>21019.0</td>\n",
              "    </tr>\n",
              "    <tr>\n",
              "      <th>11</th>\n",
              "      <td>South Africa</td>\n",
              "      <td>43651.0</td>\n",
              "      <td>942.0</td>\n",
              "      <td>25254.0</td>\n",
              "    </tr>\n",
              "    <tr>\n",
              "      <th>12</th>\n",
              "      <td>Canada</td>\n",
              "      <td>8608.0</td>\n",
              "      <td>897.0</td>\n",
              "      <td>12686.0</td>\n",
              "    </tr>\n",
              "    <tr>\n",
              "      <th>13</th>\n",
              "      <td>Colombia</td>\n",
              "      <td>25992.0</td>\n",
              "      <td>892.0</td>\n",
              "      <td>12954.0</td>\n",
              "    </tr>\n",
              "    <tr>\n",
              "      <th>14</th>\n",
              "      <td>Egypt</td>\n",
              "      <td>22871.0</td>\n",
              "      <td>807.0</td>\n",
              "      <td>6693.0</td>\n",
              "    </tr>\n",
              "    <tr>\n",
              "      <th>15</th>\n",
              "      <td>France</td>\n",
              "      <td>8997.0</td>\n",
              "      <td>745.0</td>\n",
              "      <td>4986.0</td>\n",
              "    </tr>\n",
              "    <tr>\n",
              "      <th>16</th>\n",
              "      <td>Indonesia</td>\n",
              "      <td>13927.0</td>\n",
              "      <td>618.0</td>\n",
              "      <td>8395.0</td>\n",
              "    </tr>\n",
              "    <tr>\n",
              "      <th>17</th>\n",
              "      <td>Ecuador</td>\n",
              "      <td>8845.0</td>\n",
              "      <td>612.0</td>\n",
              "      <td>4092.0</td>\n",
              "    </tr>\n",
              "    <tr>\n",
              "      <th>18</th>\n",
              "      <td>Bangladesh</td>\n",
              "      <td>47328.0</td>\n",
              "      <td>612.0</td>\n",
              "      <td>26483.0</td>\n",
              "    </tr>\n",
              "    <tr>\n",
              "      <th>19</th>\n",
              "      <td>Saudi Arabia</td>\n",
              "      <td>51054.0</td>\n",
              "      <td>549.0</td>\n",
              "      <td>27098.0</td>\n",
              "    </tr>\n",
              "  </tbody>\n",
              "</table>\n",
              "</div>"
            ],
            "text/plain": [
              "   Country/Region  Confirmed   Deaths  Recovered\n",
              "0          Brazil   408340.0  15927.0   283450.0\n",
              "1              US   347559.0  12582.0   138745.0\n",
              "2          Mexico    64199.0   8380.0    51622.0\n",
              "3           India   163456.0   6500.0    95083.0\n",
              "4              UK    23444.0   3483.0      115.0\n",
              "5          Russia   138882.0   2581.0   121897.0\n",
              "6            Peru    72680.0   2550.0    57997.0\n",
              "7           Chile    84761.0   2329.0   137426.0\n",
              "8        Pakistan    85264.0   1492.0    33166.0\n",
              "9            Iran    40973.0   1268.0    33827.0\n",
              "10          Italy     4503.0    990.0    21019.0\n",
              "11   South Africa    43651.0    942.0    25254.0\n",
              "12         Canada     8608.0    897.0    12686.0\n",
              "13       Colombia    25992.0    892.0    12954.0\n",
              "14          Egypt    22871.0    807.0     6693.0\n",
              "15         France     8997.0    745.0     4986.0\n",
              "16      Indonesia    13927.0    618.0     8395.0\n",
              "17        Ecuador     8845.0    612.0     4092.0\n",
              "18     Bangladesh    47328.0    612.0    26483.0\n",
              "19   Saudi Arabia    51054.0    549.0    27098.0"
            ]
          },
          "metadata": {
            "tags": []
          },
          "execution_count": 237
        }
      ]
    },
    {
      "cell_type": "code",
      "metadata": {
        "id": "GFCe8vMjVcjT",
        "colab_type": "code",
        "colab": {
          "base_uri": "https://localhost:8080/",
          "height": 34
        },
        "outputId": "f548a0dc-3d52-4a96-dabc-2406c4a4b353"
      },
      "source": [
        "# Ahora que sabemos que brazil es el foco del covid pasamos a analizarlo individualmente\n",
        "\n",
        "list(df)"
      ],
      "execution_count": 238,
      "outputs": [
        {
          "output_type": "execute_result",
          "data": {
            "text/plain": [
              "['ObservationDate', 'Country/Region', 'Confirmed', 'Deaths', 'Recovered']"
            ]
          },
          "metadata": {
            "tags": []
          },
          "execution_count": 238
        }
      ]
    },
    {
      "cell_type": "code",
      "metadata": {
        "id": "BmEtX98BvImm",
        "colab_type": "code",
        "colab": {
          "base_uri": "https://localhost:8080/",
          "height": 431
        },
        "outputId": "e7a2c69d-5fa1-4da9-f2a4-87f467b7dbad"
      },
      "source": [
        "#Agrupamos por la prescencia de casos dia por dia\n",
        "\n",
        "df_time = df.groupby(['Country/Region',\n",
        "                    pd.Grouper(key='ObservationDate',freq='1D')]).sum()\n",
        "df_time"
      ],
      "execution_count": 241,
      "outputs": [
        {
          "output_type": "execute_result",
          "data": {
            "text/html": [
              "<div>\n",
              "<style scoped>\n",
              "    .dataframe tbody tr th:only-of-type {\n",
              "        vertical-align: middle;\n",
              "    }\n",
              "\n",
              "    .dataframe tbody tr th {\n",
              "        vertical-align: top;\n",
              "    }\n",
              "\n",
              "    .dataframe thead th {\n",
              "        text-align: right;\n",
              "    }\n",
              "</style>\n",
              "<table border=\"1\" class=\"dataframe\">\n",
              "  <thead>\n",
              "    <tr style=\"text-align: right;\">\n",
              "      <th></th>\n",
              "      <th></th>\n",
              "      <th>Confirmed</th>\n",
              "      <th>Deaths</th>\n",
              "      <th>Recovered</th>\n",
              "    </tr>\n",
              "    <tr>\n",
              "      <th>Country/Region</th>\n",
              "      <th>ObservationDate</th>\n",
              "      <th></th>\n",
              "      <th></th>\n",
              "      <th></th>\n",
              "    </tr>\n",
              "  </thead>\n",
              "  <tbody>\n",
              "    <tr>\n",
              "      <th>Azerbaijan</th>\n",
              "      <th>2020-02-28</th>\n",
              "      <td>1.0</td>\n",
              "      <td>0.0</td>\n",
              "      <td>0.0</td>\n",
              "    </tr>\n",
              "    <tr>\n",
              "      <th>('St. Martin',)</th>\n",
              "      <th>2020-03-10</th>\n",
              "      <td>2.0</td>\n",
              "      <td>0.0</td>\n",
              "      <td>0.0</td>\n",
              "    </tr>\n",
              "    <tr>\n",
              "      <th rowspan=\"3\" valign=\"top\">Afghanistan</th>\n",
              "      <th>2020-02-24</th>\n",
              "      <td>1.0</td>\n",
              "      <td>0.0</td>\n",
              "      <td>0.0</td>\n",
              "    </tr>\n",
              "    <tr>\n",
              "      <th>2020-02-25</th>\n",
              "      <td>1.0</td>\n",
              "      <td>0.0</td>\n",
              "      <td>0.0</td>\n",
              "    </tr>\n",
              "    <tr>\n",
              "      <th>2020-02-26</th>\n",
              "      <td>1.0</td>\n",
              "      <td>0.0</td>\n",
              "      <td>0.0</td>\n",
              "    </tr>\n",
              "    <tr>\n",
              "      <th>...</th>\n",
              "      <th>...</th>\n",
              "      <td>...</td>\n",
              "      <td>...</td>\n",
              "      <td>...</td>\n",
              "    </tr>\n",
              "    <tr>\n",
              "      <th rowspan=\"5\" valign=\"top\">occupied Palestinian territory</th>\n",
              "      <th>2020-03-12</th>\n",
              "      <td>0.0</td>\n",
              "      <td>0.0</td>\n",
              "      <td>0.0</td>\n",
              "    </tr>\n",
              "    <tr>\n",
              "      <th>2020-03-14</th>\n",
              "      <td>0.0</td>\n",
              "      <td>0.0</td>\n",
              "      <td>0.0</td>\n",
              "    </tr>\n",
              "    <tr>\n",
              "      <th>2020-03-15</th>\n",
              "      <td>0.0</td>\n",
              "      <td>0.0</td>\n",
              "      <td>0.0</td>\n",
              "    </tr>\n",
              "    <tr>\n",
              "      <th>2020-03-16</th>\n",
              "      <td>0.0</td>\n",
              "      <td>0.0</td>\n",
              "      <td>0.0</td>\n",
              "    </tr>\n",
              "    <tr>\n",
              "      <th>2020-03-17</th>\n",
              "      <td>0.0</td>\n",
              "      <td>0.0</td>\n",
              "      <td>0.0</td>\n",
              "    </tr>\n",
              "  </tbody>\n",
              "</table>\n",
              "<p>20021 rows × 3 columns</p>\n",
              "</div>"
            ],
            "text/plain": [
              "                                                Confirmed  Deaths  Recovered\n",
              "Country/Region                 ObservationDate                              \n",
              " Azerbaijan                    2020-02-28             1.0     0.0        0.0\n",
              "('St. Martin',)                2020-03-10             2.0     0.0        0.0\n",
              "Afghanistan                    2020-02-24             1.0     0.0        0.0\n",
              "                               2020-02-25             1.0     0.0        0.0\n",
              "                               2020-02-26             1.0     0.0        0.0\n",
              "...                                                   ...     ...        ...\n",
              "occupied Palestinian territory 2020-03-12             0.0     0.0        0.0\n",
              "                               2020-03-14             0.0     0.0        0.0\n",
              "                               2020-03-15             0.0     0.0        0.0\n",
              "                               2020-03-16             0.0     0.0        0.0\n",
              "                               2020-03-17             0.0     0.0        0.0\n",
              "\n",
              "[20021 rows x 3 columns]"
            ]
          },
          "metadata": {
            "tags": []
          },
          "execution_count": 241
        }
      ]
    },
    {
      "cell_type": "code",
      "metadata": {
        "id": "1KYJmAcNvp43",
        "colab_type": "code",
        "colab": {
          "base_uri": "https://localhost:8080/",
          "height": 431
        },
        "outputId": "71a10f11-5587-4a7f-94aa-28e7a87b504d"
      },
      "source": [
        "# Saquemos el df de Brazil\n",
        "\n",
        "df_brazil = df_time.loc['Brazil',:]\n",
        "df_brazil"
      ],
      "execution_count": 243,
      "outputs": [
        {
          "output_type": "execute_result",
          "data": {
            "text/html": [
              "<div>\n",
              "<style scoped>\n",
              "    .dataframe tbody tr th:only-of-type {\n",
              "        vertical-align: middle;\n",
              "    }\n",
              "\n",
              "    .dataframe tbody tr th {\n",
              "        vertical-align: top;\n",
              "    }\n",
              "\n",
              "    .dataframe thead th {\n",
              "        text-align: right;\n",
              "    }\n",
              "</style>\n",
              "<table border=\"1\" class=\"dataframe\">\n",
              "  <thead>\n",
              "    <tr style=\"text-align: right;\">\n",
              "      <th></th>\n",
              "      <th>Confirmed</th>\n",
              "      <th>Deaths</th>\n",
              "      <th>Recovered</th>\n",
              "    </tr>\n",
              "    <tr>\n",
              "      <th>ObservationDate</th>\n",
              "      <th></th>\n",
              "      <th></th>\n",
              "      <th></th>\n",
              "    </tr>\n",
              "  </thead>\n",
              "  <tbody>\n",
              "    <tr>\n",
              "      <th>2020-01-23</th>\n",
              "      <td>0.0</td>\n",
              "      <td>0.0</td>\n",
              "      <td>0.0</td>\n",
              "    </tr>\n",
              "    <tr>\n",
              "      <th>2020-02-26</th>\n",
              "      <td>1.0</td>\n",
              "      <td>0.0</td>\n",
              "      <td>0.0</td>\n",
              "    </tr>\n",
              "    <tr>\n",
              "      <th>2020-02-27</th>\n",
              "      <td>1.0</td>\n",
              "      <td>0.0</td>\n",
              "      <td>0.0</td>\n",
              "    </tr>\n",
              "    <tr>\n",
              "      <th>2020-02-28</th>\n",
              "      <td>1.0</td>\n",
              "      <td>0.0</td>\n",
              "      <td>0.0</td>\n",
              "    </tr>\n",
              "    <tr>\n",
              "      <th>2020-02-29</th>\n",
              "      <td>2.0</td>\n",
              "      <td>0.0</td>\n",
              "      <td>0.0</td>\n",
              "    </tr>\n",
              "    <tr>\n",
              "      <th>...</th>\n",
              "      <td>...</td>\n",
              "      <td>...</td>\n",
              "      <td>...</td>\n",
              "    </tr>\n",
              "    <tr>\n",
              "      <th>2020-06-12</th>\n",
              "      <td>828810.0</td>\n",
              "      <td>41828.0</td>\n",
              "      <td>445123.0</td>\n",
              "    </tr>\n",
              "    <tr>\n",
              "      <th>2020-06-13</th>\n",
              "      <td>850514.0</td>\n",
              "      <td>42720.0</td>\n",
              "      <td>459436.0</td>\n",
              "    </tr>\n",
              "    <tr>\n",
              "      <th>2020-06-14</th>\n",
              "      <td>867624.0</td>\n",
              "      <td>43332.0</td>\n",
              "      <td>469141.0</td>\n",
              "    </tr>\n",
              "    <tr>\n",
              "      <th>2020-06-15</th>\n",
              "      <td>888271.0</td>\n",
              "      <td>43959.0</td>\n",
              "      <td>477709.0</td>\n",
              "    </tr>\n",
              "    <tr>\n",
              "      <th>2020-06-16</th>\n",
              "      <td>923189.0</td>\n",
              "      <td>45241.0</td>\n",
              "      <td>490005.0</td>\n",
              "    </tr>\n",
              "  </tbody>\n",
              "</table>\n",
              "<p>113 rows × 3 columns</p>\n",
              "</div>"
            ],
            "text/plain": [
              "                 Confirmed   Deaths  Recovered\n",
              "ObservationDate                               \n",
              "2020-01-23             0.0      0.0        0.0\n",
              "2020-02-26             1.0      0.0        0.0\n",
              "2020-02-27             1.0      0.0        0.0\n",
              "2020-02-28             1.0      0.0        0.0\n",
              "2020-02-29             2.0      0.0        0.0\n",
              "...                    ...      ...        ...\n",
              "2020-06-12        828810.0  41828.0   445123.0\n",
              "2020-06-13        850514.0  42720.0   459436.0\n",
              "2020-06-14        867624.0  43332.0   469141.0\n",
              "2020-06-15        888271.0  43959.0   477709.0\n",
              "2020-06-16        923189.0  45241.0   490005.0\n",
              "\n",
              "[113 rows x 3 columns]"
            ]
          },
          "metadata": {
            "tags": []
          },
          "execution_count": 243
        }
      ]
    },
    {
      "cell_type": "code",
      "metadata": {
        "id": "auhbyx4DwLGD",
        "colab_type": "code",
        "colab": {}
      },
      "source": [
        "import matplotlib.pyplot as plt"
      ],
      "execution_count": 244,
      "outputs": []
    },
    {
      "cell_type": "code",
      "metadata": {
        "id": "06gvrK_SwUvV",
        "colab_type": "code",
        "colab": {
          "base_uri": "https://localhost:8080/",
          "height": 439
        },
        "outputId": "df3386eb-dd07-4cc3-909c-25332304663f"
      },
      "source": [
        "# Graficamos el comportamiento de cada una de las columnas respecto a las fechas\n",
        "df_brazil.plot(figsize= (10,7),title='COVID-19')\n",
        "plt.xlabel('Date')\n",
        "plt.ylabel('People')\n",
        "plt.show()"
      ],
      "execution_count": 248,
      "outputs": [
        {
          "output_type": "display_data",
          "data": {
            "image/png": "[encoded data removed]",
            "text/plain": [
              "<Figure size 720x504 with 1 Axes>"
            ]
          },
          "metadata": {
            "tags": [],
            "needs_background": "light"
          }
        }
      ]
    },
    {
      "cell_type": "code",
      "metadata": {
        "id": "w6lQ9YblwXor",
        "colab_type": "code",
        "colab": {
          "base_uri": "https://localhost:8080/",
          "height": 439
        },
        "outputId": "ac5a3204-a38b-4412-e284-c83006f90c0c"
      },
      "source": [
        "ax = df_brazil.plot(figsize = (10,7),title='COVID-19',\n",
        "                    legend = False,\n",
        "                    style = ['r-','g--','b:*'])\n",
        "ax.legend(['Confirmados','Muertes','Recuperados'])\n",
        "plt.xlabel('Date')\n",
        "plt.ylabel('People')\n",
        "plt.show()"
      ],
      "execution_count": 252,
      "outputs": [
        {
          "output_type": "display_data",
          "data": {
            "image/png": "[encoded data removed]",
            "text/plain": [
              "<Figure size 720x504 with 1 Axes>"
            ]
          },
          "metadata": {
            "tags": [],
            "needs_background": "light"
          }
        }
      ]
    },
    {
      "cell_type": "code",
      "metadata": {
        "id": "jubExNv_wtLS",
        "colab_type": "code",
        "colab": {
          "base_uri": "https://localhost:8080/",
          "height": 254
        },
        "outputId": "e358821f-dacb-4577-eea2-d9f082afed2d"
      },
      "source": [
        "# Ahora grafiquemos el comportamiento mensual del COVID en Brazil\n",
        "df_brazil_monthly = df_brazil.resample('M').max()\n",
        "df_brazil_monthly"
      ],
      "execution_count": 254,
      "outputs": [
        {
          "output_type": "execute_result",
          "data": {
            "text/html": [
              "<div>\n",
              "<style scoped>\n",
              "    .dataframe tbody tr th:only-of-type {\n",
              "        vertical-align: middle;\n",
              "    }\n",
              "\n",
              "    .dataframe tbody tr th {\n",
              "        vertical-align: top;\n",
              "    }\n",
              "\n",
              "    .dataframe thead th {\n",
              "        text-align: right;\n",
              "    }\n",
              "</style>\n",
              "<table border=\"1\" class=\"dataframe\">\n",
              "  <thead>\n",
              "    <tr style=\"text-align: right;\">\n",
              "      <th></th>\n",
              "      <th>Confirmed</th>\n",
              "      <th>Deaths</th>\n",
              "      <th>Recovered</th>\n",
              "    </tr>\n",
              "    <tr>\n",
              "      <th>ObservationDate</th>\n",
              "      <th></th>\n",
              "      <th></th>\n",
              "      <th></th>\n",
              "    </tr>\n",
              "  </thead>\n",
              "  <tbody>\n",
              "    <tr>\n",
              "      <th>2020-01-31</th>\n",
              "      <td>0.0</td>\n",
              "      <td>0.0</td>\n",
              "      <td>0.0</td>\n",
              "    </tr>\n",
              "    <tr>\n",
              "      <th>2020-02-29</th>\n",
              "      <td>2.0</td>\n",
              "      <td>0.0</td>\n",
              "      <td>0.0</td>\n",
              "    </tr>\n",
              "    <tr>\n",
              "      <th>2020-03-31</th>\n",
              "      <td>5717.0</td>\n",
              "      <td>201.0</td>\n",
              "      <td>127.0</td>\n",
              "    </tr>\n",
              "    <tr>\n",
              "      <th>2020-04-30</th>\n",
              "      <td>87187.0</td>\n",
              "      <td>6006.0</td>\n",
              "      <td>35935.0</td>\n",
              "    </tr>\n",
              "    <tr>\n",
              "      <th>2020-05-31</th>\n",
              "      <td>514849.0</td>\n",
              "      <td>29314.0</td>\n",
              "      <td>206555.0</td>\n",
              "    </tr>\n",
              "    <tr>\n",
              "      <th>2020-06-30</th>\n",
              "      <td>923189.0</td>\n",
              "      <td>45241.0</td>\n",
              "      <td>490005.0</td>\n",
              "    </tr>\n",
              "  </tbody>\n",
              "</table>\n",
              "</div>"
            ],
            "text/plain": [
              "                 Confirmed   Deaths  Recovered\n",
              "ObservationDate                               \n",
              "2020-01-31             0.0      0.0        0.0\n",
              "2020-02-29             2.0      0.0        0.0\n",
              "2020-03-31          5717.0    201.0      127.0\n",
              "2020-04-30         87187.0   6006.0    35935.0\n",
              "2020-05-31        514849.0  29314.0   206555.0\n",
              "2020-06-30        923189.0  45241.0   490005.0"
            ]
          },
          "metadata": {
            "tags": []
          },
          "execution_count": 254
        }
      ]
    },
    {
      "cell_type": "code",
      "metadata": {
        "id": "MQhcyuzaxuHT",
        "colab_type": "code",
        "colab": {
          "base_uri": "https://localhost:8080/",
          "height": 565
        },
        "outputId": "17a3d93a-d3cb-41f7-99ec-9614be733b92"
      },
      "source": [
        "df_brazil_monthly.plot(figsize=(10,7),kind='bar',stacked=True)"
      ],
      "execution_count": 255,
      "outputs": [
        {
          "output_type": "execute_result",
          "data": {
            "text/plain": [
              "<matplotlib.axes._subplots.AxesSubplot at 0x7fabc31f7cc0>"
            ]
          },
          "metadata": {
            "tags": []
          },
          "execution_count": 255
        },
        {
          "output_type": "display_data",
          "data": {
            "image/png": "[encoded data removed]",
            "text/plain": [
              "<Figure size 720x504 with 1 Axes>"
            ]
          },
          "metadata": {
            "tags": [],
            "needs_background": "light"
          }
        }
      ]
    },
    {
      "cell_type": "code",
      "metadata": {
        "id": "n5i-4pyV-jUY",
        "colab_type": "code",
        "colab": {
          "base_uri": "https://localhost:8080/",
          "height": 254
        },
        "outputId": "8408f1b7-cea3-4a3d-ac4b-6d1917a801ae"
      },
      "source": [
        " # Ahora veamos cuantos están en tratamiento\n",
        " df_brazil_monthly['Traitment'] = df_brazil_monthly['Confirmed'] -df_brazil_monthly['Deaths'] - df_brazil_monthly['Recovered']\n",
        " df_brazil_monthly"
      ],
      "execution_count": 257,
      "outputs": [
        {
          "output_type": "execute_result",
          "data": {
            "text/html": [
              "<div>\n",
              "<style scoped>\n",
              "    .dataframe tbody tr th:only-of-type {\n",
              "        vertical-align: middle;\n",
              "    }\n",
              "\n",
              "    .dataframe tbody tr th {\n",
              "        vertical-align: top;\n",
              "    }\n",
              "\n",
              "    .dataframe thead th {\n",
              "        text-align: right;\n",
              "    }\n",
              "</style>\n",
              "<table border=\"1\" class=\"dataframe\">\n",
              "  <thead>\n",
              "    <tr style=\"text-align: right;\">\n",
              "      <th></th>\n",
              "      <th>Confirmed</th>\n",
              "      <th>Deaths</th>\n",
              "      <th>Recovered</th>\n",
              "      <th>Traitment</th>\n",
              "    </tr>\n",
              "    <tr>\n",
              "      <th>ObservationDate</th>\n",
              "      <th></th>\n",
              "      <th></th>\n",
              "      <th></th>\n",
              "      <th></th>\n",
              "    </tr>\n",
              "  </thead>\n",
              "  <tbody>\n",
              "    <tr>\n",
              "      <th>2020-01-31</th>\n",
              "      <td>0.0</td>\n",
              "      <td>0.0</td>\n",
              "      <td>0.0</td>\n",
              "      <td>0.0</td>\n",
              "    </tr>\n",
              "    <tr>\n",
              "      <th>2020-02-29</th>\n",
              "      <td>2.0</td>\n",
              "      <td>0.0</td>\n",
              "      <td>0.0</td>\n",
              "      <td>2.0</td>\n",
              "    </tr>\n",
              "    <tr>\n",
              "      <th>2020-03-31</th>\n",
              "      <td>5717.0</td>\n",
              "      <td>201.0</td>\n",
              "      <td>127.0</td>\n",
              "      <td>5389.0</td>\n",
              "    </tr>\n",
              "    <tr>\n",
              "      <th>2020-04-30</th>\n",
              "      <td>87187.0</td>\n",
              "      <td>6006.0</td>\n",
              "      <td>35935.0</td>\n",
              "      <td>45246.0</td>\n",
              "    </tr>\n",
              "    <tr>\n",
              "      <th>2020-05-31</th>\n",
              "      <td>514849.0</td>\n",
              "      <td>29314.0</td>\n",
              "      <td>206555.0</td>\n",
              "      <td>278980.0</td>\n",
              "    </tr>\n",
              "    <tr>\n",
              "      <th>2020-06-30</th>\n",
              "      <td>923189.0</td>\n",
              "      <td>45241.0</td>\n",
              "      <td>490005.0</td>\n",
              "      <td>387943.0</td>\n",
              "    </tr>\n",
              "  </tbody>\n",
              "</table>\n",
              "</div>"
            ],
            "text/plain": [
              "                 Confirmed   Deaths  Recovered  Traitment\n",
              "ObservationDate                                          \n",
              "2020-01-31             0.0      0.0        0.0        0.0\n",
              "2020-02-29             2.0      0.0        0.0        2.0\n",
              "2020-03-31          5717.0    201.0      127.0     5389.0\n",
              "2020-04-30         87187.0   6006.0    35935.0    45246.0\n",
              "2020-05-31        514849.0  29314.0   206555.0   278980.0\n",
              "2020-06-30        923189.0  45241.0   490005.0   387943.0"
            ]
          },
          "metadata": {
            "tags": []
          },
          "execution_count": 257
        }
      ]
    },
    {
      "cell_type": "code",
      "metadata": {
        "id": "esdU0MWi-9vI",
        "colab_type": "code",
        "colab": {
          "base_uri": "https://localhost:8080/",
          "height": 270
        },
        "outputId": "92531807-d075-4436-e55a-16e1833c0c72"
      },
      "source": [
        "# Grafiquemos estos datos en una grafica de pastel\n",
        "df_brazil_monthly[['Deaths','Recovered','Traitment']].T.plot(figsize=(10,7),kind = 'pie',subplots=True)"
      ],
      "execution_count": 259,
      "outputs": [
        {
          "output_type": "stream",
          "text": [
            "No handles with labels found to put in legend.\n"
          ],
          "name": "stderr"
        },
        {
          "output_type": "execute_result",
          "data": {
            "text/plain": [
              "array([<matplotlib.axes._subplots.AxesSubplot object at 0x7fabc2f18d68>,\n",
              "       <matplotlib.axes._subplots.AxesSubplot object at 0x7fabc2f469b0>,\n",
              "       <matplotlib.axes._subplots.AxesSubplot object at 0x7fabc2ef49b0>,\n",
              "       <matplotlib.axes._subplots.AxesSubplot object at 0x7fabc2ea5f98>,\n",
              "       <matplotlib.axes._subplots.AxesSubplot object at 0x7fabc2e66208>,\n",
              "       <matplotlib.axes._subplots.AxesSubplot object at 0x7fabc2e16438>],\n",
              "      dtype=object)"
            ]
          },
          "metadata": {
            "tags": []
          },
          "execution_count": 259
        },
        {
          "output_type": "display_data",
          "data": {
            "image/png": "[encoded data removed]",
            "text/plain": [
              "<Figure size 720x504 with 6 Axes>"
            ]
          },
          "metadata": {
            "tags": []
          }
        }
      ]
    },
    {
      "cell_type": "code",
      "metadata": {
        "id": "YcoH1jEV_aLC",
        "colab_type": "code",
        "colab": {
          "base_uri": "https://localhost:8080/",
          "height": 445
        },
        "outputId": "6eebe341-2e12-402c-d7ee-231929d07126"
      },
      "source": [
        "#Veamos el histograma\n",
        "df_brazil['Rate'] = 1 - df_brazil['Deaths']/df_brazil['Confirmed']\n",
        "df_brazil['Rate'].hist(figsize=(10,7),bins = 10)"
      ],
      "execution_count": 260,
      "outputs": [
        {
          "output_type": "execute_result",
          "data": {
            "text/plain": [
              "<matplotlib.axes._subplots.AxesSubplot at 0x7fabc2f79780>"
            ]
          },
          "metadata": {
            "tags": []
          },
          "execution_count": 260
        },
        {
          "output_type": "display_data",
          "data": {
            "image/png": "[encoded data removed]",
            "text/plain": [
              "<Figure size 720x504 with 1 Axes>"
            ]
          },
          "metadata": {
            "tags": [],
            "needs_background": "light"
          }
        }
      ]
    },
    {
      "cell_type": "code",
      "metadata": {
        "id": "UE8-Kr7U_9DK",
        "colab_type": "code",
        "colab": {
          "base_uri": "https://localhost:8080/",
          "height": 445
        },
        "outputId": "9efc4349-a84a-420d-c587-90488a33c964"
      },
      "source": [
        "df_brazil['Rate'].plot(kind='kde',figsize=(10,7))"
      ],
      "execution_count": 261,
      "outputs": [
        {
          "output_type": "execute_result",
          "data": {
            "text/plain": [
              "<matplotlib.axes._subplots.AxesSubplot at 0x7fabc2d47908>"
            ]
          },
          "metadata": {
            "tags": []
          },
          "execution_count": 261
        },
        {
          "output_type": "display_data",
          "data": {
            "image/png": "[encoded data removed]",
            "text/plain": [
              "<Figure size 720x504 with 1 Axes>"
            ]
          },
          "metadata": {
            "tags": [],
            "needs_background": "light"
          }
        }
      ]
    },
    {
      "cell_type": "code",
      "metadata": {
        "id": "hA--qYVfALDF",
        "colab_type": "code",
        "colab": {}
      },
      "source": [
        ""
      ],
      "execution_count": null,
      "outputs": []
    }
  ]
}